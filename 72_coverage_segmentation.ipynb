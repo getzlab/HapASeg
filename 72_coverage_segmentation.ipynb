{
 "cells": [
  {
   "cell_type": "code",
   "execution_count": 1,
   "id": "1b1eb25f-43a9-4ed3-92a2-dd93327b5133",
   "metadata": {
    "tags": []
   },
   "outputs": [],
   "source": [
    "import itertools\n",
    "import matplotlib.pyplot as plt\n",
    "import matplotlib as mpl\n",
    "import numpy as np\n",
    "import numpy_groupies as npg\n",
    "import pandas as pd\n",
    "import scipy.stats as s\n",
    "import scipy.special as ss\n",
    "import sortedcontainers as sc\n",
    "import os"
   ]
  },
  {
   "cell_type": "code",
   "execution_count": 2,
   "id": "0aa12024-e840-4337-af57-0e8387c685c2",
   "metadata": {},
   "outputs": [],
   "source": [
    "import tqdm"
   ]
  },
  {
   "cell_type": "code",
   "execution_count": 3,
   "id": "1c953f23-53aa-4935-a194-c885345c247e",
   "metadata": {},
   "outputs": [
    {
     "name": "stderr",
     "output_type": "stream",
     "text": [
      "Cannot find path to gnomAD index; gnomAD functionality disabled.\n"
     ]
    }
   ],
   "source": [
    "os.environ[\"CAPY_REF_FA\"] = \"/Users/opriebe/dev/mutsig3/GRCh38.d1.vd1.fa\"\n",
    "import hapaseg.coverage_MCMC as mcmc_cov\n",
    "from capy import mut, seq"
   ]
  },
  {
   "cell_type": "markdown",
   "id": "8f38de57-074c-4ef4-a84c-e5e1938c9d9e",
   "metadata": {},
   "source": [
    "Load MCMC trace over SNP DP cluster assignments. Still looking at only the high purity exome"
   ]
  },
  {
   "cell_type": "code",
   "execution_count": 4,
   "id": "d9699687-873a-4ffb-acb0-e649fd17611e",
   "metadata": {},
   "outputs": [],
   "source": [
    "colors = mpl.cm.get_cmap(\"tab10\").colors"
   ]
  },
  {
   "cell_type": "markdown",
   "id": "778fa1e2-5d74-4fab-8dcc-c62caa9466ba",
   "metadata": {},
   "source": [
    "### Load coverage"
   ]
  },
  {
   "cell_type": "code",
   "execution_count": 5,
   "id": "d38e8a92-ab14-41ea-9ff3-a8aa8cfcaf0b",
   "metadata": {},
   "outputs": [],
   "source": [
    "Cov = pd.read_csv(\"exome/6_C1D1_META.cov\", sep = \"\\t\", names = [\"chr\", \"start\", \"end\", \"covcorr\", \"covraw\"], low_memory=False)\n",
    "Cov[\"chr\"] = mut.convert_chr(Cov[\"chr\"])\n",
    "Cov = Cov.loc[Cov[\"chr\"] != 0]\n",
    "Cov[\"start_g\"] = seq.chrpos2gpos(Cov[\"chr\"], Cov[\"start\"])\n",
    "Cov[\"end_g\"] = seq.chrpos2gpos(Cov[\"chr\"], Cov[\"end\"])"
   ]
  },
  {
   "cell_type": "markdown",
   "id": "08948de5-492d-46dc-84ff-e4e3acbc27e8",
   "metadata": {},
   "source": [
    "### Load covariates"
   ]
  },
  {
   "cell_type": "code",
   "execution_count": 6,
   "id": "e97b3715-4f70-40fb-bee5-b1b19cfc5c45",
   "metadata": {},
   "outputs": [],
   "source": [
    "Cov[\"C_len\"] = Cov[\"end\"] - Cov[\"start\"] + 1\n",
    "\n",
    "# load repl timing\n",
    "F = pd.read_pickle(\"covars/GSE137764_H1.hg19_liftover.pickle\")\n",
    "\n",
    "# map targets to RT intervals\n",
    "tidx = mut.map_mutations_to_targets(Cov.rename(columns = { \"start\" : \"pos\" }), F, inplace = False)\n",
    "Cov.loc[tidx.index, \"C_RT\"] = F.iloc[tidx, 3:].mean(1).values\n",
    "\n",
    "# z-transform\n",
    "Cov[\"C_RT_z\"] = (lambda x : (x - np.nanmean(x))/np.nanstd(x))(np.log(Cov[\"C_RT\"] + 1e-20))\n",
    "\n",
    "#load GC content\n",
    "B = pd.read_pickle(\"covars/GC.pickle\")\n",
    "Cov = Cov.merge(B.rename(columns = { \"gc\" : \"C_GC\" }), left_on = [\"chr\", \"start\", \"end\"], right_on = [\"chr\", \"start\", \"end\"], how = \"left\")\n",
    "Cov[\"C_GC_z\"] = (lambda x : (x - np.nanmean(x))/np.nanstd(x))(np.log(Cov[\"C_GC\"] + 1e-20))"
   ]
  },
  {
   "cell_type": "code",
   "execution_count": 7,
   "id": "04afecec-28b9-4b93-8a57-c885b8e561d9",
   "metadata": {},
   "outputs": [],
   "source": [
    "clust = np.load(\"exome/6_C1D1_META.DP_clusts.auto_ref_correct.overdispersion92.no_phase_correct.npz\")"
   ]
  },
  {
   "cell_type": "markdown",
   "id": "a1aaa3ea-337a-443c-86ce-3a693c991886",
   "metadata": {
    "tags": []
   },
   "source": [
    "#### Load chromosome boundary coordinates"
   ]
  },
  {
   "cell_type": "code",
   "execution_count": 8,
   "id": "eb227566-df9c-43e9-8b1f-5afbb70aac72",
   "metadata": {},
   "outputs": [],
   "source": [
    "allelic_segs = pd.read_pickle(\"exome/6_C1D1_META.allelic_segs.auto_ref_correct.overdispersion92.no_phase_correct.pickle\")\n",
    "chrbdy = allelic_segs.dropna().loc[:, [\"start\", \"end\"]]\n",
    "chr_ends = chrbdy.loc[chrbdy[\"start\"] != 0, \"end\"].cumsum()"
   ]
  },
  {
   "cell_type": "markdown",
   "id": "5ff7aacf-ad98-43e3-ac4e-7a234574bee4",
   "metadata": {},
   "source": [
    "### load SNPs"
   ]
  },
  {
   "cell_type": "code",
   "execution_count": 9,
   "id": "b8258448-2e14-4abc-ad85-ad4a6d86cfd6",
   "metadata": {},
   "outputs": [],
   "source": [
    "SNPs = pd.read_pickle(\"exome/6_C1D1_META.SNPs.pickle\")\n",
    "SNPs[\"chr\"], SNPs[\"pos\"] = seq.gpos2chrpos(SNPs[\"gpos\"])\n",
    "\n",
    "SNPs[\"tidx\"] = mut.map_mutations_to_targets(SNPs, Cov, inplace = False)\n",
    "\n",
    "#generate unique clust assignments\n",
    "clust_u, clust_uj = np.unique(clust[\"snps_to_clusters\"], return_inverse = True)\n",
    "clust_uj = clust_uj.reshape(clust[\"snps_to_clusters\"].shape)\n",
    "\n",
    "#assign coverage intervals to clusters\n",
    "Cov_clust_probs = np.zeros([len(Cov), clust_u.max()])\n",
    "\n",
    "for targ, snp_idx in SNPs.groupby(\"tidx\").indices.items():\n",
    "    targ_clust_hist = np.bincount(clust_uj[:, snp_idx].ravel(), minlength = clust_u.max())\n",
    "\n",
    "    Cov_clust_probs[int(targ), :] = targ_clust_hist/targ_clust_hist.sum()\n",
    "\n",
    "#subset intervals containing SNPs\n",
    "overlap_idx = Cov_clust_probs.sum(1) > 0\n",
    "Cov_clust_probs_overlap = Cov_clust_probs[overlap_idx, :]\n",
    "\n",
    "#prone improbable assignments\n",
    "Cov_clust_probs_overlap[Cov_clust_probs_overlap < 0.05] = 0\n",
    "Cov_clust_probs_overlap /= Cov_clust_probs_overlap.sum(1)[:, None]\n",
    "prune_idx = Cov_clust_probs_overlap.sum(0) > 0\n",
    "Cov_clust_probs_overlap = Cov_clust_probs_overlap[:, prune_idx]"
   ]
  },
  {
   "cell_type": "code",
   "execution_count": 10,
   "id": "f13d4c95-c95c-4a6d-b0f6-f36c8c42229b",
   "metadata": {},
   "outputs": [],
   "source": [
    "#subsetting to only targets that overlap SNPs\n",
    "Cov_overlap = Cov.loc[overlap_idx, :]\n",
    "\n",
    "r = np.c_[Cov_overlap[\"covcorr\"]]\n",
    "\n",
    "#making covariate matrix\n",
    "C = np.c_[np.log(Cov_overlap[\"C_len\"]), Cov_overlap[\"C_RT_z\"], Cov_overlap[\"C_GC_z\"]]\n",
    "\n",
    "Pi = Cov_clust_probs_overlap.copy()"
   ]
  },
  {
   "cell_type": "code",
   "execution_count": 11,
   "id": "a6450296-7445-4241-bda2-3b4ff3f75a10",
   "metadata": {},
   "outputs": [],
   "source": [
    "#dropping Nans\n",
    "naidx = np.isnan(C[:, 1])\n",
    "r = r[~naidx]\n",
    "C = C[~naidx]\n",
    "Pi = Pi[~naidx]"
   ]
  },
  {
   "cell_type": "code",
   "execution_count": 12,
   "id": "d60e01bb-5588-4c43-8dde-27271241daa5",
   "metadata": {},
   "outputs": [],
   "source": [
    "Cov_overlap = Cov_overlap.iloc[~naidx]"
   ]
  },
  {
   "cell_type": "code",
   "execution_count": 13,
   "id": "36c3ae20-bc12-4e36-a88c-889445be9c03",
   "metadata": {},
   "outputs": [],
   "source": [
    "#strategy: make B - 1 breakpoints for B bins but do not allow breakpoints between chromosomes to be picked\n",
    "cov_breaks = sc.SortedSet(np.r_[:len(Cov_overlap)])\n",
    "_ = [cov_breaks.discard(elt) for elt in Cov_overlap.groupby('chr').size().cumsum().values -1]"
   ]
  },
  {
   "cell_type": "code",
   "execution_count": 14,
   "id": "59330e53-3daf-4445-a4bb-c13e1c476f23",
   "metadata": {},
   "outputs": [],
   "source": [
    "# pick random breakpoint\n",
    "break_pick = cov_breaks[np.random.choice(len(cov_breaks))]"
   ]
  },
  {
   "cell_type": "code",
   "execution_count": 15,
   "id": "1cf58a0f-a9fd-4661-8313-3629c649aa26",
   "metadata": {},
   "outputs": [],
   "source": [
    "mu = np.log(r.mean()*np.ones([Pi.shape[1], 1]))\n",
    "beta = np.ones([C.shape[1], 1])\n",
    "mu_i = np.zeros(C.shape[0])"
   ]
  },
  {
   "cell_type": "markdown",
   "id": "2c6efe02-970e-4d8a-aa93-72c8b439b549",
   "metadata": {},
   "source": [
    "## Define optimization functions"
   ]
  },
  {
   "cell_type": "code",
   "execution_count": 16,
   "id": "a0de2499-b248-44b3-9ea6-bb509e3b1291",
   "metadata": {
    "jupyter": {
     "source_hidden": true
    },
    "tags": []
   },
   "outputs": [],
   "source": [
    "# mu gradient\n",
    "def gradmu(mu, beta, r, C, Pi, mu_i):\n",
    "    e = np.exp(C@beta + Pi@mu + mu_i[:, None])\n",
    "    return Pi.T@(r - e)\n",
    "\n",
    "# mu Hessian\n",
    "def hessmu(mu, beta, r, C, Pi, mu_i): \n",
    "    e = np.exp(C@beta + Pi@mu + mu_i[:, None])\n",
    "    return -Pi.T@np.diag(e.ravel())@Pi\n",
    "\n",
    "# beta gradient\n",
    "def gradbeta(beta, mu, r, C, Pi, mu_i):\n",
    "    e = np.exp(C@beta + Pi@mu + mu_i[:, None])\n",
    "    return C.T@(r - e)\n",
    "\n",
    "# beta Hessian\n",
    "def hessbeta(beta, mu, r, C, Pi, mu_i): \n",
    "    e = np.exp(C@beta + Pi@mu + mu_i[:, None])\n",
    "    return -C.T@np.diag(e.ravel())@C\n",
    "\n",
    "# mu,beta Hessian\n",
    "def hessmubeta(mu, beta, r, C, Pi, mu_i):\n",
    "    e = np.exp(C@beta + Pi@mu + mu_i[:, None])\n",
    "    return -C.T@np.diag(e.ravel())@Pi\n",
    "\n",
    "# join mu gradient\n",
    "def joingradmu(mu, beta, r, C, Pi, mu_i, mu_share, ind_l, ind_r):\n",
    "    #ind_l and ind_r are (st, end) index tuples for the intervals contained in the left and right segments to join\n",
    "    e_l = np.exp(C[ind_l[0]:ind_l[1]]@beta + Pi[ind_l[0]:ind_l[1]] @ mu + mu_share)\n",
    "    e_r = np.exp(C[ind_r[0]:ind_r[1]]@beta + Pi[ind_r[0]:ind_r[1]] @ mu + mu_share)\n",
    "\n",
    "    e_outer_l = np.exp(C[:ind_l[0]]@beta + Pi[:ind_l[0]] @ mu + mu_i[:ind_l[0], None])\n",
    "    e_outer_r = np.exp(C[ind_r[1]:]@beta + Pi[ind_r[1]:] @ mu + mu_i[ind_r[1]:, None])\n",
    "\n",
    "    grad_l = Pi[ind_l[0]:ind_l[1]].T@(r[ind_l[0]:ind_l[1]] - e_l)\n",
    "    grad_r = Pi[ind_r[0]:ind_r[1]].T@(r[ind_r[0]:ind_r[1]] - e_r)\n",
    "\n",
    "    grad_outer_l = Pi[:ind_l[0]].T@(r[:ind_l[0]] - e_outer_l)\n",
    "    grad_outer_r = Pi[ind_r[1]:].T@(r[ind_r[1]:] - e_outer_r)\n",
    "    return grad_l + grad_r + grad_outer_l + grad_outer_r\n",
    "\n",
    "#join beta gradient\n",
    "def joingradbeta(mu, beta, r, C, Pi, mu_i, mu_share, ind_l, ind_r):\n",
    "    e_l = np.exp(C[ind_l[0]:ind_l[1]]@beta + Pi[ind_l[0]:ind_l[1]] @ mu + mu_share)\n",
    "    e_r = np.exp(C[ind_r[0]:ind_r[1]]@beta + Pi[ind_r[0]:ind_r[1]] @ mu + mu_share)\n",
    "\n",
    "    e_outer_l = np.exp(C[:ind_l[0]]@beta + Pi[:ind_l[0]] @ mu + mu_i[:ind_l[0], None])\n",
    "    e_outer_r = np.exp(C[ind_r[1]:]@beta + Pi[ind_r[1]:] @ mu + mu_i[ind_r[1]:, None])\n",
    "\n",
    "    grad_l = C[ind_l[0]:ind_l[1]].T@(r[ind_l[0]:ind_l[1]] - e_l)\n",
    "    grad_r = C[ind_r[0]:ind_r[1]].T@(r[ind_r[0]:ind_r[1]] - e_r)\n",
    "\n",
    "    grad_outer_l = C[:ind_l[0]].T@(r[:ind_l[0]] - e_outer_l)\n",
    "    grad_outer_r = C[ind_r[1]:].T@(r[ind_r[1]:] - e_outer_r)\n",
    "    return grad_l + grad_r + grad_outer_l + grad_outer_r\n",
    "\n",
    "#join mu_shared gradient\n",
    "def joingradmu_shared(mu, beta, r, C, Pi, mu_i, mu_share, ind_l, ind_r):\n",
    "    e_l = np.exp(C[ind_l[0]:ind_l[1]]@beta + Pi[ind_l[0]:ind_l[1]] @ mu + mu_share)\n",
    "    e_r = np.exp(C[ind_r[0]:ind_r[1]]@beta + Pi[ind_r[0]:ind_r[1]] @ mu + mu_share)\n",
    "    \n",
    "    grad_l = r[ind_l[0]:ind_l[1]] - e_l\n",
    "    grad_r = r[ind_r[0]:ind_r[1]] - e_r\n",
    "    return (grad_l.sum() + grad_r.sum())[None,None]\n",
    "\n",
    "#join mu hessian\n",
    "def joinhessmu(mu, beta, r, C, Pi, mu_i, mu_share, ind_l, ind_r):\n",
    "    e_l = np.exp(C[ind_l[0]:ind_l[1]]@beta + Pi[ind_l[0]:ind_l[1]] @ mu + mu_share)\n",
    "    e_r = np.exp(C[ind_r[0]:ind_r[1]]@beta + Pi[ind_r[0]:ind_r[1]] @ mu + mu_share)\n",
    "\n",
    "    e_outer_l = np.exp(C[:ind_l[0]]@beta + Pi[:ind_l[0]] @ mu + mu_i[:ind_l[0], None])\n",
    "    e_outer_r = np.exp(C[ind_r[1]:]@beta + Pi[ind_r[1]:] @ mu + mu_i[ind_r[1]:, None])\n",
    "    \n",
    "    hess_l = -Pi[ind_l[0]:ind_l[1]].T@np.diag(e_l.ravel())@Pi[ind_l[0]:ind_l[1]]\n",
    "    hess_r = -Pi[ind_r[0]:ind_r[1]].T@np.diag(e_r.ravel())@Pi[ind_r[0]:ind_r[1]]\n",
    "    \n",
    "    hess_outer_l = -Pi[:ind_l[0]].T@np.diag(e_outer_l.ravel())@Pi[:ind_l[0]]\n",
    "    hess_outer_r = -Pi[ind_r[1]:].T@np.diag(e_outer_r.ravel())@Pi[ind_r[1]:]\n",
    "    \n",
    "    return hess_l + hess_r + hess_outer_l + hess_outer_r\n",
    "\n",
    "def joinhessbeta(mu, beta, r, C, Pi, mu_i, mu_share, ind_l, ind_r):\n",
    "    e_l = np.exp(C[ind_l[0]:ind_l[1]]@beta + Pi[ind_l[0]:ind_l[1]] @ mu + mu_share)\n",
    "    e_r = np.exp(C[ind_r[0]:ind_r[1]]@beta + Pi[ind_r[0]:ind_r[1]] @ mu + mu_share)\n",
    "\n",
    "    e_outer_l = np.exp(C[:ind_l[0]]@beta + Pi[:ind_l[0]] @ mu + mu_i[:ind_l[0], None])\n",
    "    e_outer_r = np.exp(C[ind_r[1]:]@beta + Pi[ind_r[1]:] @ mu + mu_i[ind_r[1]:, None])\n",
    "    \n",
    "    hess_l = -C[ind_l[0]:ind_l[1]].T@np.diag(e_l.ravel())@C[ind_l[0]:ind_l[1]]\n",
    "    hess_r = -C[ind_r[0]:ind_r[1]].T@np.diag(e_r.ravel())@C[ind_r[0]:ind_r[1]]\n",
    "    \n",
    "    hess_outer_l = -C[:ind_l[0]].T@np.diag(e_outer_l.ravel())@C[:ind_l[0]]\n",
    "    hess_outer_r = -C[ind_r[1]:].T@np.diag(e_outer_r.ravel())@C[ind_r[1]:]\n",
    "    \n",
    "    return hess_l + hess_r + hess_outer_l + hess_outer_r\n",
    "\n",
    "def joinhessmubeta(mu, beta, r, C, Pi, mu_i, mu_share, ind_l, ind_r):\n",
    "    e_l = np.exp(C[ind_l[0]:ind_l[1]]@beta + Pi[ind_l[0]:ind_l[1]] @ mu + mu_share)\n",
    "    e_r = np.exp(C[ind_r[0]:ind_r[1]]@beta + Pi[ind_r[0]:ind_r[1]] @ mu + mu_share)\n",
    "\n",
    "    e_outer_l = np.exp(C[:ind_l[0]]@beta + Pi[:ind_l[0]] @ mu + mu_i[:ind_l[0], None])\n",
    "    e_outer_r = np.exp(C[ind_r[1]:]@beta + Pi[ind_r[1]:] @ mu + mu_i[ind_r[1]:, None])\n",
    "    \n",
    "    hess_l = -C[ind_l[0]:ind_l[1]].T@np.diag(e_l.ravel())@Pi[ind_l[0]:ind_l[1]]\n",
    "    hess_r = -C[ind_r[0]:ind_r[1]].T@np.diag(e_r.ravel())@Pi[ind_r[0]:ind_r[1]]\n",
    "    \n",
    "    hess_outer_l = -C[:ind_l[0]].T@np.diag(e_outer_l.ravel())@Pi[:ind_l[0]]\n",
    "    hess_outer_r = -C[ind_r[1]:].T@np.diag(e_outer_r.ravel())@Pi[ind_r[1]:]\n",
    "    \n",
    "    return hess_l + hess_r + hess_outer_l + hess_outer_r\n",
    "\n",
    "def joinhessmumu_shared(mu, beta, r, C, Pi, mu_i, mu_share, ind_l, ind_r):\n",
    "    e_l = np.exp(C[ind_l[0]:ind_l[1]]@beta + Pi[ind_l[0]:ind_l[1]] @ mu + mu_share)\n",
    "    e_r = np.exp(C[ind_r[0]:ind_r[1]]@beta + Pi[ind_r[0]:ind_r[1]] @ mu + mu_share)\n",
    "\n",
    "    hess_l = -Pi[ind_l[0]:ind_l[1]].T@e_l * mu_share\n",
    "    hess_r = - Pi[ind_r[0]:ind_r[1]].T@e_r * mu_share\n",
    "    return hess_l + hess_r\n",
    "\n",
    "def joinhessbetamu_shared(mu, beta, r, C, Pi, mu_i, mu_share, ind_l, ind_r):\n",
    "    e_l = np.exp(C[ind_l[0]:ind_l[1]]@beta + Pi[ind_l[0]:ind_l[1]] @ mu + mu_share)\n",
    "    e_r = np.exp(C[ind_r[0]:ind_r[1]]@beta + Pi[ind_r[0]:ind_r[1]] @ mu + mu_share)\n",
    "\n",
    "    hess_l = -C[ind_l[0]:ind_l[1]].T@e_l * mu_share\n",
    "    hess_r = -C[ind_r[0]:ind_r[1]].T@e_r * mu_share\n",
    "    return hess_l + hess_r\n",
    "\n",
    "def joinhessmu_shared(mu, beta, r, C, Pi, mu_i, mu_share, ind_l, ind_r):\n",
    "    e_l = np.exp(C[ind_l[0]:ind_l[1]]@beta + Pi[ind_l[0]:ind_l[1]] @ mu + mu_share)\n",
    "    e_r = np.exp(C[ind_r[0]:ind_r[1]]@beta + Pi[ind_r[0]:ind_r[1]] @ mu + mu_share)\n",
    "    \n",
    "    return (-e_l.sum() - e_r.sum())[None,None]\n",
    "\n",
    "################## split methods ###############\n",
    "def splitgradmu(mu, beta, r, C, Pi, mu_i, mu_l, mu_r, ind_l, ind_r):\n",
    "    #ind_l and ind_r are (st, end) index tuples for the intervals contained in the left and right segments to split\n",
    "    e_l = np.exp(C[ind_l[0]:ind_l[1]]@beta + Pi[ind_l[0]:ind_l[1]] @ mu + mu_l)\n",
    "    e_r = np.exp(C[ind_r[0]:ind_r[1]]@beta + Pi[ind_r[0]:ind_r[1]] @ mu + mu_r)\n",
    "\n",
    "    e_outer_l = np.exp(C[:ind_l[0]]@beta + Pi[:ind_l[0]] @ mu + mu_i[:ind_l[0], None])\n",
    "    e_outer_r = np.exp(C[ind_r[1]:]@beta + Pi[ind_r[1]:] @ mu + mu_i[ind_r[1]:, None])\n",
    "\n",
    "    grad_l = Pi[ind_l[0]:ind_l[1]].T@(r[ind_l[0]:ind_l[1]] - e_l)\n",
    "    grad_r = Pi[ind_r[0]:ind_r[1]].T@(r[ind_r[0]:ind_r[1]] - e_r)\n",
    "\n",
    "    grad_outer_l = Pi[:ind_l[0]].T@(r[:ind_l[0]] - e_outer_l)\n",
    "    grad_outer_r = Pi[ind_r[1]:].T@(r[ind_r[1]:] - e_outer_r)\n",
    "    return grad_l + grad_r + grad_outer_l + grad_outer_r\n",
    "\n",
    "def splitgradbeta(mu, beta, r, C, Pi, mu_i, mu_l, mu_r, ind_l, ind_r):\n",
    "    e_l = np.exp(C[ind_l[0]:ind_l[1]]@beta + Pi[ind_l[0]:ind_l[1]] @ mu + mu_l)\n",
    "    e_r = np.exp(C[ind_r[0]:ind_r[1]]@beta + Pi[ind_r[0]:ind_r[1]] @ mu + mu_r)\n",
    "\n",
    "    e_outer_l = np.exp(C[:ind_l[0]]@beta + Pi[:ind_l[0]] @ mu + mu_i[:ind_l[0], None])\n",
    "    e_outer_r = np.exp(C[ind_r[1]:]@beta + Pi[ind_r[1]:] @ mu + mu_i[ind_r[1]:, None])\n",
    "\n",
    "    grad_l = C[ind_l[0]:ind_l[1]].T@(r[ind_l[0]:ind_l[1]] - e_l)\n",
    "    grad_r = C[ind_r[0]:ind_r[1]].T@(r[ind_r[0]:ind_r[1]] - e_r)\n",
    "\n",
    "    grad_outer_l = C[:ind_l[0]].T@(r[:ind_l[0]] - e_outer_l)\n",
    "    grad_outer_r = C[ind_r[1]:].T@(r[ind_r[1]:] - e_outer_r)\n",
    "    return grad_l + grad_r + grad_outer_l + grad_outer_r\n",
    "\n",
    "def splitgradmu_l(mu, beta, r, C, Pi, mu_i, mu_l, mu_r, ind_l, ind_r):\n",
    "    e_l = np.exp(C[ind_l[0]:ind_l[1]]@beta + Pi[ind_l[0]:ind_l[1]] @ mu + mu_l)\n",
    "    \n",
    "    grad_l = r[ind_l[0]:ind_l[1]] - e_l\n",
    "    return grad_l.sum()[None,None]\n",
    "\n",
    "def splitgradmu_r(mu, beta, r, C, Pi, mu_i, mu_l, mu_r, ind_l, ind_r):\n",
    "    e_r = np.exp(C[ind_r[0]:ind_r[1]]@beta + Pi[ind_r[0]:ind_r[1]] @ mu + mu_r)\n",
    "    \n",
    "    grad_r = r[ind_r[0]:ind_r[1]] - e_r\n",
    "    return grad_r.sum()[None,None]\n",
    "\n",
    "def splithessmu(mu, beta, r, C, Pi, mu_i, mu_l, mu_r, ind_l, ind_r):\n",
    "    e_l = np.exp(C[ind_l[0]:ind_l[1]]@beta + Pi[ind_l[0]:ind_l[1]] @ mu + mu_l)\n",
    "    e_r = np.exp(C[ind_r[0]:ind_r[1]]@beta + Pi[ind_r[0]:ind_r[1]] @ mu + mu_r)\n",
    "\n",
    "    e_outer_l = np.exp(C[:ind_l[0]]@beta + Pi[:ind_l[0]] @ mu + mu_i[:ind_l[0], None])\n",
    "    e_outer_r = np.exp(C[ind_r[1]:]@beta + Pi[ind_r[1]:] @ mu + mu_i[ind_r[1]:, None])\n",
    "    \n",
    "    hess_l = -Pi[ind_l[0]:ind_l[1]].T@np.diag(e_l.ravel())@Pi[ind_l[0]:ind_l[1]]\n",
    "    hess_r = -Pi[ind_r[0]:ind_r[1]].T@np.diag(e_r.ravel())@Pi[ind_r[0]:ind_r[1]]\n",
    "    \n",
    "    hess_outer_l = -Pi[:ind_l[0]].T@np.diag(e_outer_l.ravel())@Pi[:ind_l[0]]\n",
    "    hess_outer_r = -Pi[ind_r[1]:].T@np.diag(e_outer_r.ravel())@Pi[ind_r[1]:]\n",
    "    \n",
    "    return hess_l + hess_r + hess_outer_l + hess_outer_r\n",
    "\n",
    "def splithessbeta(mu, beta, r, C, Pi, mu_i, mu_l, mu_r, ind_l, ind_r):\n",
    "    e_l = np.exp(C[ind_l[0]:ind_l[1]]@beta + Pi[ind_l[0]:ind_l[1]] @ mu + mu_l)\n",
    "    e_r = np.exp(C[ind_r[0]:ind_r[1]]@beta + Pi[ind_r[0]:ind_r[1]] @ mu + mu_r)\n",
    "\n",
    "    e_outer_l = np.exp(C[:ind_l[0]]@beta + Pi[:ind_l[0]] @ mu + mu_i[:ind_l[0], None])\n",
    "    e_outer_r = np.exp(C[ind_r[1]:]@beta + Pi[ind_r[1]:] @ mu + mu_i[ind_r[1]:, None])\n",
    "    \n",
    "    hess_l = -C[ind_l[0]:ind_l[1]].T@np.diag(e_l.ravel())@C[ind_l[0]:ind_l[1]]\n",
    "    hess_r = -C[ind_r[0]:ind_r[1]].T@np.diag(e_r.ravel())@C[ind_r[0]:ind_r[1]]\n",
    "    \n",
    "    hess_outer_l = -C[:ind_l[0]].T@np.diag(e_outer_l.ravel())@C[:ind_l[0]]\n",
    "    hess_outer_r = -C[ind_r[1]:].T@np.diag(e_outer_r.ravel())@C[ind_r[1]:]\n",
    "    \n",
    "    return hess_l + hess_r + hess_outer_l + hess_outer_r\n",
    "\n",
    "def splithessmu_l(mu, beta, r, C, Pi, mu_i, mu_l, mu_r, ind_l, ind_r):\n",
    "    e_l = np.exp(C[ind_l[0]:ind_l[1]]@beta + Pi[ind_l[0]:ind_l[1]] @ mu + mu_l)\n",
    "\n",
    "    return (-e_l).sum()[None,None]\n",
    "\n",
    "def splithessmu_r(mu, beta, r, C, Pi, mu_i, mu_l, mu_r, ind_l, ind_r):\n",
    "    e_r = np.exp(C[ind_r[0]:ind_r[1]]@beta + Pi[ind_r[0]:ind_r[1]] @ mu + mu_r)\n",
    "\n",
    "    return (-e_r).sum()[None,None]\n",
    "\n",
    "def splithessmubeta(mu, beta, r, C, Pi, mu_i, mu_l, mu_r, ind_l, ind_r):\n",
    "    e_l = np.exp(C[ind_l[0]:ind_l[1]]@beta + Pi[ind_l[0]:ind_l[1]] @ mu + mu_l)\n",
    "    e_r = np.exp(C[ind_r[0]:ind_r[1]]@beta + Pi[ind_r[0]:ind_r[1]] @ mu + mu_r)\n",
    "\n",
    "    e_outer_l = np.exp(C[:ind_l[0]]@beta + Pi[:ind_l[0]] @ mu + mu_i[:ind_l[0], None])\n",
    "    e_outer_r = np.exp(C[ind_r[1]:]@beta + Pi[ind_r[1]:] @ mu + mu_i[ind_r[1]:, None])\n",
    "    \n",
    "    hess_l = -C[ind_l[0]:ind_l[1]].T@np.diag(e_l.ravel())@Pi[ind_l[0]:ind_l[1]]\n",
    "    hess_r = -C[ind_r[0]:ind_r[1]].T@np.diag(e_r.ravel())@Pi[ind_r[0]:ind_r[1]]\n",
    "    \n",
    "    hess_outer_l = -C[:ind_l[0]].T@np.diag(e_outer_l.ravel())@Pi[:ind_l[0]]\n",
    "    hess_outer_r = -C[ind_r[1]:].T@np.diag(e_outer_r.ravel())@Pi[ind_r[1]:]\n",
    "    \n",
    "    return hess_l + hess_r + hess_outer_l + hess_outer_r\n",
    "\n",
    "def splithessmumu_l(mu, beta, r, C, Pi, mu_i, mu_l, mu_r, ind_l, ind_r):\n",
    "    e_l = np.exp(C[ind_l[0]:ind_l[1]]@beta + Pi[ind_l[0]:ind_l[1]] @ mu + mu_l)\n",
    "\n",
    "    hess_l = -Pi[ind_l[0]:ind_l[1]].T@e_l * mu_l\n",
    "    return hess_l\n",
    "\n",
    "def splithessmumu_r(mu, beta, r, C, Pi, mu_i, mu_l, mu_r, ind_l, ind_r):\n",
    "    e_r = np.exp(C[ind_r[0]:ind_r[1]]@beta + Pi[ind_r[0]:ind_r[1]] @ mu + mu_r)\n",
    "\n",
    "    hess_r = - Pi[ind_r[0]:ind_r[1]].T@e_r * mu_r\n",
    "    return hess_r\n",
    "\n",
    "def splithessbetamu_l(mu, beta, r, C, Pi, mu_i, mu_l, mu_r, ind_l, ind_r):\n",
    "    e_l = np.exp(C[ind_l[0]:ind_l[1]]@beta + Pi[ind_l[0]:ind_l[1]] @ mu + mu_l)\n",
    "\n",
    "    hess_l = -C[ind_l[0]:ind_l[1]].T@e_l * mu_l\n",
    "    return hess_l\n",
    "\n",
    "def splithessbetamu_r(mu, beta, r, C, Pi, mu_i, mu_l, mu_r, ind_l, ind_r):\n",
    "    e_r = np.exp(C[ind_r[0]:ind_r[1]]@beta + Pi[ind_r[0]:ind_r[1]] @ mu + mu_r)\n",
    "\n",
    "    hess_r = -C[ind_r[0]:ind_r[1]].T@e_r * mu_r\n",
    "    return hess_r\n",
    "\n",
    "def splithessmu_lr(*args):\n",
    "    return np.array(0)[None,None]"
   ]
  },
  {
   "cell_type": "code",
   "execution_count": 17,
   "id": "e5517454-a042-4dbb-9efd-8655e94e39d5",
   "metadata": {
    "jupyter": {
     "source_hidden": true
    },
    "tags": []
   },
   "outputs": [],
   "source": [
    "# join newton-raphson\n",
    "def NR_join(mu_0, beta_0, mu_share_0, r, C, Pi, mu_i, ind_l, ind_r, ret_hess = False):\n",
    "    mu = mu_0.copy()\n",
    "    beta = beta_0.copy()\n",
    "    mu_share = mu_share_0\n",
    "    \n",
    "    for i in range(100):\n",
    "        #print(mu, beta, mu_share)\n",
    "        gmu = joingradmu(mu, beta, r, C, Pi, mu_i, mu_share, ind_l, ind_r)\n",
    "        gbeta = joingradbeta(mu, beta, r, C, Pi, mu_i, mu_share, ind_l, ind_r)\n",
    "        gmu_share = joingradmu_shared(mu, beta, r, C, Pi, mu_i, mu_share, ind_l, ind_r)\n",
    "        grad = np.r_[gmu, gbeta, gmu_share]\n",
    "\n",
    "        hmu = joinhessmu(mu, beta, r, C, Pi, mu_i, mu_share, ind_l, ind_r)\n",
    "        hbeta = joinhessbeta(mu, beta, r, C, Pi, mu_i, mu_share, ind_l, ind_r)\n",
    "        hmubeta = joinhessmubeta(mu, beta, r, C, Pi, mu_i, mu_share, ind_l, ind_r)\n",
    "        hmu_shared = joinhessmu_shared(mu, beta, r, C, Pi, mu_i, mu_share, ind_l, ind_r)\n",
    "        hmumu_shared = joinhessmumu_shared(mu, beta, r, C, Pi, mu_i, mu_share, ind_l, ind_r)\n",
    "        hbetamu_shared = joinhessbetamu_shared(mu, beta, r, C, Pi, mu_i, mu_share, ind_l, ind_r)\n",
    "        H = np.r_[np.c_[hmu, hmubeta.T, hmumu_shared], np.c_[hmubeta, hbeta, hbetamu_shared], np.c_[hmumu_shared.T, hbetamu_shared.T, hmu_shared]]\n",
    "\n",
    "        delta = np.linalg.inv(H)@grad\n",
    "        mu -= delta[0:len(mu)]\n",
    "        beta -= delta[len(mu):-1]\n",
    "        mu_share -= delta[-1]\n",
    "\n",
    "        if np.linalg.norm(grad) < 1e-5:\n",
    "            break\n",
    "    if ret_hess:\n",
    "        return mu, beta, mu_share, H\n",
    "    else:\n",
    "        return mu, beta, mu_share"
   ]
  },
  {
   "cell_type": "code",
   "execution_count": 18,
   "id": "98fb8d6d-a62f-45a8-995a-dce7ab81a5c6",
   "metadata": {
    "jupyter": {
     "source_hidden": true
    },
    "tags": []
   },
   "outputs": [],
   "source": [
    "# split newton-raphson\n",
    "def NR_split(mu_0, beta_0, mu_l_0, mu_r_0, r, C, Pi, mu_i, ind_l, ind_r, ret_hess = False):\n",
    "    mu = mu_0.copy()\n",
    "    beta = beta_0.copy()\n",
    "    mu_l = mu_l_0\n",
    "    mu_r = mu_r_0\n",
    "    \n",
    "    for i in range(100):\n",
    "        #print(mu, beta, mu_l, mu_r)\n",
    "        gmu = splitgradmu(mu, beta, r, C, Pi, mu_i, mu_l, mu_r, ind_l, ind_r)\n",
    "        gbeta = splitgradbeta(mu, beta, r, C, Pi, mu_i, mu_l, mu_r, ind_l, ind_r)\n",
    "        gmu_l = splitgradmu_l(mu, beta, r, C, Pi, mu_i, mu_l, mu_r, ind_l, ind_r)\n",
    "        gmu_r = splitgradmu_r(mu, beta, r, C, Pi, mu_i, mu_l, mu_r, ind_l, ind_r)\n",
    "        grad = np.r_[gmu, gbeta, gmu_l, gmu_l]\n",
    "\n",
    "        hmu = splithessmu(mu, beta, r, C, Pi, mu_i, mu_l, mu_r, ind_l, ind_r)\n",
    "        hbeta = splithessbeta(mu, beta, r, C, Pi, mu_i, mu_l, mu_r, ind_l, ind_r)\n",
    "        hmubeta = splithessmubeta(mu, beta, r, C, Pi, mu_i, mu_l, mu_r, ind_l, ind_r)\n",
    "        hmu_l = splithessmu_l(mu, beta, r, C, Pi, mu_i, mu_l, mu_r, ind_l, ind_r)\n",
    "        hmu_r = splithessmu_r(mu, beta, r, C, Pi, mu_i, mu_l, mu_r, ind_l, ind_r)\n",
    "        hmumu_l = splithessmumu_l(mu, beta, r, C, Pi, mu_i, mu_l, mu_r, ind_l, ind_r)\n",
    "        hmumu_r = splithessmumu_r(mu, beta, r, C, Pi, mu_i, mu_l, mu_r, ind_l, ind_r)\n",
    "        hbetamu_l = splithessbetamu_l(mu, beta, r, C, Pi, mu_i, mu_l, mu_r, ind_l, ind_r)\n",
    "        hbetamu_r = splithessbetamu_r(mu, beta, r, C, Pi, mu_i, mu_l, mu_r, ind_l, ind_r)\n",
    "        hmu_lr = splithessmu_lr(mu, beta, r, C, Pi, mu_i, mu_l, mu_r, ind_l, ind_r)\n",
    "\n",
    "        H = np.r_[np.c_[hmu, hmubeta.T, hmumu_l, hmumu_r], np.c_[hmubeta, hbeta, hbetamu_l, hbetamu_r], np.c_[hmumu_l.T, hbetamu_l.T, hmu_l, hmu_lr], np.c_[hmumu_r.T, hbetamu_r.T, hmu_lr, hmu_r]]\n",
    "\n",
    "        delta = np.linalg.inv(H)@grad\n",
    "        mu -= delta[0:len(mu)]\n",
    "        beta -= delta[len(mu):-2]\n",
    "        mu_l -= delta[-2]\n",
    "        mu_r -= delta[-1]\n",
    "\n",
    "        if np.linalg.norm(grad) < 1e-5:\n",
    "            break\n",
    "    if ret_hess:\n",
    "        return mu, beta, mu_l, mu_r, H\n",
    "    else:\n",
    "        return mu, beta, mu_l, mu_r"
   ]
  },
  {
   "cell_type": "code",
   "execution_count": 19,
   "id": "3980ae6b-fb63-434b-bbd5-972fa81cf86b",
   "metadata": {
    "jupyter": {
     "source_hidden": true
    },
    "tags": []
   },
   "outputs": [],
   "source": [
    "# split newton-raphson\n",
    "def NR_split(mu, beta, mu_l_0, mu_r_0, r, C, Pi, mu_i, ind_l, ind_r, ret_hess = False):\n",
    "    mu_l = mu_l_0\n",
    "    mu_r = mu_r_0\n",
    "    \n",
    "    for i in range(100):\n",
    "        #print(mu, beta, mu_l, mu_r)\n",
    "        gmu_l = splitgradmu_l(mu, beta, r, C, Pi, mu_i, mu_l, mu_r, ind_l, ind_r)\n",
    "        gmu_r = splitgradmu_r(mu, beta, r, C, Pi, mu_i, mu_l, mu_r, ind_l, ind_r)\n",
    "        grad = np.r_[gmu_l, gmu_l]\n",
    "\n",
    "        hmu_l = splithessmu_l(mu, beta, r, C, Pi, mu_i, mu_l, mu_r, ind_l, ind_r)\n",
    "        hmu_r = splithessmu_r(mu, beta, r, C, Pi, mu_i, mu_l, mu_r, ind_l, ind_r)\n",
    "\n",
    "        H = np.r_[np.c_[hmu_l, 0], np.c_[0,hmu_r]]\n",
    "\n",
    "        delta = np.linalg.inv(H)@grad\n",
    "        mu_l -= delta[0]\n",
    "        mu_r -= delta[1]\n",
    "\n",
    "        if np.linalg.norm(grad) < 1e-5:\n",
    "            break\n",
    "    if ret_hess:\n",
    "        return mu_l, mu_r, H\n",
    "    else:\n",
    "        return mu_l, mu_r"
   ]
  },
  {
   "cell_type": "code",
   "execution_count": 20,
   "id": "11529ab6-2ec5-4dbf-bdc1-641034b02a2b",
   "metadata": {
    "jupyter": {
     "source_hidden": true
    },
    "tags": []
   },
   "outputs": [],
   "source": [
    "# join newton-raphson\n",
    "def NR_join(mu, beta, mu_share_0, r, C, Pi, mu_i, ind_l, ind_r, ret_hess = False):\n",
    "    mu_share = mu_share_0\n",
    "    \n",
    "    for i in range(100):\n",
    "        gmu_shared = joingradmu_shared(mu, beta, r, C, Pi, mu_i, mu_share, ind_l, ind_r)\n",
    "        hmu_shared = joinhessmu_shared(mu, beta, r, C, Pi, mu_i, mu_share, ind_l, ind_r)\n",
    "\n",
    "        delta = gmu_shared / hmu_shared\n",
    "        mu_share -= delta\n",
    "\n",
    "        if delta < 1e-5:\n",
    "            break\n",
    "    if ret_hess:\n",
    "        return mu_share, hmu_shared\n",
    "    else:\n",
    "        return mu_share"
   ]
  },
  {
   "cell_type": "code",
   "execution_count": 21,
   "id": "628c483b-a500-430f-aede-fbd404aab389",
   "metadata": {
    "jupyter": {
     "source_hidden": true
    },
    "tags": []
   },
   "outputs": [],
   "source": [
    "def NR_simp(mu_0, beta_0, r, C, Pi, mu_i):\n",
    "    mu = mu_0.copy()\n",
    "    beta = beta_0.copy()\n",
    "    \n",
    "    for i in range(100):\n",
    "        gmu = gradmu(mu, beta, r, C, Pi, mu_i)\n",
    "        gbeta = gradbeta(beta, mu, r, C, Pi, mu_i)\n",
    "        grad = np.r_[gmu, gbeta]\n",
    "\n",
    "        hmu = hessmu(mu, beta, r, C, Pi, mu_i)\n",
    "        hbeta = hessbeta(beta, mu, r, C, Pi, mu_i)\n",
    "        hmubeta = hessmubeta(mu, beta, r, C, Pi, mu_i)\n",
    "        H = np.r_[np.c_[hmu, hmubeta.T], np.c_[hmubeta, hbeta]]\n",
    "\n",
    "        delta = np.linalg.inv(H)@grad\n",
    "        mu -= delta[0:len(mu)]\n",
    "        beta -= delta[len(mu):]\n",
    "\n",
    "        if np.linalg.norm(grad) < 1e-5:\n",
    "            break\n",
    "    return mu, beta"
   ]
  },
  {
   "cell_type": "code",
   "execution_count": 22,
   "id": "0a734c77-0a42-4955-ba4b-d974047d44f9",
   "metadata": {
    "jupyter": {
     "source_hidden": true
    },
    "tags": []
   },
   "outputs": [],
   "source": [
    "def logp_join(mu_opt, beta_opt, r, C, Pi, mu_i, l_ind, r_ind):\n",
    "    mu_share, h_join = NR_join(mu_opt, beta_opt, 0, r, C, Pi, mu_i, l_ind, r_ind, True)\n",
    "    mu_l, mu_r , h_split= NR_split(mu_opt, beta_opt, 0, 0, r, C, Pi, mu_i, l_ind, r_ind, True)\n",
    "\n",
    "    logprod_j = np.log((2 * np.pi)**(h_join.shape[0] / 2) * (1 / np.sqrt(np.linalg.det(-h_join))))\n",
    "    logprod_s = np.log((2 * np.pi)**(h_split.shape[0] / 2) * (1 / np.sqrt(np.linalg.det(-h_split))))\n",
    "\n",
    "    ll_s = split_log_liklihood(mu_opt, beta_opt, mu_l, mu_r, r, C, Pi, mu_i, l_ind, r_ind)\n",
    "    ll_j = join_log_liklihood(mu_opt, beta_opt, mu_share, r, C, Pi, mu_i, l_ind, r_ind)\n",
    "\n",
    "    log_marg_ratio = ll_j + logprod_j - LSE(ll_j + logprod_j, ll_s + logprod_s)\n",
    "    return log_marg_ratio"
   ]
  },
  {
   "cell_type": "code",
   "execution_count": 23,
   "id": "518cea1f-a6d5-4475-9d91-748e52e02e8d",
   "metadata": {
    "jupyter": {
     "source_hidden": true
    },
    "tags": []
   },
   "outputs": [],
   "source": [
    "def log_join_marg_ratio(mu_opt, beta_opt, r, C, Pi, mu_i, l_ind, r_ind):\n",
    "    mu_share, h_join = NR_join(mu_opt, beta_opt, 0, r, C, Pi, mu_i, l_ind, r_ind, True)\n",
    "    mu_l, mu_r , h_split= NR_split(mu_opt, beta_opt, 0, 0, r, C, Pi, mu_i, l_ind, r_ind, True)\n",
    "\n",
    "    logprod_j = np.log((2 * np.pi)**(h_join.shape[0] / 2) * (1 / np.sqrt(np.linalg.det(-h_join))))\n",
    "    logprod_s = np.log((2 * np.pi)**(h_split.shape[0] / 2) * (1 / np.sqrt(np.linalg.det(-h_split))))\n",
    "\n",
    "    ll_s = split_log_liklihood(mu_opt, beta_opt, mu_l, mu_r, r, C, Pi, mu_i, l_ind, r_ind)\n",
    "    ll_j = join_log_liklihood(mu_opt, beta_opt, mu_share, r, C, Pi, mu_i, l_ind, r_ind)\n",
    "\n",
    "    log_marg_ratio = ll_j + logprod_j - (ll_s + logprod_s)\n",
    "    return log_marg_ratio"
   ]
  },
  {
   "cell_type": "code",
   "execution_count": 24,
   "id": "b64820f4-725d-476d-8a97-d7adea4ebfd9",
   "metadata": {
    "tags": []
   },
   "outputs": [],
   "source": [
    "def LSE(x, y):\n",
    "    lmax = max(x, y)\n",
    "    return lmax + np.log(np.exp(x - lmax) + np.exp(y - lmax))"
   ]
  },
  {
   "cell_type": "code",
   "execution_count": 25,
   "id": "1a375bc4-2e5e-47f0-a32b-95e933f5fed9",
   "metadata": {
    "jupyter": {
     "source_hidden": true
    },
    "tags": []
   },
   "outputs": [],
   "source": [
    "def split_log_liklihood(mu, beta, mu_l, mu_r, r, C, Pi, mu_i, ind_l, ind_r):\n",
    "    l_tmp = C[ind_l[0]:ind_l[1]]@beta + Pi[ind_l[0]:ind_l[1]] @ mu + mu_l\n",
    "    r_tmp = C[ind_r[0]:ind_r[1]]@beta + Pi[ind_r[0]:ind_r[1]] @ mu + mu_r\n",
    "    outer_l = C[:ind_l[0]]@beta + Pi[:ind_l[0]] @ mu + mu_i[:ind_l[0], None]\n",
    "    outer_r = C[ind_r[1]:]@beta + Pi[ind_r[1]:] @ mu + mu_i[ind_r[1]:, None]\n",
    "    e_l = np.exp(l_tmp)\n",
    "    e_r = np.exp(r_tmp)\n",
    "    e_outer_l = np.exp(outer_l)\n",
    "    e_outer_r = np.exp(outer_r)\n",
    "    \n",
    "    r_sum = r[ind_l[0]:ind_l[1]].T @ l_tmp - e_l.sum() - ss.gammaln(r[ind_l[0]:ind_l[1]]).sum()\n",
    "    l_sum = r[ind_r[0]:ind_r[1]].T @ r_tmp - e_r.sum() - ss.gammaln(r[ind_r[0]:ind_r[1]]).sum()\n",
    "    outer_sum_l = r[:ind_l[0]].T @ outer_l - e_outer_l.sum() - ss.gammaln(r[:ind_l[0]]).sum()\n",
    "    outer_sum_r = r[ind_r[1]:].T @ outer_r - e_outer_r.sum() - ss.gammaln(r[ind_r[1]:]).sum()\n",
    "    return l_sum + r_sum + outer_sum_l + outer_sum_r\n",
    "    \n",
    "def join_log_liklihood(mu, beta, mu_shared, r, C, Pi, mu_i, ind_l, ind_r):\n",
    "    joined = C[ind_l[0]:ind_r[1]]@beta + Pi[ind_l[0]:ind_r[1]] @ mu + mu_shared\n",
    "    outer_l = C[:ind_l[0]]@beta + Pi[:ind_l[0]] @ mu + mu_i[:ind_l[0], None]\n",
    "    outer_r = C[ind_r[1]:]@beta + Pi[ind_r[1]:] @ mu + mu_i[ind_r[1]:, None]\n",
    "    \n",
    "    e_joined = np.exp(joined)\n",
    "    e_outer_l = np.exp(outer_l)\n",
    "    e_outer_r = np.exp(outer_r)\n",
    "    \n",
    "    joined_sum = r[ind_l[0]:ind_r[1]].T @ joined - e_joined.sum() - ss.gammaln(r[ind_l[0]:ind_r[1]]).sum()\n",
    "    outer_sum_l = r[:ind_l[0]].T @ outer_l - e_outer_l.sum() - ss.gammaln(r[:ind_l[0]]).sum()\n",
    "    outer_sum_r = r[ind_r[1]:].T @ outer_r - e_outer_r.sum() - ss.gammaln(r[ind_r[1]:]).sum()\n",
    "    return joined_sum + outer_sum_l + outer_sum_r\n",
    "\n",
    "def laplace_approx():\n",
    "    pass"
   ]
  },
  {
   "cell_type": "markdown",
   "id": "62744562-e880-437f-ba65-1df36b665481",
   "metadata": {},
   "source": [
    "save the mu_i value for each of the segments\n",
    "\n",
    "at each step we chose a breakpoint, which is either within a segment (meaning the the two adjacent intervals defining it have been joined)(case a) or is not (case b).\n",
    "\n",
    "case a: we want to consider the two segments S_l and S_r that would be formed if the segment was split.\n",
    "\n",
    "case b: we want to conider the two adjacent currently existing segments\n",
    "\n",
    "necessary structures:\n",
    "- segmentID field in the Cov df, which is initialized to row num and represents the index in the df of the segment's leftmost member\n",
    "- seg_len dictionary that maps each segID to the number of bins spanned by it (can later default to 1 if not in dictionary)\n",
    "- interval mu field in cov df (or seperate numpy array)\n",
    "- state of interval assignment sin the nth iteration\n",
    "- some sorted dict of precomputed derivative/hessian values (maybe just the exponent?)\n",
    "\n",
    "procedure:\n",
    "- each coverage bin has its own segmentID field, which is initialized to its row num\n",
    "- whenever we consider a breakpoint we look at the two adjacent bins to determine whether they are in the same segment.\n",
    "- if we pick a breakpoint between two singleton intervals we compute marginal likelihoods and decide to join, which would result in setting their two segmentIDs to its leftmost member (i.e. lower index). We also update the mu_i dictionary (segmentID -> mu_i) to contain its shared optimal value while also discarding their old mu_i values (zeros)\n",
    "- if we pick a breakpoint between a segment and a singleton we can find the indices of each using its segmentID and the segmentID -> segment_len dictionary. and the mu_i values for each from the mu_i dictionary \n",
    "                    "
   ]
  },
  {
   "cell_type": "code",
   "execution_count": 27,
   "id": "8e987373-c7ae-47b4-8cbf-5a30f3359a78",
   "metadata": {},
   "outputs": [],
   "source": [
    "mcmc_C = mcmc_cov.Cov_MCMC(r, C, Pi, Cov_overlap)"
   ]
  },
  {
   "cell_type": "code",
   "execution_count": 31,
   "id": "9e68f287-14d5-4f03-8abd-bc29a21d11cb",
   "metadata": {},
   "outputs": [
    {
     "name": "stderr",
     "output_type": "stream",
     "text": [
      "100%|██████████████████████████████████████████████████████████████████████████████████| 50000/50000 [05:07<00:00, 162.73it/s]\n"
     ]
    }
   ],
   "source": [
    "mcmc_C.run(50000)"
   ]
  },
  {
   "cell_type": "code",
   "execution_count": 34,
   "id": "9714c751-1d5e-4294-92b9-bc728146f1f9",
   "metadata": {},
   "outputs": [
    {
     "data": {
      "text/plain": [
       "60000"
      ]
     },
     "execution_count": 34,
     "metadata": {},
     "output_type": "execute_result"
    }
   ],
   "source": [
    "len(mcmc_C.full_liklihood)"
   ]
  },
  {
   "cell_type": "code",
   "execution_count": 35,
   "id": "cb41f18d-b69f-4b8c-8d21-b2fbdc861020",
   "metadata": {},
   "outputs": [
    {
     "data": {
      "text/plain": [
       "<matplotlib.collections.PathCollection at 0x7fb7f09db4c0>"
      ]
     },
     "execution_count": 35,
     "metadata": {},
     "output_type": "execute_result"
    },
    {
     "data": {
      "image/png": "[encoded data removed]",
      "text/plain": [
       "<Figure size 432x288 with 1 Axes>"
      ]
     },
     "metadata": {
      "needs_background": "light"
     },
     "output_type": "display_data"
    }
   ],
   "source": [
    "plt.scatter(np.r_[0:60000], mcmc_C.full_liklihood)"
   ]
  },
  {
   "cell_type": "code",
   "execution_count": 36,
   "id": "cf3d1f81-798d-41fc-b5a3-732b641bdf39",
   "metadata": {},
   "outputs": [
    {
     "data": {
      "text/plain": [
       "(array([0.97349643, 0.02650357, 0.        , 0.        , 0.        ,\n",
       "        0.        ]),\n",
       " array([1, 2, 3, 4, 5, 6, 7]),\n",
       " <BarContainer object of 6 artists>)"
      ]
     },
     "execution_count": 36,
     "metadata": {},
     "output_type": "execute_result"
    },
    {
     "data": {
      "image/png": "[encoded data removed]",
      "text/plain": [
       "<Figure size 432x288 with 1 Axes>"
      ]
     },
     "metadata": {
      "needs_background": "light"
     },
     "output_type": "display_data"
    }
   ],
   "source": [
    "plt.hist(mcmc_C.segLenDict.values(), bins = np.r_[1:8], density=True)"
   ]
  },
  {
   "cell_type": "code",
   "execution_count": 40,
   "id": "324c1e91-9f8d-4ed2-863e-761034a51802",
   "metadata": {},
   "outputs": [
    {
     "data": {
      "text/plain": [
       "array([-0.05017115, -0.05017115,  0.32442825,  0.3120303 , -0.02342718,\n",
       "       -0.02342718, -0.03360359, -0.03360359, -0.07256584, -0.07256584,\n",
       "       -0.25835111, -0.23373699, -0.00582655,  0.00177723,  0.07603884,\n",
       "        0.09256667, -0.20894564, -0.18795099,  0.06811059,  0.0770963 ,\n",
       "       -0.29462692, -0.31534354, -0.10243773, -0.07311359, -0.16201941,\n",
       "       -0.19194371, -0.25513076, -0.22522556,  0.09463865,  0.09463865,\n",
       "        0.08739695,  0.10010778, -0.15883355, -0.17639612, -0.17288907,\n",
       "       -0.17288907, -0.19202464, -0.19202464, -0.22041203, -0.22303409,\n",
       "       -0.15886682, -0.14138951, -0.01130325, -0.01216093, -0.05340628,\n",
       "       -0.0633237 , -0.13132528, -0.13132528, -0.21122973, -0.21800133,\n",
       "       -0.22408629, -0.22408629, -0.10842679, -0.10842679, -0.08738638,\n",
       "       -0.2706337 , -0.294054  , -0.39743131, -0.41371074, -0.17034873,\n",
       "       -0.1542059 , -0.01454251, -0.03203555, -0.15057778, -0.16309674,\n",
       "       -0.17000294, -0.18780551,  0.24845156,  0.22774183,  0.00927313,\n",
       "        0.00927313,  0.08568623,  0.11139294,  0.24184486,  0.24184486,\n",
       "        0.16575407,  0.16575407,  0.21873105,  0.23365517,  0.03132273,\n",
       "        0.03132273,  0.56062766,  0.51272592,  0.21798446,  0.20330459,\n",
       "       -0.03147658, -0.03827309, -0.08792209, -0.07596613,  0.21906877,\n",
       "        0.20888089,  0.39471961,  0.37816807, -0.34166183, -0.34166183,\n",
       "        0.08663332,  0.08663332, -0.05831358, -0.06903487,  0.04554418,\n",
       "        0.02759497,  0.1952121 ,  0.21484159, -0.13943859, -0.13103351,\n",
       "       -0.00619713, -0.00472535,  0.01207622,  0.00112769,  0.02577552,\n",
       "        0.02877473, -0.0731802 , -0.08190468,  0.22374193,  0.22374193,\n",
       "        0.2137103 ,  0.00701049,  0.00701049,  0.00240245, -0.02069911,\n",
       "       -0.1374418 , -0.12346179, -0.02056433, -0.01310267,  0.12979398,\n",
       "        0.13804469, -0.06180123, -0.07730012,  0.05516314,  0.05516314,\n",
       "        0.04390784, -0.10143131, -0.09081265,  0.1602916 ,  0.20218045,\n",
       "       -0.1488261 , -0.1488261 , -0.13303724, -0.0337813 , -0.02410043,\n",
       "       -0.02410043, -0.03948463, -0.01667923, -0.00306357,  0.21971733,\n",
       "        0.21971733, -0.00561401, -0.00561401,  0.55651439,  0.55261621,\n",
       "       -0.09975156, -0.07098303,  0.2733951 ,  0.26932046, -0.06645469,\n",
       "       -0.06645469,  0.06859307,  0.06344274, -0.21206703, -0.1992217 ,\n",
       "       -0.09426472, -0.06232221,  0.22337989,  0.21352927, -0.26264665,\n",
       "       -0.26264665,  0.04783978,  0.04783978, -0.14591458, -0.15919193])"
      ]
     },
     "execution_count": 40,
     "metadata": {},
     "output_type": "execute_result"
    }
   ],
   "source": [
    "mcmc_C.mu_i[np.nonzero(mcmc_C.mu_i)]"
   ]
  },
  {
   "cell_type": "code",
   "execution_count": 43,
   "id": "8802587e-5e4a-415c-bfad-c621d8233f7b",
   "metadata": {},
   "outputs": [],
   "source": [
    "Cov_overlap[\"next_g\"] = np.r_[Cov_overlap.iloc[1:][\"start_g\"], 2880794554]"
   ]
  },
  {
   "cell_type": "code",
   "execution_count": 44,
   "id": "45967186-2595-4399-a31b-b8b388795993",
   "metadata": {},
   "outputs": [],
   "source": [
    "min_tots = np.zeros(clust_uj.max() + 1)\n",
    "maj_tots = np.zeros(clust_uj.max() + 1)\n",
    "for clusts, phases in zip(clust_uj, clust[\"snps_to_phases\"]):\n",
    "    # reset phases\n",
    "    SNPs2 = SNPs.copy()\n",
    "    SNPs2.iloc[phases, [0, 1]] = SNPs2.iloc[phases, [1, 0]]\n",
    "\n",
    "    maj_tots += npg.aggregate(clusts, SNPs2[\"maj\"], size = clust_uj.max() + 1)\n",
    "    min_tots += npg.aggregate(clusts, SNPs2[\"min\"], size = clust_uj.max() + 1)\n",
    "\n",
    "min_tots /= clust_uj.shape[0]\n",
    "maj_tots /= clust_uj.shape[0]"
   ]
  },
  {
   "cell_type": "code",
   "execution_count": 45,
   "id": "0b4eda86-c795-4aea-ba6f-90d7f74ef891",
   "metadata": {},
   "outputs": [],
   "source": [
    "f_prune = (min_tots/(min_tots + maj_tots))[np.flatnonzero(prune_idx)]"
   ]
  },
  {
   "cell_type": "code",
   "execution_count": 54,
   "id": "a095bef5-cfd0-4f8b-83ff-77b8ba20b6c0",
   "metadata": {
    "tags": []
   },
   "outputs": [
    {
     "data": {
      "image/png": "[encoded data removed]",
      "text/plain": [
       "<Figure size 1382.4x388.08 with 1 Axes>"
      ]
     },
     "metadata": {
      "needs_background": "light"
     },
     "output_type": "display_data"
    }
   ],
   "source": [
    "plt.figure(6, figsize = [19.2, 5.39]); plt.clf()\n",
    "for i, p in enumerate(Pi.T):\n",
    "    nzidx = p > 0.3\n",
    "    x = Cov_overlap.loc[:, [\"start_g\", \"next_g\"]].loc[nzidx]\n",
    "    for j, (_, st, en), clust_prob in zip(np.where(nzidx > 0)[0], x.itertuples(), p[nzidx]):\n",
    "        plt.plot(\n",
    "            np.r_[st, en],\n",
    "            np.exp(mcmc_C.mu[i])*f_prune[i]*np.r_[1, 1],\n",
    "            color = np.array(colors)[i % len(colors)],\n",
    "            linewidth = 5,\n",
    "            alpha = clust_prob**2,\n",
    "            solid_capstyle = \"butt\"\n",
    "        )\n",
    "        plt.plot(\n",
    "            np.r_[st, en],\n",
    "            np.exp(mcmc_C.mu[i])*(1 - f_prune[i])*np.r_[1, 1],\n",
    "            color = np.array(colors)[i % len(colors)],\n",
    "            linewidth = 5,\n",
    "            alpha = clust_prob**2,\n",
    "            solid_capstyle = \"butt\"\n",
    "        )\n",
    "\n",
    "for chrbdy in chr_ends[:-1]:\n",
    "    plt.axvline(chrbdy, color = 'k')\n",
    "\n",
    "plt.xlabel(\"Genomic position\")\n",
    "plt.ylabel(\"Coverage of major/minor alleles\")\n",
    "\n",
    "plt.xlim((0.0, 2879000000.0));\n",
    "#plt.ylim([0, 300]);\n",
    "plt.show(6)"
   ]
  },
  {
   "cell_type": "code",
   "execution_count": 59,
   "id": "eef6bd6d-1557-4226-a9e5-9515889547ec",
   "metadata": {},
   "outputs": [
    {
     "data": {
      "text/plain": [
       "<matplotlib.collections.PathCollection at 0x7fb7c18da7f0>"
      ]
     },
     "execution_count": 59,
     "metadata": {},
     "output_type": "execute_result"
    },
    {
     "data": {
      "image/png": "[encoded data removed]",
      "text/plain": [
       "<Figure size 432x288 with 1 Axes>"
      ]
     },
     "metadata": {
      "needs_background": "light"
     },
     "output_type": "display_data"
    }
   ],
   "source": [
    "plt.scatter(np.r_[:100], r[:100])"
   ]
  },
  {
   "cell_type": "code",
   "execution_count": 70,
   "id": "c3043b3d-3c50-4bbf-a593-8f11d641fc00",
   "metadata": {},
   "outputs": [
    {
     "data": {
      "text/plain": [
       "array([3, 3, 3, 3, 3, 3, 3, 3, 3, 3, 3, 3, 3, 3, 3, 3, 3, 3, 3, 3, 3, 3,\n",
       "       3, 3, 3, 3, 3, 3, 3, 3, 3])"
      ]
     },
     "execution_count": 70,
     "metadata": {},
     "output_type": "execute_result"
    }
   ],
   "source": [
    "np.argmax(Pi.T, axis=0)[14:45]"
   ]
  },
  {
   "cell_type": "code",
   "execution_count": 75,
   "id": "6308cbb6-e5c4-44ac-82dc-da4bb1c9300b",
   "metadata": {},
   "outputs": [
    {
     "data": {
      "text/plain": [
       "array([[0.1       , 0.1       , 0.1       , 0.1       , 0.1       ,\n",
       "        0.1       , 0.194     , 0.194     , 0.194     , 0.10060362,\n",
       "        0.10060362, 0.10060362, 0.        , 0.        , 0.        ,\n",
       "        0.        , 0.        , 0.        , 0.        , 0.        ,\n",
       "        0.        , 0.        , 0.        , 0.        , 0.        ,\n",
       "        0.        , 0.        , 0.        , 0.        , 0.        ,\n",
       "        0.        ],\n",
       "       [0.        , 0.        , 0.        , 0.        , 0.        ,\n",
       "        0.        , 0.        , 0.        , 0.        , 0.        ,\n",
       "        0.        , 0.        , 0.        , 0.        , 0.        ,\n",
       "        0.        , 0.        , 0.        , 0.        , 0.        ,\n",
       "        0.        , 0.        , 0.        , 0.        , 0.        ,\n",
       "        0.        , 0.        , 0.        , 0.        , 0.        ,\n",
       "        0.        ],\n",
       "       [0.        , 0.        , 0.        , 0.        , 0.        ,\n",
       "        0.        , 0.        , 0.        , 0.        , 0.        ,\n",
       "        0.        , 0.        , 0.        , 0.        , 0.        ,\n",
       "        0.        , 0.        , 0.        , 0.        , 0.        ,\n",
       "        0.        , 0.        , 0.        , 0.        , 0.        ,\n",
       "        0.        , 0.        , 0.        , 0.        , 0.        ,\n",
       "        0.        ],\n",
       "       [0.9       , 0.9       , 0.9       , 0.9       , 0.9       ,\n",
       "        0.9       , 0.806     , 0.806     , 0.806     , 0.89939638,\n",
       "        0.89939638, 0.89939638, 1.        , 1.        , 1.        ,\n",
       "        1.        , 1.        , 1.        , 1.        , 1.        ,\n",
       "        1.        , 1.        , 1.        , 1.        , 1.        ,\n",
       "        1.        , 1.        , 1.        , 1.        , 1.        ,\n",
       "        0.89      ],\n",
       "       [0.        , 0.        , 0.        , 0.        , 0.        ,\n",
       "        0.        , 0.        , 0.        , 0.        , 0.        ,\n",
       "        0.        , 0.        , 0.        , 0.        , 0.        ,\n",
       "        0.        , 0.        , 0.        , 0.        , 0.        ,\n",
       "        0.        , 0.        , 0.        , 0.        , 0.        ,\n",
       "        0.        , 0.        , 0.        , 0.        , 0.        ,\n",
       "        0.        ],\n",
       "       [0.        , 0.        , 0.        , 0.        , 0.        ,\n",
       "        0.        , 0.        , 0.        , 0.        , 0.        ,\n",
       "        0.        , 0.        , 0.        , 0.        , 0.        ,\n",
       "        0.        , 0.        , 0.        , 0.        , 0.        ,\n",
       "        0.        , 0.        , 0.        , 0.        , 0.        ,\n",
       "        0.        , 0.        , 0.        , 0.        , 0.        ,\n",
       "        0.        ],\n",
       "       [0.        , 0.        , 0.        , 0.        , 0.        ,\n",
       "        0.        , 0.        , 0.        , 0.        , 0.        ,\n",
       "        0.        , 0.        , 0.        , 0.        , 0.        ,\n",
       "        0.        , 0.        , 0.        , 0.        , 0.        ,\n",
       "        0.        , 0.        , 0.        , 0.        , 0.        ,\n",
       "        0.        , 0.        , 0.        , 0.        , 0.        ,\n",
       "        0.        ],\n",
       "       [0.        , 0.        , 0.        , 0.        , 0.        ,\n",
       "        0.        , 0.        , 0.        , 0.        , 0.        ,\n",
       "        0.        , 0.        , 0.        , 0.        , 0.        ,\n",
       "        0.        , 0.        , 0.        , 0.        , 0.        ,\n",
       "        0.        , 0.        , 0.        , 0.        , 0.        ,\n",
       "        0.        , 0.        , 0.        , 0.        , 0.        ,\n",
       "        0.        ],\n",
       "       [0.        , 0.        , 0.        , 0.        , 0.        ,\n",
       "        0.        , 0.        , 0.        , 0.        , 0.        ,\n",
       "        0.        , 0.        , 0.        , 0.        , 0.        ,\n",
       "        0.        , 0.        , 0.        , 0.        , 0.        ,\n",
       "        0.        , 0.        , 0.        , 0.        , 0.        ,\n",
       "        0.        , 0.        , 0.        , 0.        , 0.        ,\n",
       "        0.        ],\n",
       "       [0.        , 0.        , 0.        , 0.        , 0.        ,\n",
       "        0.        , 0.        , 0.        , 0.        , 0.        ,\n",
       "        0.        , 0.        , 0.        , 0.        , 0.        ,\n",
       "        0.        , 0.        , 0.        , 0.        , 0.        ,\n",
       "        0.        , 0.        , 0.        , 0.        , 0.        ,\n",
       "        0.        , 0.        , 0.        , 0.        , 0.        ,\n",
       "        0.        ],\n",
       "       [0.        , 0.        , 0.        , 0.        , 0.        ,\n",
       "        0.        , 0.        , 0.        , 0.        , 0.        ,\n",
       "        0.        , 0.        , 0.        , 0.        , 0.        ,\n",
       "        0.        , 0.        , 0.        , 0.        , 0.        ,\n",
       "        0.        , 0.        , 0.        , 0.        , 0.        ,\n",
       "        0.        , 0.        , 0.        , 0.        , 0.        ,\n",
       "        0.        ],\n",
       "       [0.        , 0.        , 0.        , 0.        , 0.        ,\n",
       "        0.        , 0.        , 0.        , 0.        , 0.        ,\n",
       "        0.        , 0.        , 0.        , 0.        , 0.        ,\n",
       "        0.        , 0.        , 0.        , 0.        , 0.        ,\n",
       "        0.        , 0.        , 0.        , 0.        , 0.        ,\n",
       "        0.        , 0.        , 0.        , 0.        , 0.        ,\n",
       "        0.11      ],\n",
       "       [0.        , 0.        , 0.        , 0.        , 0.        ,\n",
       "        0.        , 0.        , 0.        , 0.        , 0.        ,\n",
       "        0.        , 0.        , 0.        , 0.        , 0.        ,\n",
       "        0.        , 0.        , 0.        , 0.        , 0.        ,\n",
       "        0.        , 0.        , 0.        , 0.        , 0.        ,\n",
       "        0.        , 0.        , 0.        , 0.        , 0.        ,\n",
       "        0.        ],\n",
       "       [0.        , 0.        , 0.        , 0.        , 0.        ,\n",
       "        0.        , 0.        , 0.        , 0.        , 0.        ,\n",
       "        0.        , 0.        , 0.        , 0.        , 0.        ,\n",
       "        0.        , 0.        , 0.        , 0.        , 0.        ,\n",
       "        0.        , 0.        , 0.        , 0.        , 0.        ,\n",
       "        0.        , 0.        , 0.        , 0.        , 0.        ,\n",
       "        0.        ],\n",
       "       [0.        , 0.        , 0.        , 0.        , 0.        ,\n",
       "        0.        , 0.        , 0.        , 0.        , 0.        ,\n",
       "        0.        , 0.        , 0.        , 0.        , 0.        ,\n",
       "        0.        , 0.        , 0.        , 0.        , 0.        ,\n",
       "        0.        , 0.        , 0.        , 0.        , 0.        ,\n",
       "        0.        , 0.        , 0.        , 0.        , 0.        ,\n",
       "        0.        ],\n",
       "       [0.        , 0.        , 0.        , 0.        , 0.        ,\n",
       "        0.        , 0.        , 0.        , 0.        , 0.        ,\n",
       "        0.        , 0.        , 0.        , 0.        , 0.        ,\n",
       "        0.        , 0.        , 0.        , 0.        , 0.        ,\n",
       "        0.        , 0.        , 0.        , 0.        , 0.        ,\n",
       "        0.        , 0.        , 0.        , 0.        , 0.        ,\n",
       "        0.        ],\n",
       "       [0.        , 0.        , 0.        , 0.        , 0.        ,\n",
       "        0.        , 0.        , 0.        , 0.        , 0.        ,\n",
       "        0.        , 0.        , 0.        , 0.        , 0.        ,\n",
       "        0.        , 0.        , 0.        , 0.        , 0.        ,\n",
       "        0.        , 0.        , 0.        , 0.        , 0.        ,\n",
       "        0.        , 0.        , 0.        , 0.        , 0.        ,\n",
       "        0.        ]])"
      ]
     },
     "execution_count": 75,
     "metadata": {},
     "output_type": "execute_result"
    }
   ],
   "source": [
    "Pi.T[:,14:45]"
   ]
  },
  {
   "cell_type": "raw",
   "id": "dae2b0d0-ef43-48f3-a228-5cadfb39b187",
   "metadata": {},
   "source": [
    "from matplotlib.collections import LineCollection as lc"
   ]
  },
  {
   "cell_type": "code",
   "execution_count": 49,
   "id": "66f03272-22ae-4d61-92e7-aa227e0e8eb3",
   "metadata": {},
   "outputs": [
    {
     "data": {
      "text/plain": [
       "array([[   0,    1],\n",
       "       [   2,    3],\n",
       "       [   3,    4],\n",
       "       ...,\n",
       "       [1004, 1005],\n",
       "       [1005, 1006],\n",
       "       [1006, 1007]])"
      ]
     },
     "execution_count": 49,
     "metadata": {},
     "output_type": "execute_result"
    }
   ],
   "source": [
    "[np.array(st, 0) for st, ed in np.array(mcmc_C.F).reshape(-1,2)]"
   ]
  },
  {
   "cell_type": "code",
   "execution_count": 48,
   "id": "22585b0f-eab6-42d4-9644-20bdab8daa3d",
   "metadata": {},
   "outputs": [
    {
     "ename": "ValueError",
     "evalue": "'vertices' must be 2D with shape (M, 2). Your input has shape ().",
     "output_type": "error",
     "traceback": [
      "\u001b[0;31m---------------------------------------------------------------------------\u001b[0m",
      "\u001b[0;31mValueError\u001b[0m                                Traceback (most recent call last)",
      "\u001b[0;32m/var/folders/7c/0p8334ln6qb6p8_1hhx002cc0000gp/T/ipykernel_49954/1284651916.py\u001b[0m in \u001b[0;36m<module>\u001b[0;34m\u001b[0m\n\u001b[0;32m----> 1\u001b[0;31m \u001b[0mlc\u001b[0m\u001b[0;34m(\u001b[0m\u001b[0mnp\u001b[0m\u001b[0;34m.\u001b[0m\u001b[0mc_\u001b[0m\u001b[0;34m[\u001b[0m\u001b[0mnp\u001b[0m\u001b[0;34m.\u001b[0m\u001b[0mzeros\u001b[0m\u001b[0;34m(\u001b[0m\u001b[0;36m955\u001b[0m\u001b[0;34m)\u001b[0m\u001b[0;34m,\u001b[0m \u001b[0mnp\u001b[0m\u001b[0;34m.\u001b[0m\u001b[0marray\u001b[0m\u001b[0;34m(\u001b[0m\u001b[0mmcmc_C\u001b[0m\u001b[0;34m.\u001b[0m\u001b[0mF\u001b[0m\u001b[0;34m)\u001b[0m\u001b[0;34m.\u001b[0m\u001b[0mreshape\u001b[0m\u001b[0;34m(\u001b[0m\u001b[0;34m-\u001b[0m\u001b[0;36m1\u001b[0m\u001b[0;34m,\u001b[0m\u001b[0;36m2\u001b[0m\u001b[0;34m)\u001b[0m\u001b[0;34m]\u001b[0m\u001b[0;34m.\u001b[0m\u001b[0mshape\u001b[0m\u001b[0;34m)\u001b[0m\u001b[0;34m\u001b[0m\u001b[0;34m\u001b[0m\u001b[0m\n\u001b[0m",
      "\u001b[0;32m~/anaconda3/envs/hapaseg/lib/python3.8/site-packages/matplotlib/collections.py\u001b[0m in \u001b[0;36m__init__\u001b[0;34m(self, segments, zorder, *args, **kwargs)\u001b[0m\n\u001b[1;32m   1463\u001b[0m             \u001b[0mzorder\u001b[0m\u001b[0;34m=\u001b[0m\u001b[0mzorder\u001b[0m\u001b[0;34m,\u001b[0m\u001b[0;34m\u001b[0m\u001b[0;34m\u001b[0m\u001b[0m\n\u001b[1;32m   1464\u001b[0m             **kwargs)\n\u001b[0;32m-> 1465\u001b[0;31m         \u001b[0mself\u001b[0m\u001b[0;34m.\u001b[0m\u001b[0mset_segments\u001b[0m\u001b[0;34m(\u001b[0m\u001b[0msegments\u001b[0m\u001b[0;34m)\u001b[0m\u001b[0;34m\u001b[0m\u001b[0;34m\u001b[0m\u001b[0m\n\u001b[0m\u001b[1;32m   1466\u001b[0m \u001b[0;34m\u001b[0m\u001b[0m\n\u001b[1;32m   1467\u001b[0m     \u001b[0;32mdef\u001b[0m \u001b[0mset_segments\u001b[0m\u001b[0;34m(\u001b[0m\u001b[0mself\u001b[0m\u001b[0;34m,\u001b[0m \u001b[0msegments\u001b[0m\u001b[0;34m)\u001b[0m\u001b[0;34m:\u001b[0m\u001b[0;34m\u001b[0m\u001b[0;34m\u001b[0m\u001b[0m\n",
      "\u001b[0;32m~/anaconda3/envs/hapaseg/lib/python3.8/site-packages/matplotlib/collections.py\u001b[0m in \u001b[0;36mset_segments\u001b[0;34m(self, segments)\u001b[0m\n\u001b[1;32m   1478\u001b[0m             \u001b[0m_segments\u001b[0m \u001b[0;34m=\u001b[0m \u001b[0mself\u001b[0m\u001b[0;34m.\u001b[0m\u001b[0m_add_offsets\u001b[0m\u001b[0;34m(\u001b[0m\u001b[0m_segments\u001b[0m\u001b[0;34m)\u001b[0m\u001b[0;34m\u001b[0m\u001b[0;34m\u001b[0m\u001b[0m\n\u001b[1;32m   1479\u001b[0m \u001b[0;34m\u001b[0m\u001b[0m\n\u001b[0;32m-> 1480\u001b[0;31m         \u001b[0mself\u001b[0m\u001b[0;34m.\u001b[0m\u001b[0m_paths\u001b[0m \u001b[0;34m=\u001b[0m \u001b[0;34m[\u001b[0m\u001b[0mmpath\u001b[0m\u001b[0;34m.\u001b[0m\u001b[0mPath\u001b[0m\u001b[0;34m(\u001b[0m\u001b[0m_seg\u001b[0m\u001b[0;34m)\u001b[0m \u001b[0;32mfor\u001b[0m \u001b[0m_seg\u001b[0m \u001b[0;32min\u001b[0m \u001b[0m_segments\u001b[0m\u001b[0;34m]\u001b[0m\u001b[0;34m\u001b[0m\u001b[0;34m\u001b[0m\u001b[0m\n\u001b[0m\u001b[1;32m   1481\u001b[0m         \u001b[0mself\u001b[0m\u001b[0;34m.\u001b[0m\u001b[0mstale\u001b[0m \u001b[0;34m=\u001b[0m \u001b[0;32mTrue\u001b[0m\u001b[0;34m\u001b[0m\u001b[0;34m\u001b[0m\u001b[0m\n\u001b[1;32m   1482\u001b[0m \u001b[0;34m\u001b[0m\u001b[0m\n",
      "\u001b[0;32m~/anaconda3/envs/hapaseg/lib/python3.8/site-packages/matplotlib/collections.py\u001b[0m in \u001b[0;36m<listcomp>\u001b[0;34m(.0)\u001b[0m\n\u001b[1;32m   1478\u001b[0m             \u001b[0m_segments\u001b[0m \u001b[0;34m=\u001b[0m \u001b[0mself\u001b[0m\u001b[0;34m.\u001b[0m\u001b[0m_add_offsets\u001b[0m\u001b[0;34m(\u001b[0m\u001b[0m_segments\u001b[0m\u001b[0;34m)\u001b[0m\u001b[0;34m\u001b[0m\u001b[0;34m\u001b[0m\u001b[0m\n\u001b[1;32m   1479\u001b[0m \u001b[0;34m\u001b[0m\u001b[0m\n\u001b[0;32m-> 1480\u001b[0;31m         \u001b[0mself\u001b[0m\u001b[0;34m.\u001b[0m\u001b[0m_paths\u001b[0m \u001b[0;34m=\u001b[0m \u001b[0;34m[\u001b[0m\u001b[0mmpath\u001b[0m\u001b[0;34m.\u001b[0m\u001b[0mPath\u001b[0m\u001b[0;34m(\u001b[0m\u001b[0m_seg\u001b[0m\u001b[0;34m)\u001b[0m \u001b[0;32mfor\u001b[0m \u001b[0m_seg\u001b[0m \u001b[0;32min\u001b[0m \u001b[0m_segments\u001b[0m\u001b[0;34m]\u001b[0m\u001b[0;34m\u001b[0m\u001b[0;34m\u001b[0m\u001b[0m\n\u001b[0m\u001b[1;32m   1481\u001b[0m         \u001b[0mself\u001b[0m\u001b[0;34m.\u001b[0m\u001b[0mstale\u001b[0m \u001b[0;34m=\u001b[0m \u001b[0;32mTrue\u001b[0m\u001b[0;34m\u001b[0m\u001b[0;34m\u001b[0m\u001b[0m\n\u001b[1;32m   1482\u001b[0m \u001b[0;34m\u001b[0m\u001b[0m\n",
      "\u001b[0;32m~/anaconda3/envs/hapaseg/lib/python3.8/site-packages/matplotlib/path.py\u001b[0m in \u001b[0;36m__init__\u001b[0;34m(self, vertices, codes, _interpolation_steps, closed, readonly)\u001b[0m\n\u001b[1;32m    127\u001b[0m         \"\"\"\n\u001b[1;32m    128\u001b[0m         \u001b[0mvertices\u001b[0m \u001b[0;34m=\u001b[0m \u001b[0m_to_unmasked_float_array\u001b[0m\u001b[0;34m(\u001b[0m\u001b[0mvertices\u001b[0m\u001b[0;34m)\u001b[0m\u001b[0;34m\u001b[0m\u001b[0;34m\u001b[0m\u001b[0m\n\u001b[0;32m--> 129\u001b[0;31m         \u001b[0m_api\u001b[0m\u001b[0;34m.\u001b[0m\u001b[0mcheck_shape\u001b[0m\u001b[0;34m(\u001b[0m\u001b[0;34m(\u001b[0m\u001b[0;32mNone\u001b[0m\u001b[0;34m,\u001b[0m \u001b[0;36m2\u001b[0m\u001b[0;34m)\u001b[0m\u001b[0;34m,\u001b[0m \u001b[0mvertices\u001b[0m\u001b[0;34m=\u001b[0m\u001b[0mvertices\u001b[0m\u001b[0;34m)\u001b[0m\u001b[0;34m\u001b[0m\u001b[0;34m\u001b[0m\u001b[0m\n\u001b[0m\u001b[1;32m    130\u001b[0m \u001b[0;34m\u001b[0m\u001b[0m\n\u001b[1;32m    131\u001b[0m         \u001b[0;32mif\u001b[0m \u001b[0mcodes\u001b[0m \u001b[0;32mis\u001b[0m \u001b[0;32mnot\u001b[0m \u001b[0;32mNone\u001b[0m\u001b[0;34m:\u001b[0m\u001b[0;34m\u001b[0m\u001b[0;34m\u001b[0m\u001b[0m\n",
      "\u001b[0;32m~/anaconda3/envs/hapaseg/lib/python3.8/site-packages/matplotlib/_api/__init__.py\u001b[0m in \u001b[0;36mcheck_shape\u001b[0;34m(_shape, **kwargs)\u001b[0m\n\u001b[1;32m    163\u001b[0m                                     for n in target_shape))\n\u001b[1;32m    164\u001b[0m \u001b[0;34m\u001b[0m\u001b[0m\n\u001b[0;32m--> 165\u001b[0;31m             raise ValueError(\n\u001b[0m\u001b[1;32m    166\u001b[0m                 \u001b[0;34mf\"{k!r} must be {len(target_shape)}D \"\u001b[0m\u001b[0;34m\u001b[0m\u001b[0;34m\u001b[0m\u001b[0m\n\u001b[1;32m    167\u001b[0m                 \u001b[0;34mf\"with shape ({text_shape}). \"\u001b[0m\u001b[0;34m\u001b[0m\u001b[0;34m\u001b[0m\u001b[0m\n",
      "\u001b[0;31mValueError\u001b[0m: 'vertices' must be 2D with shape (M, 2). Your input has shape ()."
     ]
    }
   ],
   "source": [
    "lc(np.c_[np.zeros(955), np.array(mcmc_C.F).reshape(-1,2)].shape)"
   ]
  },
  {
   "cell_type": "code",
   "execution_count": null,
   "id": "9e94da4b-8af3-4b5c-9fd3-ed5d1e77bda4",
   "metadata": {},
   "outputs": [],
   "source": []
  }
 ],
 "metadata": {
  "kernelspec": {
   "display_name": "Python 3 (ipykernel)",
   "language": "python",
   "name": "python3"
  },
  "language_info": {
   "codemirror_mode": {
    "name": "ipython",
    "version": 3
   },
   "file_extension": ".py",
   "mimetype": "text/x-python",
   "name": "python",
   "nbconvert_exporter": "python",
   "pygments_lexer": "ipython3",
   "version": "3.8.11"
  }
 },
 "nbformat": 4,
 "nbformat_minor": 5
}
