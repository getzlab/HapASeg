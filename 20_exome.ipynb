{
 "cells": [
  {
   "cell_type": "code",
   "execution_count": null,
   "id": "hydraulic-vacuum",
   "metadata": {},
   "outputs": [],
   "source": [
    "import dalmatian\n",
    "import dask.distributed as dd\n",
    "import matplotlib.pyplot as plt\n",
    "import numpy as np\n",
    "import pandas as pd\n",
    "import scipy.stats as s\n",
    "import sortedcontainers as sc\n",
    "import subprocess\n",
    "import sys\n",
    "from wolf import fc"
   ]
  },
  {
   "cell_type": "code",
   "execution_count": null,
   "id": "working-contents",
   "metadata": {
    "lines_to_next_cell": 2
   },
   "outputs": [],
   "source": [
    "sys.path.append(\".\")\n",
    "import hapaseg"
   ]
  },
  {
   "cell_type": "markdown",
   "id": "confidential-manufacturer",
   "metadata": {},
   "source": [
    "# Load in Corcoran IO workspace"
   ]
  },
  {
   "cell_type": "code",
   "execution_count": null,
   "id": "capable-ghana",
   "metadata": {},
   "outputs": [],
   "source": [
    "WM = dalmatian.WorkspaceManager(\"corcoran-sada/Corcoran_IO_resistance\")\n",
    "P = WM.get_pairs()\n",
    "S = WM.get_samples()"
   ]
  },
  {
   "cell_type": "markdown",
   "id": "regulated-special",
   "metadata": {},
   "source": [
    "# Sample 1: a low purity exome"
   ]
  },
  {
   "cell_type": "markdown",
   "id": "meaningful-sustainability",
   "metadata": {},
   "source": [
    "## Load"
   ]
  },
  {
   "cell_type": "code",
   "execution_count": null,
   "id": "loving-position",
   "metadata": {},
   "outputs": [],
   "source": [
    "# get callstats file\n",
    "subprocess.check_call(\"gsutil cp \" + P.loc[\"18144_6_C1D1_CFDNA_BB\", 'MUTECT1_CS_SNV'] + \" exome\", shell = True)\n",
    "\n",
    "# get BAM/BAI\n",
    "subprocess.check_call(\"gsutil cp \" + S.loc[P.loc[\"18144_6_C1D1_CFDNA_BB\", \"case_sample\"], \"cram_or_bam_path\"] + \" exome\", shell = True)\n",
    "subprocess.check_call(\"gsutil cp \" + S.loc[P.loc[\"18144_6_C1D1_CFDNA_BB\", \"case_sample\"], \"crai_or_bai_path\"] + \" exome\", shell = True)\n",
    "\n",
    "# pulldown het sites\n",
    "# /mnt/j/proj/cnv/20200909_hetpull/hetpull.py -c exome/18144_6_C1D1_CFDNA_BB.MuTect1.call_stats.txt \\\n",
    "# -s /mnt/j/db/hg19/gnomad/ACNV_sites/gnomAD_MAF1.txt -r /mnt/j/db/hg19/ref/hs37d5.fa -o exome/6_C1D1_CFDNA -g\n",
    "\n",
    "# get coverage\n",
    "# /mnt/j/proj/cnv/20210326_coverage_collector/covcollect -b /mnt/j/proj/cnv/20201018_hapseg2/exome/18144_6_C1D1_ctDNA.bam \\\n",
    "# -i targets.bed -o exome/18144_6_C1D1_ctDNA.cov"
   ]
  },
  {
   "cell_type": "markdown",
   "id": "automotive-ready",
   "metadata": {},
   "source": [
    "The phasing (both imputed and physical) performed in another script I haven't yet exported"
   ]
  },
  {
   "cell_type": "markdown",
   "id": "executive-escape",
   "metadata": {},
   "source": [
    "## Run"
   ]
  },
  {
   "cell_type": "markdown",
   "id": "brutal-marble",
   "metadata": {},
   "source": [
    "### Load SNPs/phasing info"
   ]
  },
  {
   "cell_type": "code",
   "execution_count": null,
   "id": "handled-vancouver",
   "metadata": {},
   "outputs": [],
   "source": [
    "refs = hapaseg.load.HapasegReference(\n",
    "  phased_VCF = \"exome/eagle.vcf\",\n",
    "  readbacked_phased_VCF = \"exome/whatshap.vcf\",\n",
    "  allele_counts = \"exome/6_C1D1_CFDNA.tumor.tsv\",\n",
    "  allele_counts_N = \"exome/6_C1D1_CFDNA.normal.tsv\"\n",
    ")"
   ]
  },
  {
   "cell_type": "markdown",
   "id": "underlying-ivory",
   "metadata": {},
   "source": [
    "### Add overdispersion\n",
    "\n",
    "For now, we are empirically estimating this at 0.92. In the future, we should be able to infer this."
   ]
  },
  {
   "cell_type": "code",
   "execution_count": null,
   "id": "minus-uncle",
   "metadata": {},
   "outputs": [],
   "source": [
    "refs.allele_counts[[\n",
    "  \"REF_COUNT\",\n",
    "  \"ALT_COUNT\",\n",
    "  \"REF_COUNT_N\",\n",
    "  \"ALT_COUNT_N\",\n",
    "  \"MAJ_COUNT\",\n",
    "  \"MIN_COUNT\"\n",
    "]] *= 0.92"
   ]
  },
  {
   "cell_type": "markdown",
   "id": "metropolitan-parliament",
   "metadata": {},
   "source": [
    "### Run segmentation"
   ]
  },
  {
   "cell_type": "code",
   "execution_count": null,
   "id": "assigned-pollution",
   "metadata": {},
   "outputs": [],
   "source": [
    "c = dd.Client(n_workers = 36)\n",
    "runner = hapaseg.run_allelic_MCMC.AllelicMCMCRunner(\n",
    "  refs.allele_counts,\n",
    "  refs.chromosome_intervals,\n",
    "  c,\n",
    "  phase_correct = False\n",
    ")\n",
    "allelic_segs = runner.run_all()\n",
    "\n",
    "allelic_segs.to_pickle(\"exome/6_C1D1_CFDNA.allelic_segs.auto_ref_correct.overdispersion92.no_phase_correct.pickle\")"
   ]
  },
  {
   "cell_type": "markdown",
   "id": "handmade-unemployment",
   "metadata": {},
   "source": [
    "# Sample 2: a higher purity exome from the same individual"
   ]
  },
  {
   "cell_type": "markdown",
   "id": "catholic-novelty",
   "metadata": {},
   "source": [
    "## Load"
   ]
  },
  {
   "cell_type": "code",
   "execution_count": null,
   "id": "criminal-garlic",
   "metadata": {},
   "outputs": [],
   "source": [
    "# get callstats file\n",
    "subprocess.check_call(\"gsutil cp \" + P.loc[\"18144_6_C1D1_tissue_DNA\", 'MUTECT1_CS_SNV'] + \" exome\", shell = True)"
   ]
  },
  {
   "cell_type": "code",
   "execution_count": null,
   "id": "indoor-quebec",
   "metadata": {},
   "outputs": [],
   "source": [
    "# get BAM/BAI\n",
    "subprocess.check_call(\"gsutil cp \" + S.loc[P.loc[\"18144_6_C1D1_tissue_DNA\", \"case_sample\"], \"cram_or_bam_path\"] + \" exome\", shell = True)\n",
    "subprocess.check_call(\"gsutil cp \" + S.loc[P.loc[\"18144_6_C1D1_tissue_DNA\", \"case_sample\"], \"crai_or_bai_path\"] + \" exome\", shell = True)"
   ]
  },
  {
   "cell_type": "markdown",
   "id": "unlikely-haven",
   "metadata": {
    "lines_to_next_cell": 2
   },
   "source": [
    "Once again, genotyping/coverage collection/phasing performed in another script I haven't yet exported"
   ]
  },
  {
   "cell_type": "markdown",
   "id": "greatest-academy",
   "metadata": {},
   "source": [
    "## Run"
   ]
  },
  {
   "cell_type": "markdown",
   "id": "brilliant-prison",
   "metadata": {},
   "source": [
    "### Load SNPs/phasing info"
   ]
  },
  {
   "cell_type": "code",
   "execution_count": null,
   "id": "political-whole",
   "metadata": {},
   "outputs": [],
   "source": [
    "refs = hapaseg.load.HapasegReference(\n",
    "  phased_VCF = \"exome/6_C1D1_META.eagle.vcf\",\n",
    "  # read-backed phasing not yet performed for this sample\n",
    "  allele_counts = \"exome/6_C1D1_META.tumor.tsv\",\n",
    "  allele_counts_N = \"exome/6_C1D1_META.normal.tsv\"\n",
    ")"
   ]
  },
  {
   "cell_type": "markdown",
   "id": "detailed-romantic",
   "metadata": {},
   "source": [
    "### Add overdispersion\n",
    "\n",
    "(again, empirically estimated at ~0.92)"
   ]
  },
  {
   "cell_type": "code",
   "execution_count": null,
   "id": "lyric-thriller",
   "metadata": {},
   "outputs": [],
   "source": [
    "refs.allele_counts[[\n",
    "  \"REF_COUNT\",\n",
    "  \"ALT_COUNT\",\n",
    "  \"REF_COUNT_N\",\n",
    "  \"ALT_COUNT_N\",\n",
    "  \"MAJ_COUNT\",\n",
    "  \"MIN_COUNT\"\n",
    "]] *= 0.92"
   ]
  },
  {
   "cell_type": "markdown",
   "id": "solved-brazil",
   "metadata": {},
   "source": [
    "### Run segmentation"
   ]
  },
  {
   "cell_type": "code",
   "execution_count": null,
   "id": "healthy-graduate",
   "metadata": {},
   "outputs": [],
   "source": [
    "c = dd.Client(n_workers = 36)\n",
    "runner = hapaseg.run_allelic_MCMC.AllelicMCMCRunner(\n",
    "  refs.allele_counts,\n",
    "  refs.chromosome_intervals,\n",
    "  c,\n",
    "  phase_correct = False\n",
    ")\n",
    "allelic_segs = runner.run_all()\n",
    "\n",
    "allelic_segs.to_pickle(\"exome/6_C1D1_META.allelic_segs.auto_ref_correct.overdispersion92.no_phase_correct.pickle\")"
   ]
  },
  {
   "cell_type": "markdown",
   "id": "blond-world",
   "metadata": {},
   "source": [
    "# (scrap code)\n",
    "\n",
    "Debugging why reverting intervals in F won't restore us to the original state"
   ]
  },
  {
   "cell_type": "code",
   "execution_count": null,
   "id": "social-chuck",
   "metadata": {},
   "outputs": [],
   "source": [
    "refs = hapaseg.load.HapasegReference(phased_VCF = \"exome/6_C1D1_META.eagle.vcf\", allele_counts = \"exome/6_C1D1_META.tumor.tsv\")"
   ]
  },
  {
   "cell_type": "code",
   "execution_count": null,
   "id": "eastern-flexibility",
   "metadata": {},
   "outputs": [],
   "source": [
    "runner = hapaseg.run_allelic_MCMC.AllelicMCMCRunner(\n",
    "  refs.allele_counts.loc[refs.allele_counts[\"chr\"] == 1],\n",
    "  refs.chromosome_intervals,\n",
    "  c,\n",
    "  #phase_correct = False,\n",
    "  misphase_prior = 3e-3,\n",
    "  #_ref_bias = 0.936 # tmp: will be automatically inferred later\n",
    ")"
   ]
  },
  {
   "cell_type": "code",
   "execution_count": null,
   "id": "completed-queens",
   "metadata": {},
   "outputs": [],
   "source": [
    "self = runner"
   ]
  },
  {
   "cell_type": "markdown",
   "id": "ignored-scene",
   "metadata": {},
   "source": [
    "\n",
    "code excised from run_allelic_MCMC"
   ]
  },
  {
   "cell_type": "code",
   "execution_count": null,
   "id": "chubby-touch",
   "metadata": {},
   "outputs": [],
   "source": [
    "from hapaseg import A_MCMC"
   ]
  },
  {
   "cell_type": "code",
   "execution_count": null,
   "id": "listed-exercise",
   "metadata": {},
   "outputs": [],
   "source": [
    "chunks = [slice(*x) for x in self.chunks[[\"start\", \"end\"]].values]"
   ]
  },
  {
   "cell_type": "code",
   "execution_count": null,
   "id": "adult-canyon",
   "metadata": {},
   "outputs": [],
   "source": [
    "futures = self.client.map(self._run_on_chunks, chunks, P = self.P_shared)\n",
    "self.chunks[\"results\"] = self.client.gather(futures)"
   ]
  },
  {
   "cell_type": "code",
   "execution_count": null,
   "id": "plastic-shoot",
   "metadata": {},
   "outputs": [],
   "source": [
    "#\n",
    "# concatenate burned in chunks for each arm\n",
    "H = [None]*len(self.chunks[\"arm\"].unique())\n",
    "for i, (arm, A) in enumerate(self.chunks.groupby(\"arm\")):\n",
    "    # concatenate allele count dataframes\n",
    "    H[i] = A_MCMC(\n",
    "      pd.concat([x.P for x in A[\"results\"]], ignore_index = True),\n",
    "      n_iter = self.n_iter,\n",
    "      phase_correct = self.phase_correct,\n",
    "      misphase_prior = self.misphase_prior,\n",
    "      ref_bias = self._ref_bias # TODO: infer dynamically from burnin chunks\n",
    "    )\n",
    "\n",
    "    # replicate constructor steps to define initial breakpoint set and\n",
    "    # marginal likelihood dict\n",
    "    breakpoints = [None]*len(A)\n",
    "    H[i].seg_marg_liks = sc.SortedDict()\n",
    "    for j, (_, _, start, _, r) in enumerate(A.itertuples()):\n",
    "        start -= A[\"start\"].iloc[0]\n",
    "        breakpoints[j] = np.array(r.breakpoints) + start\n",
    "        for k, v in r.seg_marg_liks.items():\n",
    "            H[i].seg_marg_liks[k + start] = v\n",
    "    H[i].breakpoints = sc.SortedSet(np.hstack(breakpoints))\n",
    "\n",
    "    H[i].marg_lik = np.full(H[i].n_iter, np.nan)\n",
    "    H[i].marg_lik[0] = np.array(H[i].seg_marg_liks.values()).sum()"
   ]
  },
  {
   "cell_type": "code",
   "execution_count": null,
   "id": "demanding-filter",
   "metadata": {},
   "outputs": [],
   "source": [
    "H[0].run()"
   ]
  },
  {
   "cell_type": "markdown",
   "id": "bacterial-parcel",
   "metadata": {},
   "source": [
    "\n",
    "run on just a single chunk"
   ]
  },
  {
   "cell_type": "code",
   "execution_count": null,
   "id": "northern-occasion",
   "metadata": {},
   "outputs": [],
   "source": [
    "refs = hapaseg.load.HapasegReference(phased_VCF = \"exome/6_C1D1_META.eagle.vcf\", allele_counts = \"exome/6_C1D1_META.tumor.tsv\", allele_counts_N = \"exome/6_C1D1_META.normal.tsv\")"
   ]
  },
  {
   "cell_type": "code",
   "execution_count": null,
   "id": "relevant-shower",
   "metadata": {},
   "outputs": [],
   "source": [
    "A = hapaseg.allelic_MCMC.A_MCMC(P = refs.allele_counts.iloc[0:543], n_iter = 20000, phase_correct = True, ref_bias = 0.93)\n",
    "A.run()"
   ]
  },
  {
   "cell_type": "code",
   "execution_count": null,
   "id": "ambient-briefs",
   "metadata": {},
   "outputs": [],
   "source": [
    "A = hapaseg.allelic_MCMC.A_MCMC(P = refs.allele_counts.iloc[0:543], n_iter = 20000)\n",
    "A.run()"
   ]
  }
 ],
 "metadata": {
  "jupytext": {
   "cell_metadata_filter": "-all",
   "main_language": "python",
   "notebook_metadata_filter": "-all"
  },
  "kernelspec": {
   "display_name": "Python 3",
   "language": "python",
   "name": "python3"
  },
  "language_info": {
   "codemirror_mode": {
    "name": "ipython",
    "version": 3
   },
   "file_extension": ".py",
   "mimetype": "text/x-python",
   "name": "python",
   "nbconvert_exporter": "python",
   "pygments_lexer": "ipython3",
   "version": "3.8.5"
  }
 },
 "nbformat": 4,
 "nbformat_minor": 5
}
