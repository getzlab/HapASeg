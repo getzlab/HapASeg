{
 "cells": [
  {
   "cell_type": "code",
   "execution_count": 1,
   "id": "1a1f69aa-2056-457b-80bc-f27034810d21",
   "metadata": {
    "tags": []
   },
   "outputs": [],
   "source": [
    "import itertools\n",
    "import matplotlib.pyplot as plt\n",
    "import matplotlib as mpl\n",
    "import numpy as np\n",
    "import numpy_groupies as npg\n",
    "import pandas as pd\n",
    "import scipy.stats as s\n",
    "import scipy.special as ss\n",
    "import sortedcontainers as sc\n",
    "import os\n",
    "import tqdm\n",
    "import matplotlib"
   ]
  },
  {
   "cell_type": "code",
   "execution_count": 2,
   "id": "0fe6d8cb-e98f-4176-9a61-434d49c1b41f",
   "metadata": {},
   "outputs": [
    {
     "name": "stderr",
     "output_type": "stream",
     "text": [
      "Cannot find path to gnomAD index; gnomAD functionality disabled.\n"
     ]
    }
   ],
   "source": [
    "os.environ[\"CAPY_REF_FA\"] = \"/home/opriebe/data/ref/hg19/Homo_sapiens_assembly19.fasta\"\n",
    "import hapaseg.coverage_MCMC as mcmc_cov\n",
    "import hapaseg.NB_coverage_MCMC as nb_cov\n",
    "from capy import mut, seq"
   ]
  },
  {
   "cell_type": "code",
   "execution_count": 3,
   "id": "3bbce388-704d-4f22-ba94-9a6af69c5940",
   "metadata": {},
   "outputs": [],
   "source": [
    "import hapaseg.coverage_DP as dp_cov"
   ]
  },
  {
   "cell_type": "markdown",
   "id": "1dd61601-92aa-4b9c-acf8-8253ae9f9cf9",
   "metadata": {},
   "source": [
    "Load MCMC trace over SNP DP cluster assignments. Still looking at only the high purity exome"
   ]
  },
  {
   "cell_type": "code",
   "execution_count": 4,
   "id": "a79274ef-8d02-46e9-b8f3-c52f4e6a07a0",
   "metadata": {},
   "outputs": [],
   "source": [
    "colors = mpl.cm.get_cmap(\"tab10\").colors"
   ]
  },
  {
   "cell_type": "markdown",
   "id": "dcac8cf4-b0e5-478e-ab3a-3d4e391a94f6",
   "metadata": {},
   "source": [
    "### Load coverage"
   ]
  },
  {
   "cell_type": "code",
   "execution_count": 5,
   "id": "85fb1cc7-0f2e-4fd3-ad25-c64273a7ba1f",
   "metadata": {},
   "outputs": [],
   "source": [
    "Cov = pd.read_csv(\"exome/6_C1D1_META.cov\", sep = \"\\t\", names = [\"chr\", \"start\", \"end\", \"covcorr\", \"covraw\"], low_memory=False)\n",
    "Cov[\"chr\"] = mut.convert_chr(Cov[\"chr\"])\n",
    "Cov = Cov.loc[Cov[\"chr\"] != 0]\n",
    "Cov[\"start_g\"] = seq.chrpos2gpos(Cov[\"chr\"], Cov[\"start\"])\n",
    "Cov[\"end_g\"] = seq.chrpos2gpos(Cov[\"chr\"], Cov[\"end\"])"
   ]
  },
  {
   "cell_type": "markdown",
   "id": "18a09cad-80a0-40a0-af6b-ec53e6a429fe",
   "metadata": {},
   "source": [
    "### Load covariates"
   ]
  },
  {
   "cell_type": "code",
   "execution_count": 6,
   "id": "1c866edb-d10b-4c22-9d7a-35b413ece7e4",
   "metadata": {},
   "outputs": [],
   "source": [
    "Cov[\"C_len\"] = Cov[\"end\"] - Cov[\"start\"] + 1\n",
    "\n",
    "# load repl timing\n",
    "F = pd.read_pickle(\"covars/GSE137764_H1.hg19_liftover.pickle\")\n",
    "\n",
    "# map targets to RT intervals\n",
    "tidx = mut.map_mutations_to_targets(Cov.rename(columns = { \"start\" : \"pos\" }), F, inplace = False)\n",
    "Cov.loc[tidx.index, \"C_RT\"] = F.iloc[tidx, 3:].mean(1).values\n",
    "\n",
    "# z-transform\n",
    "Cov[\"C_RT_z\"] = (lambda x : (x - np.nanmean(x))/np.nanstd(x))(np.log(Cov[\"C_RT\"] + 1e-20))\n",
    "\n",
    "#load GC content\n",
    "B = pd.read_pickle(\"covars/GC.pickle\")\n",
    "Cov = Cov.merge(B.rename(columns = { \"gc\" : \"C_GC\" }), left_on = [\"chr\", \"start\", \"end\"], right_on = [\"chr\", \"start\", \"end\"], how = \"left\")\n",
    "Cov[\"C_GC_z\"] = (lambda x : (x - np.nanmean(x))/np.nanstd(x))(np.log(Cov[\"C_GC\"] + 1e-20))"
   ]
  },
  {
   "cell_type": "code",
   "execution_count": 7,
   "id": "066cf1db-1fc4-4fb0-8c4c-48ea5dc15964",
   "metadata": {},
   "outputs": [],
   "source": [
    "clust = np.load(\"exome/6_C1D1_META.DP_clusts.auto_ref_correct.overdispersion92.no_phase_correct.npz\")"
   ]
  },
  {
   "cell_type": "markdown",
   "id": "bf1633e9-4904-4fa7-87f9-4cf5a6c2d653",
   "metadata": {
    "tags": []
   },
   "source": [
    "#### Load chromosome boundary coordinates"
   ]
  },
  {
   "cell_type": "code",
   "execution_count": 8,
   "id": "ee77d4b6-8e7e-424b-81ec-3a89a525e339",
   "metadata": {},
   "outputs": [],
   "source": [
    "allelic_segs = pd.read_pickle(\"exome/6_C1D1_META.allelic_segs.auto_ref_correct.overdispersion92.no_phase_correct.pickle\")\n",
    "chrbdy = allelic_segs.dropna().loc[:, [\"start\", \"end\"]]\n",
    "chr_ends = chrbdy.loc[chrbdy[\"start\"] != 0, \"end\"].cumsum()"
   ]
  },
  {
   "cell_type": "code",
   "execution_count": 9,
   "id": "092a4774-184d-4c6a-a2e7-cc3caee0debd",
   "metadata": {},
   "outputs": [
    {
     "data": {
      "text/plain": [
       "(500, 11768)"
      ]
     },
     "execution_count": 9,
     "metadata": {},
     "output_type": "execute_result"
    }
   ],
   "source": [
    "clust[\"snps_to_clusters\"].shape"
   ]
  },
  {
   "cell_type": "code",
   "execution_count": 10,
   "id": "5f3fe24c-980d-4239-84ee-aec719843a70",
   "metadata": {
    "tags": []
   },
   "outputs": [],
   "source": [
    "SNPs = pd.read_pickle(\"exome/6_C1D1_META.SNPs.pickle\")\n",
    "SNPs[\"chr\"], SNPs[\"pos\"] = seq.gpos2chrpos(SNPs[\"gpos\"])\n",
    "\n",
    "SNPs[\"tidx\"] = mut.map_mutations_to_targets(SNPs, Cov, inplace = False)\n",
    "\n",
    "#generate unique clust assignments\n",
    "clust_u, clust_uj = np.unique(clust[\"snps_to_clusters\"], return_inverse = True)\n",
    "clust_uj = clust_uj.reshape(clust[\"snps_to_clusters\"].shape)"
   ]
  },
  {
   "cell_type": "markdown",
   "id": "41799ee1-41fe-4f37-ba6e-8d04391dbfaf",
   "metadata": {},
   "source": [
    "### load SNPs from single DP iteration"
   ]
  },
  {
   "cell_type": "code",
   "execution_count": 11,
   "id": "7411b0a6-da62-4751-83c7-6702d02d48b7",
   "metadata": {},
   "outputs": [],
   "source": [
    "iter_ind = 499\n",
    "SNPs = pd.read_pickle(\"exome/6_C1D1_META.SNPs.pickle\")\n",
    "SNPs[\"chr\"], SNPs[\"pos\"] = seq.gpos2chrpos(SNPs[\"gpos\"])\n",
    "\n",
    "SNPs[\"tidx\"] = mut.map_mutations_to_targets(SNPs, Cov, inplace = False)\n",
    "\n",
    "#generate unique clust assignments\n",
    "clust_u, clust_uj = np.unique(clust[\"snps_to_clusters\"], return_inverse = True)\n",
    "clust_uj = clust_uj.reshape(clust[\"snps_to_clusters\"].shape)\n",
    "\n",
    "#assign coverage intervals to clusters\n",
    "Cov_clust_probs = np.zeros([len(Cov), clust_u.max()])\n",
    "\n",
    "for targ, snp_idx in SNPs.groupby(\"tidx\").indices.items():\n",
    "    targ_clust_hist = np.bincount(clust_uj[499, snp_idx].ravel(), minlength = clust_u.max())\n",
    "\n",
    "    Cov_clust_probs[int(targ), :] = targ_clust_hist/targ_clust_hist.sum()\n",
    "\n",
    "#subset intervals containing SNPs\n",
    "overlap_idx = Cov_clust_probs.sum(1) > 0\n",
    "Cov_clust_probs_overlap = Cov_clust_probs[overlap_idx, :]\n",
    "\n",
    "#prune improbable assignments\n",
    "Cov_clust_probs_overlap[Cov_clust_probs_overlap < 0.05] = 0\n",
    "Cov_clust_probs_overlap /= Cov_clust_probs_overlap.sum(1)[:, None]\n",
    "prune_idx = Cov_clust_probs_overlap.sum(0) > 0\n",
    "Cov_clust_probs_overlap = Cov_clust_probs_overlap[:, prune_idx]"
   ]
  },
  {
   "cell_type": "code",
   "execution_count": 12,
   "id": "32cdbdba-274f-4054-9f19-e1494c30fb1c",
   "metadata": {
    "tags": []
   },
   "outputs": [],
   "source": [
    "# import scipy.stats\n",
    "# assgn_entropy = scipy.stats.entropy(Cov_clust_probs_overlap, axis=1)\n",
    "# entropy_idx = (assgn_entropy == 0)\n",
    "\n",
    "#subsetting to only targets that overlap SNPs\n",
    "Cov_overlap = Cov.loc[overlap_idx, :]\n",
    "\n",
    "# probablistically assign each ambiguous coverage bin to a cluster\n",
    "amb_mask= np.max(Cov_clust_probs_overlap, 1) != 1\n",
    "amb_assgn_probs = Cov_clust_probs_overlap[amb_mask, :]\n",
    "new_assgn = np.array([np.random.choice(np.r_[:19], p = amb_assgn_probs[i]) for i in range(len(amb_assgn_probs))])\n",
    "new_onehot = np.zeros((new_assgn.size, new_assgn.max()+1))\n",
    "new_onehot[np.arange(new_assgn.size), new_assgn] = 1\n",
    "\n",
    "#subsetting to only targets with hard assignments\n",
    "#Cov_overlap = Cov_overlap.loc[entropy_idx,:]\n",
    "\n",
    "r = np.c_[Cov_overlap[\"covcorr\"]]\n",
    "\n",
    "#making covariate matrix\n",
    "C = np.c_[np.log(Cov_overlap[\"C_len\"]), Cov_overlap[\"C_RT_z\"], Cov_overlap[\"C_GC_z\"]]\n",
    "\n",
    "# Pi = Cov_clust_probs_overlap[entropy_idx,:].copy()\n",
    "Pi = Cov_clust_probs_overlap.copy()\n",
    "Pi[amb_mask, :] = new_onehot\n",
    "\n",
    "#dropping Nans\n",
    "naidx = np.isnan(C[:, 1])\n",
    "r = r[~naidx]\n",
    "C = C[~naidx]\n",
    "Pi = Pi[~naidx]\n",
    "\n",
    "Cov_overlap = Cov_overlap.iloc[~naidx]\n",
    "\n",
    "mu = np.log(r.mean()*np.ones([Pi.shape[1], 1])) / 2\n",
    "beta = np.ones([C.shape[1], 1])\n",
    "mu_i = np.zeros(C.shape[0])\n",
    "epsi = np.ones((mu.shape)) *2\n",
    "\n",
    "Cov_overlap['cluster_assgn'] = np.argmax(Pi, axis=1)"
   ]
  },
  {
   "cell_type": "markdown",
   "id": "2af77750-b7bb-4048-9238-d8112f93a279",
   "metadata": {},
   "source": [
    "almost all bins are unanimously assigned"
   ]
  },
  {
   "cell_type": "code",
   "execution_count": 81,
   "id": "ecf868a5-e62e-4c7a-a926-8f08a15090c5",
   "metadata": {},
   "outputs": [],
   "source": [
    "nb_mcmc = nb_cov.NB_MCMC(r, C, Pi)"
   ]
  },
  {
   "cell_type": "markdown",
   "id": "4906862e-47cb-4dc1-91e4-b059505c1db2",
   "metadata": {},
   "source": [
    "run using stats models for split but not for join"
   ]
  },
  {
   "cell_type": "code",
   "execution_count": 82,
   "id": "7255db11-7f77-4ce3-997e-2eac693e5b41",
   "metadata": {
    "collapsed": true,
    "jupyter": {
     "outputs_hidden": true
    },
    "tags": []
   },
   "outputs": [
    {
     "name": "stderr",
     "output_type": "stream",
     "text": [
      "  0%|          | 0/500 [00:00<?, ?it/s]"
     ]
    },
    {
     "name": "stdout",
     "output_type": "stream",
     "text": [
      "starting MCMC coverage segmentation...\n"
     ]
    },
    {
     "name": "stderr",
     "output_type": "stream",
     "text": [
      " 23%|██▎       | 113/500 [04:33<15:36,  2.42s/it]\n"
     ]
    },
    {
     "ename": "KeyboardInterrupt",
     "evalue": "",
     "output_type": "error",
     "traceback": [
      "\u001b[0;31m---------------------------------------------------------------------------\u001b[0m",
      "\u001b[0;31mKeyboardInterrupt\u001b[0m                         Traceback (most recent call last)",
      "\u001b[0;32m<ipython-input-82-a8655c5944c8>\u001b[0m in \u001b[0;36m<module>\u001b[0;34m\u001b[0m\n\u001b[0;32m----> 1\u001b[0;31m \u001b[0mnb_mcmc\u001b[0m\u001b[0;34m.\u001b[0m\u001b[0mrun\u001b[0m\u001b[0;34m(\u001b[0m\u001b[0;36m500\u001b[0m\u001b[0;34m)\u001b[0m\u001b[0;34m\u001b[0m\u001b[0;34m\u001b[0m\u001b[0m\n\u001b[0m",
      "\u001b[0;32m~/dev/HapASeg/hapaseg/NB_coverage_MCMC.py\u001b[0m in \u001b[0;36mrun\u001b[0;34m(self, n_iter, debug, stop_after_burnin)\u001b[0m\n\u001b[1;32m    603\u001b[0m             \u001b[0;32melse\u001b[0m\u001b[0;34m:\u001b[0m\u001b[0;34m\u001b[0m\u001b[0;34m\u001b[0m\u001b[0m\n\u001b[1;32m    604\u001b[0m                 \u001b[0;31m# join\u001b[0m\u001b[0;34m\u001b[0m\u001b[0;34m\u001b[0m\u001b[0;34m\u001b[0m\u001b[0m\n\u001b[0;32m--> 605\u001b[0;31m                 \u001b[0mres\u001b[0m \u001b[0;34m=\u001b[0m \u001b[0mself\u001b[0m\u001b[0;34m.\u001b[0m\u001b[0mclusters\u001b[0m\u001b[0;34m[\u001b[0m\u001b[0mcluster_pick\u001b[0m\u001b[0;34m]\u001b[0m\u001b[0;34m.\u001b[0m\u001b[0mjoin\u001b[0m\u001b[0;34m(\u001b[0m\u001b[0mdebug\u001b[0m\u001b[0;34m)\u001b[0m\u001b[0;34m\u001b[0m\u001b[0;34m\u001b[0m\u001b[0m\n\u001b[0m\u001b[1;32m    606\u001b[0m                 \u001b[0;31m# if we made a change, update ll of cluster\u001b[0m\u001b[0;34m\u001b[0m\u001b[0;34m\u001b[0m\u001b[0;34m\u001b[0m\u001b[0m\n\u001b[1;32m    607\u001b[0m                 \u001b[0;32mif\u001b[0m \u001b[0mres\u001b[0m \u001b[0;34m>\u001b[0m \u001b[0;36m0\u001b[0m\u001b[0;34m:\u001b[0m\u001b[0;34m\u001b[0m\u001b[0;34m\u001b[0m\u001b[0m\n",
      "\u001b[0;32m~/dev/HapASeg/hapaseg/NB_coverage_MCMC.py\u001b[0m in \u001b[0;36mjoin\u001b[0;34m(self, debug)\u001b[0m\n\u001b[1;32m    473\u001b[0m         \u001b[0;31m# print('attempting join on segs:', seg_l, seg_r)\u001b[0m\u001b[0;34m\u001b[0m\u001b[0;34m\u001b[0m\u001b[0;34m\u001b[0m\u001b[0m\n\u001b[1;32m    474\u001b[0m         \u001b[0;31m# print('join ind: ', ind)\u001b[0m\u001b[0;34m\u001b[0m\u001b[0;34m\u001b[0m\u001b[0;34m\u001b[0m\u001b[0m\n\u001b[0;32m--> 475\u001b[0;31m         \u001b[0mll_split\u001b[0m\u001b[0;34m,\u001b[0m \u001b[0mpk\u001b[0m\u001b[0;34m,\u001b[0m \u001b[0mmus\u001b[0m\u001b[0;34m,\u001b[0m \u001b[0mlepsis\u001b[0m\u001b[0;34m,\u001b[0m \u001b[0mHs\u001b[0m \u001b[0;34m=\u001b[0m \u001b[0mself\u001b[0m\u001b[0;34m.\u001b[0m\u001b[0mcalc_pk\u001b[0m\u001b[0;34m(\u001b[0m\u001b[0mind\u001b[0m\u001b[0;34m,\u001b[0m \u001b[0mbreak_pick\u001b[0m\u001b[0;34m=\u001b[0m\u001b[0mseg_r\u001b[0m\u001b[0;34m)\u001b[0m\u001b[0;34m\u001b[0m\u001b[0;34m\u001b[0m\u001b[0m\n\u001b[0m\u001b[1;32m    476\u001b[0m         \u001b[0msplit_log_ML\u001b[0m \u001b[0;34m=\u001b[0m \u001b[0mll_split\u001b[0m \u001b[0;34m+\u001b[0m \u001b[0mself\u001b[0m\u001b[0;34m.\u001b[0m\u001b[0m_get_log_ML_split\u001b[0m\u001b[0;34m(\u001b[0m\u001b[0mHs\u001b[0m\u001b[0;34m[\u001b[0m\u001b[0;36m0\u001b[0m\u001b[0;34m]\u001b[0m\u001b[0;34m,\u001b[0m \u001b[0mHs\u001b[0m\u001b[0;34m[\u001b[0m\u001b[0;36m1\u001b[0m\u001b[0;34m]\u001b[0m\u001b[0;34m)\u001b[0m\u001b[0;34m\u001b[0m\u001b[0;34m\u001b[0m\u001b[0m\n\u001b[1;32m    477\u001b[0m         \u001b[0mmu_share\u001b[0m\u001b[0;34m,\u001b[0m \u001b[0mlepsi_share\u001b[0m\u001b[0;34m,\u001b[0m \u001b[0mjoin_log_ML\u001b[0m \u001b[0;34m=\u001b[0m \u001b[0mself\u001b[0m\u001b[0;34m.\u001b[0m\u001b[0m_log_ML_join\u001b[0m\u001b[0;34m(\u001b[0m\u001b[0mind\u001b[0m\u001b[0;34m)\u001b[0m\u001b[0;34m\u001b[0m\u001b[0;34m\u001b[0m\u001b[0m\n",
      "\u001b[0;32m~/dev/HapASeg/hapaseg/NB_coverage_MCMC.py\u001b[0m in \u001b[0;36mcalc_pk\u001b[0;34m(self, ind, break_pick, debug)\u001b[0m\n\u001b[1;32m    338\u001b[0m \u001b[0;34m\u001b[0m\u001b[0m\n\u001b[1;32m    339\u001b[0m             \u001b[0mmu_l\u001b[0m\u001b[0;34m,\u001b[0m \u001b[0mlepsi_l\u001b[0m\u001b[0;34m,\u001b[0m \u001b[0mH_l\u001b[0m \u001b[0;34m=\u001b[0m \u001b[0mself\u001b[0m\u001b[0;34m.\u001b[0m\u001b[0mstats_optimizer\u001b[0m\u001b[0;34m(\u001b[0m\u001b[0;34m(\u001b[0m\u001b[0mind\u001b[0m\u001b[0;34m[\u001b[0m\u001b[0;36m0\u001b[0m\u001b[0;34m]\u001b[0m\u001b[0;34m,\u001b[0m \u001b[0mk\u001b[0m\u001b[0;34m)\u001b[0m\u001b[0;34m,\u001b[0m \u001b[0;32mTrue\u001b[0m\u001b[0;34m)\u001b[0m\u001b[0;34m\u001b[0m\u001b[0;34m\u001b[0m\u001b[0m\n\u001b[0;32m--> 340\u001b[0;31m             \u001b[0mmu_r\u001b[0m\u001b[0;34m,\u001b[0m \u001b[0mlepsi_r\u001b[0m\u001b[0;34m,\u001b[0m \u001b[0mH_r\u001b[0m \u001b[0;34m=\u001b[0m \u001b[0mself\u001b[0m\u001b[0;34m.\u001b[0m\u001b[0mstats_optimizer\u001b[0m\u001b[0;34m(\u001b[0m\u001b[0;34m(\u001b[0m\u001b[0mk\u001b[0m\u001b[0;34m,\u001b[0m \u001b[0mind\u001b[0m\u001b[0;34m[\u001b[0m\u001b[0;36m1\u001b[0m\u001b[0;34m]\u001b[0m\u001b[0;34m)\u001b[0m\u001b[0;34m,\u001b[0m \u001b[0;32mTrue\u001b[0m\u001b[0;34m)\u001b[0m\u001b[0;34m\u001b[0m\u001b[0;34m\u001b[0m\u001b[0m\n\u001b[0m\u001b[1;32m    341\u001b[0m \u001b[0;34m\u001b[0m\u001b[0m\n\u001b[1;32m    342\u001b[0m             \u001b[0mmus\u001b[0m\u001b[0;34m.\u001b[0m\u001b[0mappend\u001b[0m\u001b[0;34m(\u001b[0m\u001b[0;34m(\u001b[0m\u001b[0mmu_l\u001b[0m\u001b[0;34m,\u001b[0m \u001b[0mmu_r\u001b[0m\u001b[0;34m)\u001b[0m\u001b[0;34m)\u001b[0m\u001b[0;34m\u001b[0m\u001b[0;34m\u001b[0m\u001b[0m\n",
      "\u001b[0;32m~/dev/HapASeg/hapaseg/NB_coverage_MCMC.py\u001b[0m in \u001b[0;36mstats_optimizer\u001b[0;34m(self, ind, ret_hess)\u001b[0m\n\u001b[1;32m    269\u001b[0m     \u001b[0;31m# off the shelf optimizer for testing\u001b[0m\u001b[0;34m\u001b[0m\u001b[0;34m\u001b[0m\u001b[0;34m\u001b[0m\u001b[0m\n\u001b[1;32m    270\u001b[0m     \u001b[0;32mdef\u001b[0m \u001b[0mstats_optimizer\u001b[0m\u001b[0;34m(\u001b[0m\u001b[0mself\u001b[0m\u001b[0;34m,\u001b[0m \u001b[0mind\u001b[0m\u001b[0;34m,\u001b[0m \u001b[0mret_hess\u001b[0m\u001b[0;34m=\u001b[0m\u001b[0;32mFalse\u001b[0m\u001b[0;34m)\u001b[0m\u001b[0;34m:\u001b[0m\u001b[0;34m\u001b[0m\u001b[0;34m\u001b[0m\u001b[0m\n\u001b[0;32m--> 271\u001b[0;31m         \u001b[0mendog\u001b[0m \u001b[0;34m=\u001b[0m \u001b[0mnp\u001b[0m\u001b[0;34m.\u001b[0m\u001b[0mexp\u001b[0m\u001b[0;34m(\u001b[0m\u001b[0mnp\u001b[0m\u001b[0;34m.\u001b[0m\u001b[0mlog\u001b[0m\u001b[0;34m(\u001b[0m\u001b[0mself\u001b[0m\u001b[0;34m.\u001b[0m\u001b[0mr\u001b[0m\u001b[0;34m[\u001b[0m\u001b[0mind\u001b[0m\u001b[0;34m[\u001b[0m\u001b[0;36m0\u001b[0m\u001b[0;34m]\u001b[0m\u001b[0;34m:\u001b[0m\u001b[0mind\u001b[0m\u001b[0;34m[\u001b[0m\u001b[0;36m1\u001b[0m\u001b[0;34m]\u001b[0m\u001b[0;34m]\u001b[0m\u001b[0;34m.\u001b[0m\u001b[0mflatten\u001b[0m\u001b[0;34m(\u001b[0m\u001b[0;34m)\u001b[0m\u001b[0;34m)\u001b[0m \u001b[0;34m-\u001b[0m \u001b[0;34m(\u001b[0m\u001b[0mself\u001b[0m\u001b[0;34m.\u001b[0m\u001b[0mC\u001b[0m\u001b[0;34m[\u001b[0m\u001b[0mind\u001b[0m\u001b[0;34m[\u001b[0m\u001b[0;36m0\u001b[0m\u001b[0;34m]\u001b[0m\u001b[0;34m:\u001b[0m\u001b[0mind\u001b[0m\u001b[0;34m[\u001b[0m\u001b[0;36m1\u001b[0m\u001b[0;34m]\u001b[0m\u001b[0;34m]\u001b[0m \u001b[0;34m@\u001b[0m \u001b[0mself\u001b[0m\u001b[0;34m.\u001b[0m\u001b[0mbeta\u001b[0m\u001b[0;34m)\u001b[0m\u001b[0;34m.\u001b[0m\u001b[0mflatten\u001b[0m\u001b[0;34m(\u001b[0m\u001b[0;34m)\u001b[0m\u001b[0;34m)\u001b[0m\u001b[0;34m\u001b[0m\u001b[0;34m\u001b[0m\u001b[0m\n\u001b[0m\u001b[1;32m    272\u001b[0m         \u001b[0mexog\u001b[0m \u001b[0;34m=\u001b[0m \u001b[0mnp\u001b[0m\u001b[0;34m.\u001b[0m\u001b[0mones\u001b[0m\u001b[0;34m(\u001b[0m\u001b[0mself\u001b[0m\u001b[0;34m.\u001b[0m\u001b[0mr\u001b[0m\u001b[0;34m[\u001b[0m\u001b[0mind\u001b[0m\u001b[0;34m[\u001b[0m\u001b[0;36m0\u001b[0m\u001b[0;34m]\u001b[0m\u001b[0;34m:\u001b[0m\u001b[0mind\u001b[0m\u001b[0;34m[\u001b[0m\u001b[0;36m1\u001b[0m\u001b[0;34m]\u001b[0m\u001b[0;34m]\u001b[0m\u001b[0;34m.\u001b[0m\u001b[0mshape\u001b[0m\u001b[0;34m[\u001b[0m\u001b[0;36m0\u001b[0m\u001b[0;34m]\u001b[0m\u001b[0;34m)\u001b[0m\u001b[0;34m\u001b[0m\u001b[0;34m\u001b[0m\u001b[0m\n\u001b[1;32m    273\u001b[0m         \u001b[0mexposure\u001b[0m \u001b[0;34m=\u001b[0m \u001b[0mnp\u001b[0m\u001b[0;34m.\u001b[0m\u001b[0mones\u001b[0m\u001b[0;34m(\u001b[0m\u001b[0mself\u001b[0m\u001b[0;34m.\u001b[0m\u001b[0mr\u001b[0m\u001b[0;34m[\u001b[0m\u001b[0mind\u001b[0m\u001b[0;34m[\u001b[0m\u001b[0;36m0\u001b[0m\u001b[0;34m]\u001b[0m\u001b[0;34m:\u001b[0m\u001b[0mind\u001b[0m\u001b[0;34m[\u001b[0m\u001b[0;36m1\u001b[0m\u001b[0;34m]\u001b[0m\u001b[0;34m]\u001b[0m\u001b[0;34m.\u001b[0m\u001b[0mshape\u001b[0m\u001b[0;34m[\u001b[0m\u001b[0;36m0\u001b[0m\u001b[0;34m]\u001b[0m\u001b[0;34m)\u001b[0m \u001b[0;34m*\u001b[0m \u001b[0mnp\u001b[0m\u001b[0;34m.\u001b[0m\u001b[0mexp\u001b[0m\u001b[0;34m(\u001b[0m\u001b[0mself\u001b[0m\u001b[0;34m.\u001b[0m\u001b[0mmu\u001b[0m\u001b[0;34m)\u001b[0m\u001b[0;34m\u001b[0m\u001b[0;34m\u001b[0m\u001b[0m\n",
      "\u001b[0;31mKeyboardInterrupt\u001b[0m: "
     ]
    }
   ],
   "source": [
    "nb_mcmc.run(500)"
   ]
  },
  {
   "cell_type": "code",
   "execution_count": 16,
   "id": "a5c5223f-b254-4e63-bcf5-fc0188a48fbb",
   "metadata": {},
   "outputs": [
    {
     "data": {
      "text/plain": [
       "430"
      ]
     },
     "execution_count": 16,
     "metadata": {},
     "output_type": "execute_result"
    }
   ],
   "source": [
    "len(nb_mcmc.ll_iter)"
   ]
  },
  {
   "cell_type": "code",
   "execution_count": 34,
   "id": "f58ab1b4-1cf5-4fc0-bfad-235fed62946e",
   "metadata": {},
   "outputs": [],
   "source": [
    "overlap_tst = Cov_overlap.copy()"
   ]
  },
  {
   "cell_type": "code",
   "execution_count": 35,
   "id": "21fb7f5b-e7e3-4e62-8437-5e05091be5a6",
   "metadata": {},
   "outputs": [],
   "source": [
    "overlap_tst['segment_ID'] = 0"
   ]
  },
  {
   "cell_type": "code",
   "execution_count": 37,
   "id": "905124a2-0170-434a-b10c-4216f594fa69",
   "metadata": {},
   "outputs": [],
   "source": [
    "seg_id_col = overlap_tst.columns.get_loc('segment_ID')"
   ]
  },
  {
   "cell_type": "code",
   "execution_count": 39,
   "id": "fe4cf82a-c230-4b5c-8bad-7abe64d04d87",
   "metadata": {},
   "outputs": [],
   "source": [
    "#convert Cov_MCMC object into segment objects to be used by cov_DP\n",
    "\n",
    "global_seg_counter = 0\n",
    "for i, clust in enumerate(nb_mcmc.clusters):\n",
    "    pi_argmax = Pi.argmax(1)\n",
    "    og_positions = np.where(pi_argmax == i)[0]\n",
    "    seg_intervals = np.array(clust.F).reshape(-1,2)\n",
    "    for st, en in seg_intervals:\n",
    "        seg_ind = og_positions[st:en]\n",
    "        overlap_tst.iloc[seg_ind, seg_id_col] = global_seg_counter\n",
    "        global_seg_counter += 1"
   ]
  },
  {
   "cell_type": "code",
   "execution_count": 46,
   "id": "caf6f001-51da-4ba8-9092-70e672533817",
   "metadata": {},
   "outputs": [],
   "source": [
    "class Segment:\n",
    "    def __init__(self, r, C):\n",
    "        self.r = r\n",
    "        self.C = C"
   ]
  },
  {
   "cell_type": "code",
   "execution_count": 67,
   "id": "e48873ed-e8fb-4758-ab22-f84edc69fd60",
   "metadata": {},
   "outputs": [],
   "source": [
    "segment_list = [None] * (overlap_tst.segment_ID.max() + 1)"
   ]
  },
  {
   "cell_type": "code",
   "execution_count": 69,
   "id": "bebd600e-b07b-4712-8ed1-dac50b5bf644",
   "metadata": {},
   "outputs": [],
   "source": [
    "for ID, seg_df in overlap_tst.groupby('segment_ID'):\n",
    "    segment_list[ID] = Segment(seg_df['covcorr'], np.c_[np.log(seg_df[\"C_len\"]), seg_df[\"C_RT_z\"], seg_df[\"C_GC_z\"]])"
   ]
  },
  {
   "cell_type": "code",
   "execution_count": 57,
   "id": "9c26ed29-d40c-42db-a0ad-aa17f4aa338f",
   "metadata": {},
   "outputs": [
    {
     "data": {
      "text/plain": [
       "array([3, 0, 3, ..., 0, 0, 0], dtype=int64)"
      ]
     },
     "execution_count": 57,
     "metadata": {},
     "output_type": "execute_result"
    }
   ],
   "source": [
    "#can be used instead of Pi\n",
    "overlap_tst.cluster_assgn.values"
   ]
  },
  {
   "cell_type": "code",
   "execution_count": 13,
   "id": "1a88ef73-b8ce-45d0-8e7f-f77dc501e913",
   "metadata": {},
   "outputs": [],
   "source": [
    "#loading cov_seg_df\n",
    "cov_seg_df = pd.read_pickle('./cov_MCMC_df')"
   ]
  },
  {
   "cell_type": "code",
   "execution_count": 15,
   "id": "7bf7b738-7e03-4ccc-abb2-ed70ed5bab07",
   "metadata": {},
   "outputs": [],
   "source": [
    "beta = np.load('./beta_save.npy')"
   ]
  },
  {
   "cell_type": "code",
   "execution_count": 17,
   "id": "a8aa2835-12f3-40e1-8326-0c93b59ab4f6",
   "metadata": {},
   "outputs": [
    {
     "ename": "AttributeError",
     "evalue": "module 'sortedcontainers' has no attribute 'Sorted_list'",
     "output_type": "error",
     "traceback": [
      "\u001b[0;31m---------------------------------------------------------------------------\u001b[0m",
      "\u001b[0;31mAttributeError\u001b[0m                            Traceback (most recent call last)",
      "\u001b[0;32m<ipython-input-17-3fa26d350997>\u001b[0m in \u001b[0;36m<module>\u001b[0;34m\u001b[0m\n\u001b[0;32m----> 1\u001b[0;31m \u001b[0mcov_dp\u001b[0m \u001b[0;34m=\u001b[0m \u001b[0mdp_cov\u001b[0m\u001b[0;34m.\u001b[0m\u001b[0mCov_DP\u001b[0m\u001b[0;34m(\u001b[0m\u001b[0mcov_seg_df\u001b[0m\u001b[0;34m,\u001b[0m \u001b[0mbeta\u001b[0m\u001b[0;34m)\u001b[0m\u001b[0;34m\u001b[0m\u001b[0;34m\u001b[0m\u001b[0m\n\u001b[0m",
      "\u001b[0;32m~/dev/HapASeg/hapaseg/coverage_DP.py\u001b[0m in \u001b[0;36m__init__\u001b[0;34m(self, cov_df, beta)\u001b[0m\n\u001b[1;32m     53\u001b[0m         \u001b[0mself\u001b[0m\u001b[0;34m.\u001b[0m\u001b[0mcluster_assignments\u001b[0m\u001b[0;34m[\u001b[0m\u001b[0;36m0\u001b[0m\u001b[0;34m]\u001b[0m \u001b[0;34m=\u001b[0m \u001b[0;36m1\u001b[0m\u001b[0;34m\u001b[0m\u001b[0;34m\u001b[0m\u001b[0m\n\u001b[1;32m     54\u001b[0m         \u001b[0mself\u001b[0m\u001b[0;34m.\u001b[0m\u001b[0mcluster_counts\u001b[0m \u001b[0;34m=\u001b[0m \u001b[0msc\u001b[0m\u001b[0;34m.\u001b[0m\u001b[0mSortedDict\u001b[0m\u001b[0;34m(\u001b[0m\u001b[0;34m{\u001b[0m\u001b[0;36m1\u001b[0m\u001b[0;34m:\u001b[0m \u001b[0;36m1\u001b[0m\u001b[0;34m}\u001b[0m\u001b[0;34m)\u001b[0m\u001b[0;34m\u001b[0m\u001b[0;34m\u001b[0m\u001b[0m\n\u001b[0;32m---> 55\u001b[0;31m         \u001b[0mself\u001b[0m\u001b[0;34m.\u001b[0m\u001b[0munassigned_segs\u001b[0m \u001b[0;34m=\u001b[0m \u001b[0msc\u001b[0m\u001b[0;34m.\u001b[0m\u001b[0mSorted_list\u001b[0m\u001b[0;34m(\u001b[0m\u001b[0mself\u001b[0m\u001b[0;34m.\u001b[0m\u001b[0mcluster_assignments\u001b[0m\u001b[0;34m[\u001b[0m\u001b[0mself\u001b[0m\u001b[0;34m.\u001b[0m\u001b[0mcluster_assignments\u001b[0m \u001b[0;34m==\u001b[0m \u001b[0;34m-\u001b[0m\u001b[0;36m1\u001b[0m\u001b[0;34m]\u001b[0m\u001b[0;34m)\u001b[0m\u001b[0;34m\u001b[0m\u001b[0;34m\u001b[0m\u001b[0m\n\u001b[0m\u001b[1;32m     56\u001b[0m         \u001b[0mself\u001b[0m\u001b[0;34m.\u001b[0m\u001b[0mcluster_dict\u001b[0m \u001b[0;34m=\u001b[0m \u001b[0msc\u001b[0m\u001b[0;34m.\u001b[0m\u001b[0mSortedDict\u001b[0m\u001b[0;34m(\u001b[0m\u001b[0;34m{\u001b[0m\u001b[0;36m1\u001b[0m\u001b[0;34m:\u001b[0m \u001b[0msc\u001b[0m\u001b[0;34m.\u001b[0m\u001b[0mSortedSet\u001b[0m\u001b[0;34m(\u001b[0m\u001b[0;34m[\u001b[0m\u001b[0;36m0\u001b[0m\u001b[0;34m]\u001b[0m\u001b[0;34m)\u001b[0m\u001b[0;34m}\u001b[0m\u001b[0;34m)\u001b[0m\u001b[0;34m\u001b[0m\u001b[0;34m\u001b[0m\u001b[0m\n\u001b[1;32m     57\u001b[0m         \u001b[0mself\u001b[0m\u001b[0;34m.\u001b[0m\u001b[0mcluster_MLs\u001b[0m \u001b[0;34m=\u001b[0m \u001b[0msc\u001b[0m\u001b[0;34m.\u001b[0m\u001b[0mSortedDict\u001b[0m\u001b[0;34m(\u001b[0m\u001b[0;34m{\u001b[0m\u001b[0;36m1\u001b[0m\u001b[0;34m,\u001b[0m \u001b[0mself\u001b[0m\u001b[0;34m.\u001b[0m\u001b[0m_ML_cluster\u001b[0m\u001b[0;34m(\u001b[0m\u001b[0;34m[\u001b[0m\u001b[0;36m0\u001b[0m\u001b[0;34m]\u001b[0m\u001b[0;34m)\u001b[0m\u001b[0;34m}\u001b[0m\u001b[0;34m)\u001b[0m\u001b[0;34m\u001b[0m\u001b[0;34m\u001b[0m\u001b[0m\n",
      "\u001b[0;31mAttributeError\u001b[0m: module 'sortedcontainers' has no attribute 'Sorted_list'"
     ]
    }
   ],
   "source": [
    "cov_dp = dp_cov.Cov_DP(cov_seg_df, beta)"
   ]
  },
  {
   "cell_type": "code",
   "execution_count": null,
   "id": "7c734cf9-4e90-4b4e-970b-748835229544",
   "metadata": {},
   "outputs": [],
   "source": []
  }
 ],
 "metadata": {
  "kernelspec": {
   "display_name": "Python 3",
   "language": "python",
   "name": "python3"
  },
  "language_info": {
   "codemirror_mode": {
    "name": "ipython",
    "version": 3
   },
   "file_extension": ".py",
   "mimetype": "text/x-python",
   "name": "python",
   "nbconvert_exporter": "python",
   "pygments_lexer": "ipython3",
   "version": "3.8.8"
  }
 },
 "nbformat": 4,
 "nbformat_minor": 5
}
