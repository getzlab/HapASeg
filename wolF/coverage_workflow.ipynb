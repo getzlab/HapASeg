{
 "cells": [
  {
   "cell_type": "code",
   "execution_count": 1,
   "id": "8615e532-2479-4502-9580-227d4dea5416",
   "metadata": {},
   "outputs": [
    {
     "name": "stdout",
     "output_type": "stream",
     "text": [
      "Error configuring prefect logger\n"
     ]
    }
   ],
   "source": [
    "import glob\n",
    "import numpy as np\n",
    "import os\n",
    "import pandas as pd\n",
    "import pickle\n",
    "import prefect\n",
    "import subprocess\n",
    "import tempfile\n",
    "import wolf"
   ]
  },
  {
   "cell_type": "code",
   "execution_count": 2,
   "id": "3928efb3-60d5-4367-81f0-b30792fe5dfd",
   "metadata": {},
   "outputs": [],
   "source": [
    "# for Hapaseg itself\n",
    "hapaseg = wolf.ImportTask(\n",
    "  task_path = \"../\", # TODO: make remote\n",
    "  task_name = \"hapaseg\"\n",
    ")"
   ]
  },
  {
   "cell_type": "code",
   "execution_count": 3,
   "id": "a671479a-bd60-45c0-9c9c-4ad008f4b3ff",
   "metadata": {},
   "outputs": [],
   "source": [
    "# localize reference files to RODISK\n",
    "localization_task = wolf.LocalizeToDisk(\n",
    "  files = dict(\n",
    "    ref_fasta = \"gs://getzlab-workflows-reference_files-oa/hg19/Homo_sapiens_assembly19.fasta\",\n",
    "    ref_fasta_idx = \"gs://getzlab-workflows-reference_files-oa/hg19/Homo_sapiens_assembly19.fasta.fai\",\n",
    "    ref_fasta_dict = \"gs://getzlab-workflows-reference_files-oa/hg19/Homo_sapiens_assembly19.dict\",\n",
    "    coverage_csv='/home/opriebe/dev/HapASeg/exome/6_C1D1_META.cov',\n",
    "    allelic_clusters_object='/home/opriebe/dev/HapASeg/exome/6_C1D1_META.DP_clusts.auto_ref_correct.overdispersion92.no_phase_correct.npz',\n",
    "    SNPs_pickle='/home/opriebe/dev/HapASeg/exome/6_C1D1_META.SNPs.pickle',\n",
    "    covariate_dir='/home/opriebe/dev/HapASeg/covars',\n",
    "  )\n",
    ")"
   ]
  },
  {
   "cell_type": "code",
   "execution_count": 4,
   "id": "45ab687a-d164-49a1-80a7-f49fed3f8c91",
   "metadata": {},
   "outputs": [
    {
     "name": "stdout",
     "output_type": "stream",
     "text": [
      "[2022-02-21 18:59:54+0000] WARNING - prefect | Available disk storage at /mnt/nfs is small (68 GB remaining)\n",
      "[2022-02-21 18:59:54+0000] INFO - prefect | Starting Slurm controller ...\n",
      "[2022-02-21 18:59:54+0000] INFO - prefect | Waiting up to 60 seconds for Slurm controller to start ...\n",
      "[2022-02-21 19:00:08+0000] INFO - prefect | Hashing file /home/opriebe/dev/HapASeg/covars/GSE137764_H1.hg19_raw_liftover.pickle (0 MiB)\n",
      "[2022-02-21 19:00:08+0000] INFO - prefect | Hashing file /home/opriebe/dev/HapASeg/covars/GC.pickle (0 MiB)\n",
      "[2022-02-21 19:00:08+0000] INFO - prefect | Hashing file /home/opriebe/dev/HapASeg/covars/GSE137764_H1_GaussiansGSE137764_mooth_scaled_autosome.mat (0 MiB)\n",
      "[2022-02-21 19:00:08+0000] INFO - prefect | Hashing file /home/opriebe/dev/HapASeg/covars/GSE137764_H1.hg38.pickle (0 MiB)\n",
      "[2022-02-21 19:00:08+0000] INFO - prefect | Hashing file /home/opriebe/dev/HapASeg/covars/GSE137764_H1.hg19_liftover.pickle (0 MiB)\n",
      "[2022-02-21 19:00:08+0000] WARNING - prefect | Job avoidance disabled for this task; overwriting output.\n",
      "[2022-02-21 19:00:08+0000] INFO - prefect | Localizing inputs...\n",
      "[2022-02-21 19:00:14+0000] INFO - prefect | Disk name is canine-5eabafd987978c5006fcb69a64dd7a4e\n",
      "[2022-02-21 19:00:15+0000] INFO - prefect | Found existing disk canine-5eabafd987978c5006fcb69a64dd7a4e\n",
      "[2022-02-21 19:00:15+0000] INFO - prefect | Job staged on SLURM controller in: /mnt/nfs/workspace/BatchLocalDisk__2022-02-17--20-45-17_mg4xwxy_tbhx1ki_jpgiwu0n5dcqa\n",
      "[2022-02-21 19:00:15+0000] INFO - prefect | Preparing pipeline script\n",
      "[2022-02-21 19:03:16+0000] WARNING - prefect | Finished with status FAILED\n",
      "[2022-02-21 19:03:16+0000] WARNING - prefect | Not all tasks were successful.\n"
     ]
    }
   ],
   "source": [
    "loc_res = localization_task.run()"
   ]
  },
  {
   "cell_type": "code",
   "execution_count": 5,
   "id": "c2334c9e-4696-4008-a7a2-8e37f5454d68",
   "metadata": {},
   "outputs": [
    {
     "data": {
      "text/plain": [
       "{'SNPs_pickle': 'rodisk://canine-5eabafd987978c5006fcb69a64dd7a4e/SNPs_pickle/6_C1D1_META.SNPs.pickle',\n",
       " 'allelic_clusters_object': 'rodisk://canine-5eabafd987978c5006fcb69a64dd7a4e/allelic_clusters_object/6_C1D1_META.DP_clusts.auto_ref_correct.overdispersion92.no_phase_correct.npz',\n",
       " 'covariate_dir': 'rodisk://canine-5eabafd987978c5006fcb69a64dd7a4e/covariate_dir/covars',\n",
       " 'coverage_csv': 'rodisk://canine-5eabafd987978c5006fcb69a64dd7a4e/coverage_csv/6_C1D1_META.cov',\n",
       " 'ref_fasta': 'rodisk://canine-5eabafd987978c5006fcb69a64dd7a4e/ref_fasta/Homo_sapiens_assembly19.fasta',\n",
       " 'ref_fasta_dict': 'rodisk://canine-5eabafd987978c5006fcb69a64dd7a4e/ref_fasta_dict/Homo_sapiens_assembly19.dict',\n",
       " 'ref_fasta_idx': 'rodisk://canine-5eabafd987978c5006fcb69a64dd7a4e/ref_fasta_idx/Homo_sapiens_assembly19.fasta.fai'}"
      ]
     },
     "execution_count": 5,
     "metadata": {},
     "output_type": "execute_result"
    }
   ],
   "source": [
    "loc_res"
   ]
  },
  {
   "cell_type": "code",
   "execution_count": 6,
   "id": "857dc08d-b343-4048-9633-50d06572c404",
   "metadata": {},
   "outputs": [],
   "source": [
    "prep_cov_mcmc_task = hapaseg.Hapaseg_prepare_coverage_mcmc(\n",
    "    inputs={\n",
    "        \"coverage_csv\":loc_res[\"coverage_csv\"],\n",
    "        \"allelic_clusters_object\":loc_res[\"allelic_clusters_object\"],\n",
    "        \"SNPs_pickle\":loc_res[\"SNPs_pickle\"],\n",
    "        \"covariate_dir\":loc_res[\"covariate_dir\"],\n",
    "        \"allelic_sample\":-1,\n",
    "        \"ref_file_path\":loc_res[\"ref_fasta\"]\n",
    "    }\n",
    ")"
   ]
  },
  {
   "cell_type": "code",
   "execution_count": 7,
   "id": "938fd000-a43a-41eb-9f24-0560f726fa01",
   "metadata": {},
   "outputs": [
    {
     "name": "stdout",
     "output_type": "stream",
     "text": [
      "[2022-02-21 19:03:17+0000] WARNING - prefect | Available disk storage at /mnt/nfs is small (68 GB remaining)\n",
      "[2022-02-21 19:03:17+0000] INFO - prefect | Starting Slurm controller ...\n",
      "[2022-02-21 19:03:17+0000] INFO - prefect | Waiting up to 60 seconds for Slurm controller to start ...\n",
      "[2022-02-21 19:03:18+0000] WARNING - prefect | Cannot recover preexisting task outputs: [Errno 2] No such file or directory: '/mnt/nfs/workspace/Hapaseg_prepare_coverage_mcmc__2022-02-21--19-03-18_leiwweq_0z03eha_vaetv3zjnipra/jobs/0'\n",
      "[2022-02-21 19:03:18+0000] WARNING - prefect | Overwriting output and aborting job avoidance.\n",
      "[2022-02-21 19:03:18+0000] INFO - prefect | Localizing inputs...\n",
      "[2022-02-21 19:03:18+0000] INFO - prefect | Job staged on SLURM controller in: /mnt/nfs/workspace/Hapaseg_prepare_coverage_mcmc__2022-02-21--19-03-18_leiwweq_0z03eha_vaetv3zjnipra\n",
      "[2022-02-21 19:03:18+0000] INFO - prefect | Preparing pipeline script\n",
      "[2022-02-21 19:05:49+0000] INFO - prefect | Finished with status COMPLETED\n"
     ]
    }
   ],
   "source": [
    "prep_cov_mcmc_res = prep_cov_mcmc_task.run()"
   ]
  },
  {
   "cell_type": "code",
   "execution_count": 8,
   "id": "3689c331-a88d-419f-85c1-b0ea209f255b",
   "metadata": {},
   "outputs": [
    {
     "data": {
      "text/plain": [
       "'/mnt/nfs/workspace/Hapaseg_prepare_coverage_mcmc__2022-02-21--19-03-18_leiwweq_0z03eha_vaetv3zjnipra/outputs/0/preprocess_data/preprocess_data.npz'"
      ]
     },
     "execution_count": 8,
     "metadata": {},
     "output_type": "execute_result"
    }
   ],
   "source": [
    "prep_cov_mcmc_res[\"preprocess_data\"]"
   ]
  },
  {
   "cell_type": "code",
   "execution_count": 9,
   "id": "0baa4b76-10aa-4976-9d37-a911fa628d72",
   "metadata": {},
   "outputs": [
    {
     "data": {
      "text/plain": [
       "18"
      ]
     },
     "execution_count": 9,
     "metadata": {},
     "output_type": "execute_result"
    }
   ],
   "source": [
    "np.load(prep_cov_mcmc_res[\"preprocess_data\"])[\"Pi\"].shape[1]"
   ]
  },
  {
   "cell_type": "code",
   "execution_count": 10,
   "id": "d844ece2-5e0f-4e27-aa62-6a5debfbf52d",
   "metadata": {},
   "outputs": [
    {
     "data": {
      "text/plain": [
       "array(-1)"
      ]
     },
     "execution_count": 10,
     "metadata": {},
     "output_type": "execute_result"
    }
   ],
   "source": [
    "np.load(prep_cov_mcmc_res[\"preprocess_data\"])[\"adp_cluster\"]"
   ]
  },
  {
   "cell_type": "code",
   "execution_count": 11,
   "id": "0416115e-c158-4310-b765-c1374e43c7dc",
   "metadata": {},
   "outputs": [],
   "source": [
    "cluster_idxs = [i for i in np.arange(np.load(prep_cov_mcmc_res[\"preprocess_data\"])[\"Pi\"].shape[1])]"
   ]
  },
  {
   "cell_type": "code",
   "execution_count": 12,
   "id": "82e6c110-855f-4ae9-bc38-0300cf9e3713",
   "metadata": {},
   "outputs": [
    {
     "data": {
      "text/plain": [
       "[0, 1, 2, 3, 4, 5, 6, 7, 8, 9, 10, 11, 12, 13, 14, 15, 16, 17]"
      ]
     },
     "execution_count": 12,
     "metadata": {},
     "output_type": "execute_result"
    }
   ],
   "source": [
    "cluster_idxs"
   ]
  },
  {
   "cell_type": "code",
   "execution_count": 13,
   "id": "98ba65ea-a2b3-4f7e-9576-36d1308058b4",
   "metadata": {},
   "outputs": [],
   "source": [
    "cov_mcmc_scatter_task = hapaseg.Hapaseg_coverage_mcmc(\n",
    "    inputs={\n",
    "        \"preprocess_data\":prep_cov_mcmc_res[\"preprocess_data\"],\n",
    "        \"num_draws\":10,\n",
    "        \"cluster_num\":cluster_idxs\n",
    "    }\n",
    ")"
   ]
  },
  {
   "cell_type": "code",
   "execution_count": 14,
   "id": "4f5fc70f-74e7-46bc-aa22-5b694e62c40e",
   "metadata": {},
   "outputs": [
    {
     "name": "stdout",
     "output_type": "stream",
     "text": [
      "[2022-02-21 19:06:51+0000] WARNING - prefect | Available disk storage at /mnt/nfs is small (68 GB remaining)\n",
      "[2022-02-21 19:06:51+0000] INFO - prefect | Starting Slurm controller ...\n",
      "[2022-02-21 19:06:51+0000] INFO - prefect | Waiting up to 60 seconds for Slurm controller to start ...\n",
      "[2022-02-21 19:06:52+0000] WARNING - prefect | Cannot recover preexisting task outputs: [Errno 2] No such file or directory: '/mnt/nfs/workspace/Hapaseg_coverage_mcmc__2022-02-21--19-06-52_ug3blqi_0z03eha_0ywmku3e5jt4g/jobs/0'\n",
      "[2022-02-21 19:06:52+0000] WARNING - prefect | Overwriting output and aborting job avoidance.\n",
      "[2022-02-21 19:06:52+0000] INFO - prefect | Localizing inputs...\n",
      "[2022-02-21 19:06:52+0000] INFO - prefect | Job staged on SLURM controller in: /mnt/nfs/workspace/Hapaseg_coverage_mcmc__2022-02-21--19-06-52_ug3blqi_0z03eha_0ywmku3e5jt4g\n",
      "[2022-02-21 19:06:52+0000] INFO - prefect | Preparing pipeline script\n",
      "[2022-02-21 19:17:28+0000] INFO - prefect | Finished with statuses COMPLETED: 18\n"
     ]
    }
   ],
   "source": [
    "cov_mcmc_scatter_res = cov_mcmc_scatter_task.run()"
   ]
  },
  {
   "cell_type": "code",
   "execution_count": 15,
   "id": "bd1b49bb-e9ff-431f-b6b1-89a55d5ea1d0",
   "metadata": {},
   "outputs": [],
   "source": [
    "cov_mcmc_gather_task = hapaseg.Hapaseg_collect_coverage_mcmc(\n",
    "    inputs={\n",
    "        \"cov_mcmc_files\":[cov_mcmc_scatter_res[\"cov_segmentation_data\"]],\n",
    "        \"cov_df_pickle\":prep_cov_mcmc_res[\"cov_df_pickle\"]\n",
    "    }\n",
    ")"
   ]
  },
  {
   "cell_type": "code",
   "execution_count": 16,
   "id": "53225fa9-4d7f-4682-89cc-9d4e803bdf7f",
   "metadata": {},
   "outputs": [
    {
     "name": "stdout",
     "output_type": "stream",
     "text": [
      "[2022-02-21 19:19:32+0000] WARNING - prefect | Available disk storage at /mnt/nfs is small (68 GB remaining)\n",
      "[2022-02-21 19:19:32+0000] INFO - prefect | Starting Slurm controller ...\n",
      "[2022-02-21 19:19:32+0000] INFO - prefect | Waiting up to 60 seconds for Slurm controller to start ...\n",
      "[2022-02-21 19:19:33+0000] WARNING - prefect | Cannot recover preexisting task outputs: [Errno 2] No such file or directory: '/mnt/nfs/workspace/Hapaseg_collect_coverage_mcmc__2022-02-21--19-19-33_fueiipq_0z03eha_enjckqodcde22/jobs/0'\n",
      "[2022-02-21 19:19:33+0000] WARNING - prefect | Overwriting output and aborting job avoidance.\n",
      "[2022-02-21 19:19:33+0000] INFO - prefect | Localizing inputs...\n",
      "[2022-02-21 19:19:33+0000] INFO - prefect | Job staged on SLURM controller in: /mnt/nfs/workspace/Hapaseg_collect_coverage_mcmc__2022-02-21--19-19-33_fueiipq_0z03eha_enjckqodcde22\n",
      "[2022-02-21 19:19:33+0000] INFO - prefect | Preparing pipeline script\n",
      "[2022-02-21 19:20:04+0000] INFO - prefect | Finished with status COMPLETED\n"
     ]
    }
   ],
   "source": [
    "cov_mcmc_gather_res = cov_mcmc_gather_task.run()"
   ]
  },
  {
   "cell_type": "code",
   "execution_count": 21,
   "id": "c595f0f6-6b62-42c5-8579-6d3f1f574e64",
   "metadata": {},
   "outputs": [
    {
     "data": {
      "text/plain": [
       "('/mnt/nfs/workspace/Hapaseg_collect_coverage_mcmc__2022-02-21--19-19-33_fueiipq_0z03eha_enjckqodcde22/outputs/0/cov_collected_data/cov_mcmc_collected_data.npz',)"
      ]
     },
     "execution_count": 21,
     "metadata": {},
     "output_type": "execute_result"
    }
   ],
   "source": [
    "cov_mcmc_gather_res[\"cov_collected_data\"],"
   ]
  },
  {
   "cell_type": "code",
   "execution_count": 22,
   "id": "f89f3479-8c15-46c8-83ee-8b071ff70c0e",
   "metadata": {},
   "outputs": [
    {
     "data": {
      "text/plain": [
       "'/mnt/nfs/workspace/Hapaseg_prepare_coverage_mcmc__2022-02-21--19-03-18_leiwweq_0z03eha_vaetv3zjnipra/outputs/0/cov_df_pickle/cov_df.pickle'"
      ]
     },
     "execution_count": 22,
     "metadata": {},
     "output_type": "execute_result"
    }
   ],
   "source": [
    "prep_cov_mcmc_res[\"cov_df_pickle\"]"
   ]
  },
  {
   "cell_type": "code",
   "execution_count": 17,
   "id": "77854c25-451c-4156-a4f1-56cae7feb23a",
   "metadata": {},
   "outputs": [],
   "source": [
    "cov_dp_task = hapaseg.Hapaseg_coverage_dp(\n",
    "    inputs={\n",
    "        \"f_cov_df\":prep_cov_mcmc_res[\"cov_df_pickle\"],\n",
    "        \"cov_mcmc_data\": cov_mcmc_gather_res[\"cov_collected_data\"],\n",
    "        \"num_segmentation_samples\":10,\n",
    "        \"num_draws\":10\n",
    "    }\n",
    ")"
   ]
  },
  {
   "cell_type": "code",
   "execution_count": 18,
   "id": "810d1265-da22-4205-8492-dfa672577c10",
   "metadata": {},
   "outputs": [
    {
     "name": "stdout",
     "output_type": "stream",
     "text": [
      "[2022-02-21 19:20:11+0000] WARNING - prefect | Available disk storage at /mnt/nfs is small (68 GB remaining)\n",
      "[2022-02-21 19:20:11+0000] INFO - prefect | Starting Slurm controller ...\n",
      "[2022-02-21 19:20:11+0000] INFO - prefect | Waiting up to 60 seconds for Slurm controller to start ...\n",
      "[2022-02-21 19:20:12+0000] WARNING - prefect | Cannot recover preexisting task outputs: [Errno 2] No such file or directory: '/mnt/nfs/workspace/Hapaseg_coverage_dp__2022-02-21--19-20-12_vr5yroi_0z03eha_3jsg0ejxgek5k/jobs/0'\n",
      "[2022-02-21 19:20:12+0000] WARNING - prefect | Overwriting output and aborting job avoidance.\n",
      "[2022-02-21 19:20:12+0000] INFO - prefect | Localizing inputs...\n",
      "[2022-02-21 19:20:12+0000] INFO - prefect | Job staged on SLURM controller in: /mnt/nfs/workspace/Hapaseg_coverage_dp__2022-02-21--19-20-12_vr5yroi_0z03eha_3jsg0ejxgek5k\n",
      "[2022-02-21 19:20:12+0000] INFO - prefect | Preparing pipeline script\n",
      "[2022-02-21 22:04:31+0000] INFO - prefect | Finished with status COMPLETED\n"
     ]
    }
   ],
   "source": [
    "cov_dp_res = cov_dp_task.run()"
   ]
  },
  {
   "cell_type": "code",
   "execution_count": 24,
   "id": "64664eff-095b-428b-8f37-4b0f3588429d",
   "metadata": {},
   "outputs": [
    {
     "data": {
      "text/plain": [
       "'/mnt/nfs/workspace/Hapaseg_coverage_dp__2022-02-21--19-20-12_vr5yroi_0z03eha_3jsg0ejxgek5k/outputs/0/cov_dp_object/Cov_DP_model.pickle'"
      ]
     },
     "execution_count": 24,
     "metadata": {},
     "output_type": "execute_result"
    }
   ],
   "source": [
    "cov_dp_res['cov_dp_object']"
   ]
  },
  {
   "cell_type": "code",
   "execution_count": null,
   "id": "ef20e262-b552-4083-9ecc-f714077da0b4",
   "metadata": {},
   "outputs": [],
   "source": [
    "adp_draw_num = int(np.load(prep_cov_mcmc_res[\"preprocess_data\"])[\"adp_cluster\"])\n",
    "gen_acdp_task = hapaseg.Hapaseg_acdp_generate_df(\n",
    "    inputs = {\n",
    "        \"SNPs_pickle\":loc_res[\"SNPs_pickle\"],\n",
    "        \"allelic_clusters_object\":loc_res[\"allelic_clusters_object\"],\n",
    "        \"coverage_dp_object\":cov_dp_res[\"cov_dp_object\"],\n",
    "        \"allelic_draw_index\":adp_draw_num,\n",
    "        \"ref_file_path\":loc_res[\"ref_fasta\"]\n",
    "    }\n",
    ")"
   ]
  },
  {
   "cell_type": "code",
   "execution_count": null,
   "id": "1127c98a-3c43-4999-a427-1e27ce9b0ef8",
   "metadata": {},
   "outputs": [
    {
     "name": "stdout",
     "output_type": "stream",
     "text": [
      "[2022-02-21 22:04:31+0000] WARNING - prefect | Available disk storage at /mnt/nfs is small (68 GB remaining)\n",
      "[2022-02-21 22:04:31+0000] INFO - prefect | Starting Slurm controller ...\n",
      "[2022-02-21 22:04:31+0000] INFO - prefect | Waiting up to 60 seconds for Slurm controller to start ...\n",
      "[2022-02-21 22:04:32+0000] WARNING - prefect | Cannot recover preexisting task outputs: [Errno 2] No such file or directory: '/mnt/nfs/workspace/Hapaseg_acdp_generate_df__2022-02-21--22-04-32_b3hxleq_0z03eha_5hz5qdv0ftdpg/jobs/0'\n",
      "[2022-02-21 22:04:32+0000] WARNING - prefect | Overwriting output and aborting job avoidance.\n",
      "[2022-02-21 22:04:32+0000] INFO - prefect | Localizing inputs...\n",
      "[2022-02-21 22:04:32+0000] INFO - prefect | Job staged on SLURM controller in: /mnt/nfs/workspace/Hapaseg_acdp_generate_df__2022-02-21--22-04-32_b3hxleq_0z03eha_5hz5qdv0ftdpg\n",
      "[2022-02-21 22:04:32+0000] INFO - prefect | Preparing pipeline script\n",
      "[2022-02-21 22:08:04+0000] INFO - prefect | Finished with status COMPLETED\n"
     ]
    }
   ],
   "source": [
    "gen_acdp_results = gen_acdp_task.run()"
   ]
  },
  {
   "cell_type": "code",
   "execution_count": null,
   "id": "96b1a5c8-c535-4022-9aff-05979b6ef1af",
   "metadata": {},
   "outputs": [],
   "source": [
    "acdp_task = hapaseg.Hapaseg_run_acdp(\n",
    "    inputs = {\n",
    "        \"coverage_dp_object\":cov_dp_results[\"cov_dp_object\"],\n",
    "        \"acdp_df\":gen_acdp_results[\"acdp_df_pickle\"],\n",
    "        \"num_samples\":10,\n",
    "        \"cytoband_df\":\n",
    "    }"
   ]
  },
  {
   "cell_type": "code",
   "execution_count": 25,
   "id": "d8bff6ee-5350-48c6-a5ea-3d92f96d2e33",
   "metadata": {},
   "outputs": [
    {
     "data": {
      "text/plain": [
       "34.7"
      ]
     },
     "execution_count": 25,
     "metadata": {},
     "output_type": "execute_result"
    }
   ],
   "source": [
    "2082/60"
   ]
  },
  {
   "cell_type": "code",
   "execution_count": null,
   "id": "23c25452-4949-4feb-ad1e-4c1219ab63e4",
   "metadata": {},
   "outputs": [],
   "source": [
    "pd.read_pickle('../exome/filtered_allelic_segs.pickle"
   ]
  }
 ],
 "metadata": {
  "kernelspec": {
   "display_name": "Python 3 (ipykernel)",
   "language": "python",
   "name": "python3"
  },
  "language_info": {
   "codemirror_mode": {
    "name": "ipython",
    "version": 3
   },
   "file_extension": ".py",
   "mimetype": "text/x-python",
   "name": "python",
   "nbconvert_exporter": "python",
   "pygments_lexer": "ipython3",
   "version": "3.8.12"
  }
 },
 "nbformat": 4,
 "nbformat_minor": 5
}
