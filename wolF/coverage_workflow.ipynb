{
 "cells": [
  {
   "cell_type": "code",
   "execution_count": 3,
   "id": "8615e532-2479-4502-9580-227d4dea5416",
   "metadata": {},
   "outputs": [
    {
     "name": "stdout",
     "output_type": "stream",
     "text": [
      "Error configuring prefect logger\n"
     ]
    }
   ],
   "source": [
    "import glob\n",
    "import numpy as np\n",
    "import os\n",
    "import pandas as pd\n",
    "import pickle\n",
    "import prefect\n",
    "import subprocess\n",
    "import tempfile\n",
    "import wolf"
   ]
  },
  {
   "cell_type": "code",
   "execution_count": 4,
   "id": "3928efb3-60d5-4367-81f0-b30792fe5dfd",
   "metadata": {},
   "outputs": [],
   "source": [
    "# for Hapaseg itself\n",
    "hapaseg = wolf.ImportTask(\n",
    "  task_path = \"../\", # TODO: make remote\n",
    "  task_name = \"hapaseg\"\n",
    ")"
   ]
  },
  {
   "cell_type": "code",
   "execution_count": 5,
   "id": "a671479a-bd60-45c0-9c9c-4ad008f4b3ff",
   "metadata": {},
   "outputs": [],
   "source": [
    "# localize reference files to RODISK\n",
    "localization_task = wolf.LocalizeToDisk(\n",
    "  files = dict(\n",
    "    ref_fasta = \"gs://getzlab-workflows-reference_files-oa/hg19/Homo_sapiens_assembly19.fasta\",\n",
    "    ref_fasta_idx = \"gs://getzlab-workflows-reference_files-oa/hg19/Homo_sapiens_assembly19.fasta.fai\",\n",
    "    ref_fasta_dict = \"gs://getzlab-workflows-reference_files-oa/hg19/Homo_sapiens_assembly19.dict\",\n",
    "    coverage_csv='/home/opriebe/dev/HapASeg/exome/6_C1D1_META.cov',\n",
    "    allelic_clusters_object='/home/opriebe/dev/HapASeg/exome/6_C1D1_META.DP_clusts.auto_ref_correct.overdispersion92.no_phase_correct.npz',\n",
    "    SNPs_pickle='/home/opriebe/dev/HapASeg/exome/6_C1D1_META.SNPs.pickle',\n",
    "    covariate_dir='/home/opriebe/dev/HapASeg/covars',\n",
    "    cytoband_file='gs://getzlab-workflows-reference_files-oa/hg19/cytoBand.txt'\n",
    "  )\n",
    ")"
   ]
  },
  {
   "cell_type": "code",
   "execution_count": 6,
   "id": "45ab687a-d164-49a1-80a7-f49fed3f8c91",
   "metadata": {},
   "outputs": [
    {
     "name": "stdout",
     "output_type": "stream",
     "text": [
      "[2022-02-22 20:30:28+0000] WARNING - prefect | Available disk storage at /mnt/nfs is small (67 GB remaining)\n",
      "[2022-02-22 20:30:28+0000] INFO - prefect | Starting Slurm controller ...\n",
      "[2022-02-22 20:30:28+0000] INFO - prefect | Waiting up to 60 seconds for Slurm controller to start ...\n",
      "[2022-02-22 20:30:40+0000] INFO - prefect | Hashing file /home/opriebe/dev/HapASeg/covars/GSE137764_H1.hg19_raw_liftover.pickle (0 MiB)\n",
      "[2022-02-22 20:30:40+0000] INFO - prefect | Hashing file /home/opriebe/dev/HapASeg/covars/GC.pickle (0 MiB)\n",
      "[2022-02-22 20:30:40+0000] INFO - prefect | Hashing file /home/opriebe/dev/HapASeg/covars/GSE137764_H1_GaussiansGSE137764_mooth_scaled_autosome.mat (0 MiB)\n",
      "[2022-02-22 20:30:40+0000] INFO - prefect | Hashing file /home/opriebe/dev/HapASeg/covars/GSE137764_H1.hg38.pickle (0 MiB)\n",
      "[2022-02-22 20:30:40+0000] INFO - prefect | Hashing file /home/opriebe/dev/HapASeg/covars/GSE137764_H1.hg19_liftover.pickle (0 MiB)\n",
      "[2022-02-22 20:30:44+0000] WARNING - prefect | Job avoidance disabled for this task; overwriting output.\n",
      "[2022-02-22 20:30:44+0000] INFO - prefect | Localizing inputs...\n",
      "[2022-02-22 20:30:50+0000] INFO - prefect | Disk name is canine-a8871bb61a48cc8aa0b466808d59e309\n",
      "[2022-02-22 20:30:52+0000] INFO - prefect | Creating new persistent disk canine-a8871bb61a48cc8aa0b466808d59e309\n",
      "[2022-02-22 20:30:52+0000] INFO - prefect | Job staged on SLURM controller in: /mnt/nfs/workspace/BatchLocalDisk__2022-02-22--20-30-44_mg4xwxy_tbhx1ki_msjh5mnya2l50\n",
      "[2022-02-22 20:30:52+0000] INFO - prefect | Preparing pipeline script\n"
     ]
    },
    {
     "name": "stderr",
     "output_type": "stream",
     "text": [
      "Listed 0 items.\n"
     ]
    },
    {
     "name": "stdout",
     "output_type": "stream",
     "text": [
      "[2022-02-22 20:33:23+0000] INFO - prefect | Finished with status COMPLETED\n"
     ]
    }
   ],
   "source": [
    "loc_res = localization_task.run()"
   ]
  },
  {
   "cell_type": "code",
   "execution_count": 7,
   "id": "c2334c9e-4696-4008-a7a2-8e37f5454d68",
   "metadata": {},
   "outputs": [
    {
     "data": {
      "text/plain": [
       "{'SNPs_pickle': 'rodisk://canine-a8871bb61a48cc8aa0b466808d59e309/SNPs_pickle/6_C1D1_META.SNPs.pickle',\n",
       " 'allelic_clusters_object': 'rodisk://canine-a8871bb61a48cc8aa0b466808d59e309/allelic_clusters_object/6_C1D1_META.DP_clusts.auto_ref_correct.overdispersion92.no_phase_correct.npz',\n",
       " 'covariate_dir': 'rodisk://canine-a8871bb61a48cc8aa0b466808d59e309/covariate_dir/covars',\n",
       " 'coverage_csv': 'rodisk://canine-a8871bb61a48cc8aa0b466808d59e309/coverage_csv/6_C1D1_META.cov',\n",
       " 'cytoband_file': 'rodisk://canine-a8871bb61a48cc8aa0b466808d59e309/cytoband_file/cytoBand.txt',\n",
       " 'ref_fasta': 'rodisk://canine-a8871bb61a48cc8aa0b466808d59e309/ref_fasta/Homo_sapiens_assembly19.fasta',\n",
       " 'ref_fasta_dict': 'rodisk://canine-a8871bb61a48cc8aa0b466808d59e309/ref_fasta_dict/Homo_sapiens_assembly19.dict',\n",
       " 'ref_fasta_idx': 'rodisk://canine-a8871bb61a48cc8aa0b466808d59e309/ref_fasta_idx/Homo_sapiens_assembly19.fasta.fai'}"
      ]
     },
     "execution_count": 7,
     "metadata": {},
     "output_type": "execute_result"
    }
   ],
   "source": [
    "loc_res"
   ]
  },
  {
   "cell_type": "code",
   "execution_count": 9,
   "id": "857dc08d-b343-4048-9633-50d06572c404",
   "metadata": {},
   "outputs": [],
   "source": [
    "prep_cov_mcmc_task = hapaseg.Hapaseg_prepare_coverage_mcmc(\n",
    "    inputs={\n",
    "        \"coverage_csv\":loc_res[\"coverage_csv\"],\n",
    "        \"allelic_clusters_object\":loc_res[\"allelic_clusters_object\"],\n",
    "        \"SNPs_pickle\":loc_res[\"SNPs_pickle\"],\n",
    "        \"covariate_dir\":loc_res[\"covariate_dir\"],\n",
    "        \"allelic_sample\":-1,\n",
    "        \"ref_file_path\":loc_res[\"ref_fasta\"]\n",
    "    }\n",
    ")"
   ]
  },
  {
   "cell_type": "code",
   "execution_count": 10,
   "id": "938fd000-a43a-41eb-9f24-0560f726fa01",
   "metadata": {},
   "outputs": [
    {
     "name": "stdout",
     "output_type": "stream",
     "text": [
      "[2022-02-22 20:35:16+0000] WARNING - prefect | Available disk storage at /mnt/nfs is small (67 GB remaining)\n",
      "[2022-02-22 20:35:16+0000] INFO - prefect | Starting Slurm controller ...\n",
      "[2022-02-22 20:35:16+0000] INFO - prefect | Waiting up to 60 seconds for Slurm controller to start ...\n",
      "[2022-02-22 20:35:17+0000] WARNING - prefect | Cannot recover preexisting task outputs: [Errno 2] No such file or directory: '/mnt/nfs/workspace/Hapaseg_prepare_coverage_mcmc__2022-02-22--20-35-17_leiwweq_gu0qihq_qmaenxaofb5kc/jobs/0'\n",
      "[2022-02-22 20:35:17+0000] WARNING - prefect | Overwriting output and aborting job avoidance.\n",
      "[2022-02-22 20:35:17+0000] INFO - prefect | Localizing inputs...\n",
      "[2022-02-22 20:35:17+0000] INFO - prefect | Job staged on SLURM controller in: /mnt/nfs/workspace/Hapaseg_prepare_coverage_mcmc__2022-02-22--20-35-17_leiwweq_gu0qihq_qmaenxaofb5kc\n",
      "[2022-02-22 20:35:17+0000] INFO - prefect | Preparing pipeline script\n",
      "[2022-02-22 20:37:49+0000] INFO - prefect | Finished with status COMPLETED\n"
     ]
    }
   ],
   "source": [
    "prep_cov_mcmc_res = prep_cov_mcmc_task.run()"
   ]
  },
  {
   "cell_type": "code",
   "execution_count": 11,
   "id": "3689c331-a88d-419f-85c1-b0ea209f255b",
   "metadata": {},
   "outputs": [
    {
     "data": {
      "text/plain": [
       "'/mnt/nfs/workspace/Hapaseg_prepare_coverage_mcmc__2022-02-22--18-25-49_leiwweq_gu0qihq_vaetv3zjnipra/outputs/0/preprocess_data/preprocess_data.npz'"
      ]
     },
     "execution_count": 11,
     "metadata": {},
     "output_type": "execute_result"
    }
   ],
   "source": [
    "prep_cov_mcmc_res[\"preprocess_data\"]"
   ]
  },
  {
   "cell_type": "code",
   "execution_count": 12,
   "id": "0baa4b76-10aa-4976-9d37-a911fa628d72",
   "metadata": {},
   "outputs": [
    {
     "data": {
      "text/plain": [
       "18"
      ]
     },
     "execution_count": 12,
     "metadata": {},
     "output_type": "execute_result"
    }
   ],
   "source": [
    "np.load(prep_cov_mcmc_res[\"preprocess_data\"])[\"Pi\"].shape[1]"
   ]
  },
  {
   "cell_type": "code",
   "execution_count": 13,
   "id": "d844ece2-5e0f-4e27-aa62-6a5debfbf52d",
   "metadata": {},
   "outputs": [
    {
     "data": {
      "text/plain": [
       "array(-1)"
      ]
     },
     "execution_count": 13,
     "metadata": {},
     "output_type": "execute_result"
    }
   ],
   "source": [
    "np.load(prep_cov_mcmc_res[\"preprocess_data\"])[\"adp_cluster\"]"
   ]
  },
  {
   "cell_type": "code",
   "execution_count": 8,
   "id": "0416115e-c158-4310-b765-c1374e43c7dc",
   "metadata": {},
   "outputs": [],
   "source": [
    "cluster_idxs = [i for i in np.arange(np.load(prep_cov_mcmc_res[\"preprocess_data\"])[\"Pi\"].shape[1])]"
   ]
  },
  {
   "cell_type": "code",
   "execution_count": 9,
   "id": "82e6c110-855f-4ae9-bc38-0300cf9e3713",
   "metadata": {},
   "outputs": [
    {
     "data": {
      "text/plain": [
       "[0, 1, 2, 3, 4, 5, 6, 7, 8, 9, 10, 11, 12, 13, 14, 15, 16, 17]"
      ]
     },
     "execution_count": 9,
     "metadata": {},
     "output_type": "execute_result"
    }
   ],
   "source": [
    "cluster_idxs"
   ]
  },
  {
   "cell_type": "code",
   "execution_count": 10,
   "id": "98ba65ea-a2b3-4f7e-9576-36d1308058b4",
   "metadata": {},
   "outputs": [],
   "source": [
    "cov_mcmc_scatter_task = hapaseg.Hapaseg_coverage_mcmc(\n",
    "    inputs={\n",
    "        \"preprocess_data\":prep_cov_mcmc_res[\"preprocess_data\"],\n",
    "        \"num_draws\":10,\n",
    "        \"cluster_num\":cluster_idxs\n",
    "    }\n",
    ")"
   ]
  },
  {
   "cell_type": "code",
   "execution_count": 14,
   "id": "4f5fc70f-74e7-46bc-aa22-5b694e62c40e",
   "metadata": {},
   "outputs": [
    {
     "name": "stdout",
     "output_type": "stream",
     "text": [
      "[2022-02-22 18:33:56+0000] WARNING - prefect | Available disk storage at /mnt/nfs is small (68 GB remaining)\n",
      "[2022-02-22 18:33:56+0000] INFO - prefect | Starting Slurm controller ...\n",
      "[2022-02-22 18:33:56+0000] INFO - prefect | Waiting up to 60 seconds for Slurm controller to start ...\n",
      "[2022-02-22 18:33:57+0000] WARNING - prefect | Cannot recover preexisting task outputs: [Errno 2] No such file or directory: '/mnt/nfs/workspace/Hapaseg_coverage_mcmc__2022-02-22--18-33-57_ug3blqi_gu0qihq_0ywmku3e5jt4g/jobs/0'\n",
      "[2022-02-22 18:33:57+0000] WARNING - prefect | Overwriting output and aborting job avoidance.\n",
      "[2022-02-22 18:33:57+0000] INFO - prefect | Localizing inputs...\n",
      "[2022-02-22 18:33:57+0000] INFO - prefect | Job staged on SLURM controller in: /mnt/nfs/workspace/Hapaseg_coverage_mcmc__2022-02-22--18-33-57_ug3blqi_gu0qihq_0ywmku3e5jt4g\n",
      "[2022-02-22 18:33:57+0000] INFO - prefect | Preparing pipeline script\n",
      "[2022-02-22 18:45:04+0000] INFO - prefect | Finished with statuses COMPLETED: 18\n"
     ]
    }
   ],
   "source": [
    "cov_mcmc_scatter_res = cov_mcmc_scatter_task.run()"
   ]
  },
  {
   "cell_type": "code",
   "execution_count": 15,
   "id": "bd1b49bb-e9ff-431f-b6b1-89a55d5ea1d0",
   "metadata": {},
   "outputs": [],
   "source": [
    "cov_mcmc_gather_task = hapaseg.Hapaseg_collect_coverage_mcmc(\n",
    "    inputs={\n",
    "        \"cov_mcmc_files\":[cov_mcmc_scatter_res[\"cov_segmentation_data\"]],\n",
    "        \"cov_df_pickle\":prep_cov_mcmc_res[\"cov_df_pickle\"]\n",
    "    }\n",
    ")"
   ]
  },
  {
   "cell_type": "code",
   "execution_count": 16,
   "id": "53225fa9-4d7f-4682-89cc-9d4e803bdf7f",
   "metadata": {},
   "outputs": [
    {
     "name": "stdout",
     "output_type": "stream",
     "text": [
      "[2022-02-22 18:45:04+0000] WARNING - prefect | Available disk storage at /mnt/nfs is small (68 GB remaining)\n",
      "[2022-02-22 18:45:04+0000] INFO - prefect | Starting Slurm controller ...\n",
      "[2022-02-22 18:45:04+0000] INFO - prefect | Waiting up to 60 seconds for Slurm controller to start ...\n",
      "[2022-02-22 18:45:05+0000] WARNING - prefect | Cannot recover preexisting task outputs: [Errno 2] No such file or directory: '/mnt/nfs/workspace/Hapaseg_collect_coverage_mcmc__2022-02-22--18-45-05_fueiipq_gu0qihq_suf5z2rqs5c02/jobs/0'\n",
      "[2022-02-22 18:45:05+0000] WARNING - prefect | Overwriting output and aborting job avoidance.\n",
      "[2022-02-22 18:45:05+0000] INFO - prefect | Localizing inputs...\n",
      "[2022-02-22 18:45:05+0000] INFO - prefect | Job staged on SLURM controller in: /mnt/nfs/workspace/Hapaseg_collect_coverage_mcmc__2022-02-22--18-45-05_fueiipq_gu0qihq_suf5z2rqs5c02\n",
      "[2022-02-22 18:45:05+0000] INFO - prefect | Preparing pipeline script\n",
      "[2022-02-22 18:45:35+0000] INFO - prefect | Finished with status COMPLETED\n"
     ]
    }
   ],
   "source": [
    "cov_mcmc_gather_res = cov_mcmc_gather_task.run()"
   ]
  },
  {
   "cell_type": "code",
   "execution_count": 17,
   "id": "c595f0f6-6b62-42c5-8579-6d3f1f574e64",
   "metadata": {},
   "outputs": [
    {
     "data": {
      "text/plain": [
       "('/mnt/nfs/workspace/Hapaseg_collect_coverage_mcmc__2022-02-22--18-45-05_fueiipq_gu0qihq_suf5z2rqs5c02/outputs/0/cov_collected_data/cov_mcmc_collected_data.npz',)"
      ]
     },
     "execution_count": 17,
     "metadata": {},
     "output_type": "execute_result"
    }
   ],
   "source": [
    "cov_mcmc_gather_res[\"cov_collected_data\"],"
   ]
  },
  {
   "cell_type": "code",
   "execution_count": 18,
   "id": "f89f3479-8c15-46c8-83ee-8b071ff70c0e",
   "metadata": {},
   "outputs": [
    {
     "data": {
      "text/plain": [
       "'/mnt/nfs/workspace/Hapaseg_prepare_coverage_mcmc__2022-02-22--18-25-49_leiwweq_gu0qihq_vaetv3zjnipra/outputs/0/cov_df_pickle/cov_df.pickle'"
      ]
     },
     "execution_count": 18,
     "metadata": {},
     "output_type": "execute_result"
    }
   ],
   "source": [
    "prep_cov_mcmc_res[\"cov_df_pickle\"]"
   ]
  },
  {
   "cell_type": "code",
   "execution_count": 19,
   "id": "77854c25-451c-4156-a4f1-56cae7feb23a",
   "metadata": {},
   "outputs": [],
   "source": [
    "cov_dp_task = hapaseg.Hapaseg_coverage_dp(\n",
    "    inputs={\n",
    "        \"f_cov_df\":prep_cov_mcmc_res[\"cov_df_pickle\"],\n",
    "        \"cov_mcmc_data\": cov_mcmc_gather_res[\"cov_collected_data\"],\n",
    "        \"num_segmentation_samples\":10,\n",
    "        \"num_draws\":10\n",
    "    }\n",
    ")"
   ]
  },
  {
   "cell_type": "code",
   "execution_count": 20,
   "id": "810d1265-da22-4205-8492-dfa672577c10",
   "metadata": {},
   "outputs": [
    {
     "name": "stdout",
     "output_type": "stream",
     "text": [
      "[2022-02-22 18:46:16+0000] WARNING - prefect | Available disk storage at /mnt/nfs is small (68 GB remaining)\n",
      "[2022-02-22 18:46:16+0000] INFO - prefect | Starting Slurm controller ...\n",
      "[2022-02-22 18:46:16+0000] INFO - prefect | Waiting up to 60 seconds for Slurm controller to start ...\n",
      "[2022-02-22 18:46:17+0000] WARNING - prefect | Cannot recover preexisting task outputs: [Errno 2] No such file or directory: '/mnt/nfs/workspace/Hapaseg_coverage_dp__2022-02-22--18-46-17_vr5yroi_gu0qihq_jnen1j5wwc0jw/jobs/0'\n",
      "[2022-02-22 18:46:17+0000] WARNING - prefect | Overwriting output and aborting job avoidance.\n",
      "[2022-02-22 18:46:17+0000] INFO - prefect | Localizing inputs...\n",
      "[2022-02-22 18:46:17+0000] INFO - prefect | Job staged on SLURM controller in: /mnt/nfs/workspace/Hapaseg_coverage_dp__2022-02-22--18-46-17_vr5yroi_gu0qihq_jnen1j5wwc0jw\n",
      "[2022-02-22 18:46:17+0000] INFO - prefect | Preparing pipeline script\n",
      "[2022-02-22 19:34:40+0000] INFO - prefect | Finished with status COMPLETED\n"
     ]
    }
   ],
   "source": [
    "cov_dp_res = cov_dp_task.run()"
   ]
  },
  {
   "cell_type": "code",
   "execution_count": 24,
   "id": "64664eff-095b-428b-8f37-4b0f3588429d",
   "metadata": {},
   "outputs": [
    {
     "data": {
      "text/plain": [
       "'/mnt/nfs/workspace/Hapaseg_coverage_dp__2022-02-21--19-20-12_vr5yroi_0z03eha_3jsg0ejxgek5k/outputs/0/cov_dp_object/Cov_DP_model.pickle'"
      ]
     },
     "execution_count": 24,
     "metadata": {},
     "output_type": "execute_result"
    }
   ],
   "source": [
    "cov_dp_res['cov_dp_object']"
   ]
  },
  {
   "cell_type": "code",
   "execution_count": 21,
   "id": "ef20e262-b552-4083-9ecc-f714077da0b4",
   "metadata": {},
   "outputs": [],
   "source": [
    "adp_draw_num = int(np.load(prep_cov_mcmc_res[\"preprocess_data\"])[\"adp_cluster\"])\n",
    "gen_acdp_task = hapaseg.Hapaseg_acdp_generate_df(\n",
    "    inputs = {\n",
    "        \"SNPs_pickle\":loc_res[\"SNPs_pickle\"],\n",
    "        \"allelic_clusters_object\":loc_res[\"allelic_clusters_object\"],\n",
    "        \"coverage_dp_object\":cov_dp_res[\"cov_dp_object\"],\n",
    "        \"allelic_draw_index\":adp_draw_num,\n",
    "        \"ref_file_path\":loc_res[\"ref_fasta\"]\n",
    "    }\n",
    ")"
   ]
  },
  {
   "cell_type": "code",
   "execution_count": 22,
   "id": "1127c98a-3c43-4999-a427-1e27ce9b0ef8",
   "metadata": {},
   "outputs": [
    {
     "name": "stdout",
     "output_type": "stream",
     "text": [
      "[2022-02-22 19:38:45+0000] WARNING - prefect | Available disk storage at /mnt/nfs is small (68 GB remaining)\n",
      "[2022-02-22 19:38:45+0000] INFO - prefect | Starting Slurm controller ...\n",
      "[2022-02-22 19:38:45+0000] INFO - prefect | Waiting up to 60 seconds for Slurm controller to start ...\n",
      "[2022-02-22 19:38:46+0000] WARNING - prefect | Cannot recover preexisting task outputs: [Errno 2] No such file or directory: '/mnt/nfs/workspace/Hapaseg_acdp_generate_df__2022-02-22--19-38-46_b3hxleq_gu0qihq_gclmix5vysgvm/jobs/0'\n",
      "[2022-02-22 19:38:46+0000] WARNING - prefect | Overwriting output and aborting job avoidance.\n",
      "[2022-02-22 19:38:46+0000] INFO - prefect | Localizing inputs...\n",
      "[2022-02-22 19:38:46+0000] INFO - prefect | Job staged on SLURM controller in: /mnt/nfs/workspace/Hapaseg_acdp_generate_df__2022-02-22--19-38-46_b3hxleq_gu0qihq_gclmix5vysgvm\n",
      "[2022-02-22 19:38:46+0000] INFO - prefect | Preparing pipeline script\n",
      "[2022-02-22 19:44:18+0000] INFO - prefect | Finished with status COMPLETED\n"
     ]
    }
   ],
   "source": [
    "gen_acdp_results = gen_acdp_task.run()"
   ]
  },
  {
   "cell_type": "code",
   "execution_count": 8,
   "id": "96b1a5c8-c535-4022-9aff-05979b6ef1af",
   "metadata": {},
   "outputs": [
    {
     "ename": "NameError",
     "evalue": "name 'cov_dp_res' is not defined",
     "output_type": "error",
     "traceback": [
      "\u001b[0;31m---------------------------------------------------------------------------\u001b[0m",
      "\u001b[0;31mNameError\u001b[0m                                 Traceback (most recent call last)",
      "\u001b[0;32m/tmp/ipykernel_12803/1544343046.py\u001b[0m in \u001b[0;36m<module>\u001b[0;34m\u001b[0m\n\u001b[1;32m      1\u001b[0m acdp_task = hapaseg.Hapaseg_run_acdp(\n\u001b[1;32m      2\u001b[0m     inputs = {\n\u001b[0;32m----> 3\u001b[0;31m         \u001b[0;34m\"coverage_dp_object\"\u001b[0m\u001b[0;34m:\u001b[0m\u001b[0mcov_dp_res\u001b[0m\u001b[0;34m[\u001b[0m\u001b[0;34m\"cov_dp_object\"\u001b[0m\u001b[0;34m]\u001b[0m\u001b[0;34m,\u001b[0m\u001b[0;34m\u001b[0m\u001b[0;34m\u001b[0m\u001b[0m\n\u001b[0m\u001b[1;32m      4\u001b[0m         \u001b[0;34m\"acdp_df\"\u001b[0m\u001b[0;34m:\u001b[0m\u001b[0mgen_acdp_results\u001b[0m\u001b[0;34m[\u001b[0m\u001b[0;34m\"acdp_df_pickle\"\u001b[0m\u001b[0;34m]\u001b[0m\u001b[0;34m,\u001b[0m\u001b[0;34m\u001b[0m\u001b[0;34m\u001b[0m\u001b[0m\n\u001b[1;32m      5\u001b[0m         \u001b[0;34m\"num_samples\"\u001b[0m\u001b[0;34m:\u001b[0m\u001b[0;36m10\u001b[0m\u001b[0;34m,\u001b[0m\u001b[0;34m\u001b[0m\u001b[0;34m\u001b[0m\u001b[0m\n",
      "\u001b[0;31mNameError\u001b[0m: name 'cov_dp_res' is not defined"
     ]
    }
   ],
   "source": [
    "acdp_task = hapaseg.Hapaseg_run_acdp(\n",
    "    inputs = {\n",
    "        \"coverage_dp_object\":cov_dp_res[\"cov_dp_object\"],\n",
    "        \"acdp_df\":gen_acdp_results[\"acdp_df_pickle\"],\n",
    "        \"num_samples\":10,\n",
    "        \"cytoband_df\": loc_res[\"cytoband_file\"]\n",
    "    }\n",
    ")"
   ]
  },
  {
   "cell_type": "code",
   "execution_count": null,
   "id": "e04a629d-b6a5-4a83-9a04-9af162a152c9",
   "metadata": {},
   "outputs": [],
   "source": []
  },
  {
   "cell_type": "code",
   "execution_count": 13,
   "id": "3ebb669e-ac34-4977-a0cf-f237c862625d",
   "metadata": {},
   "outputs": [],
   "source": [
    "acdp_task = hapaseg.Hapaseg_run_acdp(\n",
    "    inputs = {\n",
    "        \"coverage_dp_object\":'/mnt/nfs/workspace/Hapaseg_coverage_dp__2022-02-22--18-46-17_vr5yroi_gu0qihq_jnen1j5wwc0jw/outputs/0/cov_dp_object/Cov_DP_model.pickle',\n",
    "        \"acdp_df\":'/mnt/nfs/workspace/Hapaseg_acdp_generate_df__2022-02-22--19-38-46_b3hxleq_gu0qihq_gclmix5vysgvm/outputs/0/acdp_df_pickle/acdp_df.pickle',\n",
    "        \"num_samples\":10,\n",
    "        \"cytoband_file\": 'rodisk://canine-a8871bb61a48cc8aa0b466808d59e309/cytoband_file/cytoBand.txt'\n",
    "    }\n",
    ")"
   ]
  },
  {
   "cell_type": "code",
   "execution_count": 14,
   "id": "d5e8e000-9887-4883-9f75-c5a123f84c1c",
   "metadata": {},
   "outputs": [
    {
     "name": "stdout",
     "output_type": "stream",
     "text": [
      "[2022-02-22 20:44:03+0000] WARNING - prefect | Available disk storage at /mnt/nfs is small (67 GB remaining)\n",
      "[2022-02-22 20:44:03+0000] INFO - prefect | Starting Slurm controller ...\n",
      "[2022-02-22 20:44:03+0000] INFO - prefect | Waiting up to 60 seconds for Slurm controller to start ...\n",
      "[2022-02-22 20:44:04+0000] WARNING - prefect | Cannot recover preexisting task outputs: [Errno 2] No such file or directory: '/mnt/nfs/workspace/Hapaseg_run_acdp__2022-02-22--20-44-04_2obbi3a_gu0qihq_bgwybrorrvnuq/jobs/0'\n",
      "[2022-02-22 20:44:04+0000] WARNING - prefect | Overwriting output and aborting job avoidance.\n",
      "[2022-02-22 20:44:04+0000] INFO - prefect | Localizing inputs...\n",
      "[2022-02-22 20:44:04+0000] INFO - prefect | Job staged on SLURM controller in: /mnt/nfs/workspace/Hapaseg_run_acdp__2022-02-22--20-44-04_2obbi3a_gu0qihq_bgwybrorrvnuq\n",
      "[2022-02-22 20:44:04+0000] INFO - prefect | Preparing pipeline script\n",
      "[2022-02-22 20:49:07+0000] INFO - prefect | Finished with status COMPLETED\n"
     ]
    },
    {
     "data": {
      "text/plain": [
       "<WolfTaskResults: State: COMPLETED\n",
       "                  Inputs: {'acdp_df': '/mnt/nfs/workspace/Hapaseg_acdp_generate_df__2022-02-22--19-38-46_b3hxleq_gu0qihq_gclmix5vysgvm/outputs/0/acdp_df_pickle/acdp_df.pickle', 'coverage_dp_object': '/mnt/nfs/workspace/Hapaseg_coverage_dp__2022-02-22--18-46-17_vr5yroi_gu0qihq_jnen1j5wwc0jw/outputs/0/cov_dp_object/Cov_DP_model.pickle', 'cytoband_file': 'rodisk://canine-a8871bb61a48cc8aa0b466808d59e309/cytoband_file/cytoBand.txt', 'num_samples': '10'}\n",
       "                  Outputs: {acdp_model_pickle, stdout, stderr}>"
      ]
     },
     "execution_count": 14,
     "metadata": {},
     "output_type": "execute_result"
    }
   ],
   "source": [
    "acdp_task.run()"
   ]
  },
  {
   "cell_type": "code",
   "execution_count": 25,
   "id": "d8bff6ee-5350-48c6-a5ea-3d92f96d2e33",
   "metadata": {},
   "outputs": [
    {
     "data": {
      "text/plain": [
       "34.7"
      ]
     },
     "execution_count": 25,
     "metadata": {},
     "output_type": "execute_result"
    }
   ],
   "source": [
    "2082/60"
   ]
  },
  {
   "cell_type": "code",
   "execution_count": 31,
   "id": "53474b76-b75d-46d5-99f9-8b9554326178",
   "metadata": {},
   "outputs": [
    {
     "data": {
      "text/plain": [
       "'rodisk://canine-fc0121b350f84fddd9c8a748234c7eda/allelic_segs/allelic_segs_hg19.pickle'"
      ]
     },
     "execution_count": 31,
     "metadata": {},
     "output_type": "execute_result"
    }
   ],
   "source": [
    "loc_res[\"allelic_segs\"]"
   ]
  },
  {
   "cell_type": "code",
   "execution_count": 15,
   "id": "4fb7c36e-5a16-4888-ac0e-3dae40a12c49",
   "metadata": {},
   "outputs": [
    {
     "data": {
      "text/plain": [
       "'/mnt/nfs/workspace/Hapaseg_run_acdp__2022-02-22--20-44-04_2obbi3a_gu0qihq_bgwybrorrvnuq/jobs/0/workspace/acdp_clusters_plot.png'"
      ]
     },
     "execution_count": 15,
     "metadata": {},
     "output_type": "execute_result"
    }
   ],
   "source": [
    "\"/mnt/nfs/workspace/Hapaseg_run_acdp__2022-02-22--20-44-04_2obbi3a_gu0qihq_bgwybrorrvnuq/jobs/0/workspace/acdp_clusters_plot.png\""
   ]
  },
  {
   "cell_type": "markdown",
   "id": "f33b2eb5-4d6a-45ed-a435-bc5595b4b3a5",
   "metadata": {},
   "source": [
    "<img src=\"/mnt/nfs/workspace/Hapaseg_run_acdp__2022-02-22--20-44-04_2obbi3a_gu0qihq_bgwybrorrvnuq/jobs/0/workspace/acdp_clusters_plot.png\" />"
   ]
  },
  {
   "cell_type": "code",
   "execution_count": 18,
   "id": "e402dd87-7055-44e9-93fb-0ddd13780611",
   "metadata": {},
   "outputs": [
    {
     "data": {
      "image/png": "[encoded data removed]",
      "text/plain": [
       "<Figure size 432x288 with 1 Axes>"
      ]
     },
     "metadata": {
      "needs_background": "light"
     },
     "output_type": "display_data"
    }
   ],
   "source": [
    "import matplotlib.pyplot as plt\n",
    "import matplotlib.image as mpimg\n",
    "img = mpimg.imread(\"/mnt/nfs/workspace/Hapaseg_run_acdp__2022-02-22--20-44-04_2obbi3a_gu0qihq_bgwybrorrvnuq/jobs/0/workspace/acdp_genome_plot.png\")\n",
    "imgplot = plt.imshow(img)\n",
    "plt.show()"
   ]
  },
  {
   "cell_type": "code",
   "execution_count": 34,
   "id": "23c25452-4949-4feb-ad1e-4c1219ab63e4",
   "metadata": {},
   "outputs": [
    {
     "data": {
      "text/html": [
       "<div>\n",
       "<style scoped>\n",
       "    .dataframe tbody tr th:only-of-type {\n",
       "        vertical-align: middle;\n",
       "    }\n",
       "\n",
       "    .dataframe tbody tr th {\n",
       "        vertical-align: top;\n",
       "    }\n",
       "\n",
       "    .dataframe thead th {\n",
       "        text-align: right;\n",
       "    }\n",
       "</style>\n",
       "<table border=\"1\" class=\"dataframe\">\n",
       "  <thead>\n",
       "    <tr style=\"text-align: right;\">\n",
       "      <th></th>\n",
       "      <th>chr</th>\n",
       "      <th>start</th>\n",
       "      <th>end</th>\n",
       "    </tr>\n",
       "  </thead>\n",
       "  <tbody>\n",
       "    <tr>\n",
       "      <th>0</th>\n",
       "      <td>1</td>\n",
       "      <td>0</td>\n",
       "      <td>121500000</td>\n",
       "    </tr>\n",
       "    <tr>\n",
       "      <th>1</th>\n",
       "      <td>1</td>\n",
       "      <td>128900000</td>\n",
       "      <td>249250621</td>\n",
       "    </tr>\n",
       "    <tr>\n",
       "      <th>2</th>\n",
       "      <td>2</td>\n",
       "      <td>0</td>\n",
       "      <td>90500000</td>\n",
       "    </tr>\n",
       "    <tr>\n",
       "      <th>3</th>\n",
       "      <td>2</td>\n",
       "      <td>96800000</td>\n",
       "      <td>243199373</td>\n",
       "    </tr>\n",
       "    <tr>\n",
       "      <th>4</th>\n",
       "      <td>3</td>\n",
       "      <td>0</td>\n",
       "      <td>87900000</td>\n",
       "    </tr>\n",
       "    <tr>\n",
       "      <th>5</th>\n",
       "      <td>3</td>\n",
       "      <td>93900000</td>\n",
       "      <td>198022430</td>\n",
       "    </tr>\n",
       "    <tr>\n",
       "      <th>6</th>\n",
       "      <td>4</td>\n",
       "      <td>0</td>\n",
       "      <td>48200000</td>\n",
       "    </tr>\n",
       "    <tr>\n",
       "      <th>7</th>\n",
       "      <td>4</td>\n",
       "      <td>52700000</td>\n",
       "      <td>191154276</td>\n",
       "    </tr>\n",
       "    <tr>\n",
       "      <th>8</th>\n",
       "      <td>5</td>\n",
       "      <td>0</td>\n",
       "      <td>46100000</td>\n",
       "    </tr>\n",
       "    <tr>\n",
       "      <th>9</th>\n",
       "      <td>5</td>\n",
       "      <td>50700000</td>\n",
       "      <td>180915260</td>\n",
       "    </tr>\n",
       "    <tr>\n",
       "      <th>10</th>\n",
       "      <td>6</td>\n",
       "      <td>0</td>\n",
       "      <td>58700000</td>\n",
       "    </tr>\n",
       "    <tr>\n",
       "      <th>11</th>\n",
       "      <td>6</td>\n",
       "      <td>63300000</td>\n",
       "      <td>171115067</td>\n",
       "    </tr>\n",
       "    <tr>\n",
       "      <th>12</th>\n",
       "      <td>7</td>\n",
       "      <td>0</td>\n",
       "      <td>58000000</td>\n",
       "    </tr>\n",
       "    <tr>\n",
       "      <th>13</th>\n",
       "      <td>7</td>\n",
       "      <td>61700000</td>\n",
       "      <td>159138663</td>\n",
       "    </tr>\n",
       "    <tr>\n",
       "      <th>14</th>\n",
       "      <td>8</td>\n",
       "      <td>0</td>\n",
       "      <td>43100000</td>\n",
       "    </tr>\n",
       "    <tr>\n",
       "      <th>15</th>\n",
       "      <td>8</td>\n",
       "      <td>48100000</td>\n",
       "      <td>146364022</td>\n",
       "    </tr>\n",
       "    <tr>\n",
       "      <th>16</th>\n",
       "      <td>9</td>\n",
       "      <td>0</td>\n",
       "      <td>47300000</td>\n",
       "    </tr>\n",
       "    <tr>\n",
       "      <th>17</th>\n",
       "      <td>9</td>\n",
       "      <td>50700000</td>\n",
       "      <td>141213431</td>\n",
       "    </tr>\n",
       "    <tr>\n",
       "      <th>18</th>\n",
       "      <td>10</td>\n",
       "      <td>0</td>\n",
       "      <td>38000000</td>\n",
       "    </tr>\n",
       "    <tr>\n",
       "      <th>19</th>\n",
       "      <td>10</td>\n",
       "      <td>42300000</td>\n",
       "      <td>135534747</td>\n",
       "    </tr>\n",
       "    <tr>\n",
       "      <th>20</th>\n",
       "      <td>11</td>\n",
       "      <td>0</td>\n",
       "      <td>51600000</td>\n",
       "    </tr>\n",
       "    <tr>\n",
       "      <th>21</th>\n",
       "      <td>11</td>\n",
       "      <td>55700000</td>\n",
       "      <td>135006516</td>\n",
       "    </tr>\n",
       "    <tr>\n",
       "      <th>22</th>\n",
       "      <td>12</td>\n",
       "      <td>0</td>\n",
       "      <td>33300000</td>\n",
       "    </tr>\n",
       "    <tr>\n",
       "      <th>23</th>\n",
       "      <td>12</td>\n",
       "      <td>38200000</td>\n",
       "      <td>133851895</td>\n",
       "    </tr>\n",
       "    <tr>\n",
       "      <th>24</th>\n",
       "      <td>13</td>\n",
       "      <td>0</td>\n",
       "      <td>16300000</td>\n",
       "    </tr>\n",
       "    <tr>\n",
       "      <th>25</th>\n",
       "      <td>13</td>\n",
       "      <td>19500000</td>\n",
       "      <td>115169878</td>\n",
       "    </tr>\n",
       "    <tr>\n",
       "      <th>26</th>\n",
       "      <td>14</td>\n",
       "      <td>0</td>\n",
       "      <td>16100000</td>\n",
       "    </tr>\n",
       "    <tr>\n",
       "      <th>27</th>\n",
       "      <td>14</td>\n",
       "      <td>19100000</td>\n",
       "      <td>107349540</td>\n",
       "    </tr>\n",
       "    <tr>\n",
       "      <th>28</th>\n",
       "      <td>15</td>\n",
       "      <td>0</td>\n",
       "      <td>15800000</td>\n",
       "    </tr>\n",
       "    <tr>\n",
       "      <th>29</th>\n",
       "      <td>15</td>\n",
       "      <td>20700000</td>\n",
       "      <td>102531392</td>\n",
       "    </tr>\n",
       "    <tr>\n",
       "      <th>30</th>\n",
       "      <td>16</td>\n",
       "      <td>0</td>\n",
       "      <td>34600000</td>\n",
       "    </tr>\n",
       "    <tr>\n",
       "      <th>31</th>\n",
       "      <td>16</td>\n",
       "      <td>38600000</td>\n",
       "      <td>90354753</td>\n",
       "    </tr>\n",
       "    <tr>\n",
       "      <th>32</th>\n",
       "      <td>17</td>\n",
       "      <td>0</td>\n",
       "      <td>22200000</td>\n",
       "    </tr>\n",
       "    <tr>\n",
       "      <th>33</th>\n",
       "      <td>17</td>\n",
       "      <td>25800000</td>\n",
       "      <td>81195210</td>\n",
       "    </tr>\n",
       "    <tr>\n",
       "      <th>34</th>\n",
       "      <td>18</td>\n",
       "      <td>0</td>\n",
       "      <td>15400000</td>\n",
       "    </tr>\n",
       "    <tr>\n",
       "      <th>35</th>\n",
       "      <td>18</td>\n",
       "      <td>19000000</td>\n",
       "      <td>78077248</td>\n",
       "    </tr>\n",
       "    <tr>\n",
       "      <th>36</th>\n",
       "      <td>19</td>\n",
       "      <td>0</td>\n",
       "      <td>24400000</td>\n",
       "    </tr>\n",
       "    <tr>\n",
       "      <th>37</th>\n",
       "      <td>19</td>\n",
       "      <td>28600000</td>\n",
       "      <td>59128983</td>\n",
       "    </tr>\n",
       "    <tr>\n",
       "      <th>38</th>\n",
       "      <td>20</td>\n",
       "      <td>0</td>\n",
       "      <td>25600000</td>\n",
       "    </tr>\n",
       "    <tr>\n",
       "      <th>39</th>\n",
       "      <td>20</td>\n",
       "      <td>29400000</td>\n",
       "      <td>63025520</td>\n",
       "    </tr>\n",
       "    <tr>\n",
       "      <th>40</th>\n",
       "      <td>21</td>\n",
       "      <td>0</td>\n",
       "      <td>10900000</td>\n",
       "    </tr>\n",
       "    <tr>\n",
       "      <th>41</th>\n",
       "      <td>21</td>\n",
       "      <td>14300000</td>\n",
       "      <td>48129895</td>\n",
       "    </tr>\n",
       "    <tr>\n",
       "      <th>42</th>\n",
       "      <td>22</td>\n",
       "      <td>0</td>\n",
       "      <td>12200000</td>\n",
       "    </tr>\n",
       "    <tr>\n",
       "      <th>43</th>\n",
       "      <td>22</td>\n",
       "      <td>17900000</td>\n",
       "      <td>51304566</td>\n",
       "    </tr>\n",
       "    <tr>\n",
       "      <th>44</th>\n",
       "      <td>23</td>\n",
       "      <td>0</td>\n",
       "      <td>58100000</td>\n",
       "    </tr>\n",
       "    <tr>\n",
       "      <th>45</th>\n",
       "      <td>23</td>\n",
       "      <td>63000000</td>\n",
       "      <td>155270560</td>\n",
       "    </tr>\n",
       "    <tr>\n",
       "      <th>46</th>\n",
       "      <td>24</td>\n",
       "      <td>0</td>\n",
       "      <td>11600000</td>\n",
       "    </tr>\n",
       "    <tr>\n",
       "      <th>47</th>\n",
       "      <td>24</td>\n",
       "      <td>13400000</td>\n",
       "      <td>59373566</td>\n",
       "    </tr>\n",
       "  </tbody>\n",
       "</table>\n",
       "</div>"
      ],
      "text/plain": [
       "    chr      start        end\n",
       "0     1          0  121500000\n",
       "1     1  128900000  249250621\n",
       "2     2          0   90500000\n",
       "3     2   96800000  243199373\n",
       "4     3          0   87900000\n",
       "5     3   93900000  198022430\n",
       "6     4          0   48200000\n",
       "7     4   52700000  191154276\n",
       "8     5          0   46100000\n",
       "9     5   50700000  180915260\n",
       "10    6          0   58700000\n",
       "11    6   63300000  171115067\n",
       "12    7          0   58000000\n",
       "13    7   61700000  159138663\n",
       "14    8          0   43100000\n",
       "15    8   48100000  146364022\n",
       "16    9          0   47300000\n",
       "17    9   50700000  141213431\n",
       "18   10          0   38000000\n",
       "19   10   42300000  135534747\n",
       "20   11          0   51600000\n",
       "21   11   55700000  135006516\n",
       "22   12          0   33300000\n",
       "23   12   38200000  133851895\n",
       "24   13          0   16300000\n",
       "25   13   19500000  115169878\n",
       "26   14          0   16100000\n",
       "27   14   19100000  107349540\n",
       "28   15          0   15800000\n",
       "29   15   20700000  102531392\n",
       "30   16          0   34600000\n",
       "31   16   38600000   90354753\n",
       "32   17          0   22200000\n",
       "33   17   25800000   81195210\n",
       "34   18          0   15400000\n",
       "35   18   19000000   78077248\n",
       "36   19          0   24400000\n",
       "37   19   28600000   59128983\n",
       "38   20          0   25600000\n",
       "39   20   29400000   63025520\n",
       "40   21          0   10900000\n",
       "41   21   14300000   48129895\n",
       "42   22          0   12200000\n",
       "43   22   17900000   51304566\n",
       "44   23          0   58100000\n",
       "45   23   63000000  155270560\n",
       "46   24          0   11600000\n",
       "47   24   13400000   59373566"
      ]
     },
     "execution_count": 34,
     "metadata": {},
     "output_type": "execute_result"
    }
   ],
   "source": [
    "pd.read_pickle('../cptest.pickle')"
   ]
  },
  {
   "cell_type": "code",
   "execution_count": null,
   "id": "2c4602dc-b590-4f13-a5af-fdba709c6b18",
   "metadata": {},
   "outputs": [],
   "source": []
  }
 ],
 "metadata": {
  "kernelspec": {
   "display_name": "Python 3 (ipykernel)",
   "language": "python",
   "name": "python3"
  },
  "language_info": {
   "codemirror_mode": {
    "name": "ipython",
    "version": 3
   },
   "file_extension": ".py",
   "mimetype": "text/x-python",
   "name": "python",
   "nbconvert_exporter": "python",
   "pygments_lexer": "ipython3",
   "version": "3.8.12"
  }
 },
 "nbformat": 4,
 "nbformat_minor": 5
}
