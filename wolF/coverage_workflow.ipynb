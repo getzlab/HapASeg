{
 "cells": [
  {
   "cell_type": "code",
   "execution_count": 1,
   "id": "8615e532-2479-4502-9580-227d4dea5416",
   "metadata": {},
   "outputs": [
    {
     "name": "stdout",
     "output_type": "stream",
     "text": [
      "Error configuring prefect logger\n"
     ]
    }
   ],
   "source": [
    "import glob\n",
    "import numpy as np\n",
    "import os\n",
    "import pandas as pd\n",
    "import pickle\n",
    "import prefect\n",
    "import subprocess\n",
    "import tempfile\n",
    "import wolf"
   ]
  },
  {
   "cell_type": "code",
   "execution_count": 20,
   "id": "611d3ee8-ccdf-41b4-a3de-9ebac02ebbd8",
   "metadata": {},
   "outputs": [
    {
     "data": {
      "text/plain": [
       "<module 'wolf' from '/home/opriebe/anaconda3/envs/hapaseg/lib/python3.8/site-packages/wolf/__init__.py'>"
      ]
     },
     "execution_count": 20,
     "metadata": {},
     "output_type": "execute_result"
    }
   ],
   "source": [
    "import importlib\n",
    "importlib.reload(wolf)"
   ]
  },
  {
   "cell_type": "code",
   "execution_count": 21,
   "id": "3928efb3-60d5-4367-81f0-b30792fe5dfd",
   "metadata": {},
   "outputs": [],
   "source": [
    "# for Hapaseg itself\n",
    "hapaseg = wolf.ImportTask(\n",
    "  task_path = \"../\", # TODO: make remote\n",
    "  task_name = \"hapaseg\"\n",
    ")"
   ]
  },
  {
   "cell_type": "code",
   "execution_count": 3,
   "id": "a671479a-bd60-45c0-9c9c-4ad008f4b3ff",
   "metadata": {},
   "outputs": [],
   "source": [
    "# localize reference files to RODISK\n",
    "localization_task = wolf.LocalizeToDisk(\n",
    "  files = dict(\n",
    "    ref_fasta = \"gs://getzlab-workflows-reference_files-oa/hg19/Homo_sapiens_assembly19.fasta\",\n",
    "    ref_fasta_idx = \"gs://getzlab-workflows-reference_files-oa/hg19/Homo_sapiens_assembly19.fasta.fai\",\n",
    "    ref_fasta_dict = \"gs://getzlab-workflows-reference_files-oa/hg19/Homo_sapiens_assembly19.dict\",\n",
    "    coverage_csv='/home/opriebe/dev/HapASeg/exome/6_C1D1_META.cov',\n",
    "    allelic_clusters_object='/home/opriebe/dev/HapASeg/exome/6_C1D1_META.DP_clusts.auto_ref_correct.overdispersion92.no_phase_correct.npz',\n",
    "    SNPs_pickle='/home/opriebe/dev/HapASeg/exome/6_C1D1_META.SNPs.pickle',\n",
    "    covariate_dir='/home/opriebe/dev/HapASeg/covars',\n",
    "  )\n",
    ")"
   ]
  },
  {
   "cell_type": "code",
   "execution_count": 4,
   "id": "45ab687a-d164-49a1-80a7-f49fed3f8c91",
   "metadata": {},
   "outputs": [
    {
     "name": "stdout",
     "output_type": "stream",
     "text": [
      "[2022-02-17 20:45:03+0000] WARNING - prefect | Available disk storage at /mnt/nfs is small (68 GB remaining)\n",
      "[2022-02-17 20:45:03+0000] INFO - prefect | Starting Slurm controller ...\n",
      "[2022-02-17 20:45:03+0000] INFO - prefect | Waiting up to 60 seconds for Slurm controller to start ...\n",
      "[2022-02-17 20:45:17+0000] INFO - prefect | Hashing file /home/opriebe/dev/HapASeg/covars/GSE137764_H1.hg19_raw_liftover.pickle (0 MiB)\n",
      "[2022-02-17 20:45:17+0000] INFO - prefect | Hashing file /home/opriebe/dev/HapASeg/covars/GC.pickle (0 MiB)\n",
      "[2022-02-17 20:45:17+0000] INFO - prefect | Hashing file /home/opriebe/dev/HapASeg/covars/GSE137764_H1_GaussiansGSE137764_mooth_scaled_autosome.mat (0 MiB)\n",
      "[2022-02-17 20:45:17+0000] INFO - prefect | Hashing file /home/opriebe/dev/HapASeg/covars/GSE137764_H1.hg38.pickle (0 MiB)\n",
      "[2022-02-17 20:45:17+0000] INFO - prefect | Hashing file /home/opriebe/dev/HapASeg/covars/GSE137764_H1.hg19_liftover.pickle (0 MiB)\n",
      "[2022-02-17 20:45:17+0000] WARNING - prefect | Job avoidance disabled for this task; overwriting output.\n",
      "[2022-02-17 20:45:17+0000] INFO - prefect | Localizing inputs...\n",
      "[2022-02-17 20:45:22+0000] INFO - prefect | Disk name is canine-5eabafd987978c5006fcb69a64dd7a4e\n",
      "[2022-02-17 20:45:23+0000] INFO - prefect | Creating new persistent disk canine-5eabafd987978c5006fcb69a64dd7a4e\n",
      "[2022-02-17 20:45:23+0000] INFO - prefect | Job staged on SLURM controller in: /mnt/nfs/workspace/BatchLocalDisk__2022-02-17--20-45-17_mg4xwxy_tbhx1ki_jpgiwu0n5dcqa\n",
      "[2022-02-17 20:45:23+0000] INFO - prefect | Preparing pipeline script\n"
     ]
    },
    {
     "name": "stderr",
     "output_type": "stream",
     "text": [
      "Listed 0 items.\n"
     ]
    },
    {
     "name": "stdout",
     "output_type": "stream",
     "text": [
      "[2022-02-17 20:48:25+0000] INFO - prefect | Finished with status COMPLETED\n"
     ]
    }
   ],
   "source": [
    "loc_res = localization_task.run()"
   ]
  },
  {
   "cell_type": "code",
   "execution_count": 5,
   "id": "c2334c9e-4696-4008-a7a2-8e37f5454d68",
   "metadata": {},
   "outputs": [
    {
     "data": {
      "text/plain": [
       "{'SNPs_pickle': 'rodisk://canine-5eabafd987978c5006fcb69a64dd7a4e/SNPs_pickle/6_C1D1_META.SNPs.pickle',\n",
       " 'allelic_clusters_object': 'rodisk://canine-5eabafd987978c5006fcb69a64dd7a4e/allelic_clusters_object/6_C1D1_META.DP_clusts.auto_ref_correct.overdispersion92.no_phase_correct.npz',\n",
       " 'covariate_dir': 'rodisk://canine-5eabafd987978c5006fcb69a64dd7a4e/covariate_dir/covars',\n",
       " 'coverage_csv': 'rodisk://canine-5eabafd987978c5006fcb69a64dd7a4e/coverage_csv/6_C1D1_META.cov',\n",
       " 'ref_fasta': 'rodisk://canine-5eabafd987978c5006fcb69a64dd7a4e/ref_fasta/Homo_sapiens_assembly19.fasta',\n",
       " 'ref_fasta_dict': 'rodisk://canine-5eabafd987978c5006fcb69a64dd7a4e/ref_fasta_dict/Homo_sapiens_assembly19.dict',\n",
       " 'ref_fasta_idx': 'rodisk://canine-5eabafd987978c5006fcb69a64dd7a4e/ref_fasta_idx/Homo_sapiens_assembly19.fasta.fai'}"
      ]
     },
     "execution_count": 5,
     "metadata": {},
     "output_type": "execute_result"
    }
   ],
   "source": [
    "loc_res"
   ]
  },
  {
   "cell_type": "code",
   "execution_count": 25,
   "id": "4cf4cd5c-1117-4043-836d-9052e05a908f",
   "metadata": {},
   "outputs": [
    {
     "data": {
      "text/plain": [
       "array([ 0,  1,  2,  3,  4,  5,  6,  7,  8,  9, 10, 11, 12, 13, 14, 15, 16,\n",
       "       17, 18, 19])"
      ]
     },
     "execution_count": 25,
     "metadata": {},
     "output_type": "execute_result"
    }
   ],
   "source": [
    "np.arange(20)"
   ]
  },
  {
   "cell_type": "code",
   "execution_count": 6,
   "id": "428b0a5f-5c8c-460b-bbfd-c61d9dc54177",
   "metadata": {},
   "outputs": [],
   "source": [
    "clusts = [i for i in range(20)]"
   ]
  },
  {
   "cell_type": "code",
   "execution_count": 7,
   "id": "5f6e1a75-cc11-438e-ad77-7bb0e93a2b45",
   "metadata": {},
   "outputs": [
    {
     "name": "stdout",
     "output_type": "stream",
     "text": [
      "[2022-02-17 20:48:25+0000] WARNING - prefect | Available disk storage at /mnt/nfs is small (68 GB remaining)\n",
      "[2022-02-17 20:48:25+0000] INFO - prefect | Starting Slurm controller ...\n",
      "[2022-02-17 20:48:25+0000] INFO - prefect | Waiting up to 60 seconds for Slurm controller to start ...\n",
      "[2022-02-17 20:48:26+0000] WARNING - prefect | Cannot recover preexisting task outputs: [Errno 2] No such file or directory: '/mnt/nfs/workspace/Hapaseg_coverage_mcmc__2022-02-17--20-48-26_1dspx3a_p3h1szq_d0grvvdwbc3ym/jobs/0'\n",
      "[2022-02-17 20:48:26+0000] WARNING - prefect | Overwriting output and aborting job avoidance.\n",
      "[2022-02-17 20:48:26+0000] INFO - prefect | Localizing inputs...\n",
      "[2022-02-17 20:48:26+0000] INFO - prefect | Job staged on SLURM controller in: /mnt/nfs/workspace/Hapaseg_coverage_mcmc__2022-02-17--20-48-26_1dspx3a_p3h1szq_d0grvvdwbc3ym\n",
      "[2022-02-17 20:48:26+0000] INFO - prefect | Preparing pipeline script\n",
      "[2022-02-17 21:02:04+0000] INFO - prefect | Finished with statuses COMPLETED: 20\n"
     ]
    }
   ],
   "source": [
    "cov_mcmc_task = hapaseg.Hapaseg_coverage_mcmc(\n",
    "inputs={\n",
    "        \"coverage_csv\":loc_res[\"coverage_csv\"],\n",
    "        \"allelic_clusters_object\":loc_res[\"allelic_clusters_object\"],\n",
    "        \"SNPs_pickle\":loc_res[\"SNPs_pickle\"],\n",
    "        \"covariate_dir\":loc_res[\"covariate_dir\"],\n",
    "        \"num_draws\":10,\n",
    "        \"cluster_num\":clusts,\n",
    "        \"allelic_sample\":499,\n",
    "        \"ref_file_path\":loc_res[\"ref_fasta\"]}\n",
    ")\n",
    "cov_mcmc_results = cov_mcmc_task.run()"
   ]
  },
  {
   "cell_type": "code",
   "execution_count": 8,
   "id": "bd1b49bb-e9ff-431f-b6b1-89a55d5ea1d0",
   "metadata": {},
   "outputs": [],
   "source": [
    "cov_mcmc_gather = hapaseg.Hapaseg_collect_coverage_mcmc(\n",
    "    inputs={\n",
    "        \"cov_mcmc_files\":[cov_mcmc_results[\"cov_segmentation_data\"]],\n",
    "        \"cov_df_pickle\":cov_mcmc_results[\"cov_df_segmentation\"][0]\n",
    "    }\n",
    ")"
   ]
  },
  {
   "cell_type": "code",
   "execution_count": 9,
   "id": "53225fa9-4d7f-4682-89cc-9d4e803bdf7f",
   "metadata": {},
   "outputs": [
    {
     "name": "stdout",
     "output_type": "stream",
     "text": [
      "[2022-02-17 21:02:04+0000] WARNING - prefect | Available disk storage at /mnt/nfs is small (68 GB remaining)\n",
      "[2022-02-17 21:02:04+0000] INFO - prefect | Starting Slurm controller ...\n",
      "[2022-02-17 21:02:04+0000] INFO - prefect | Waiting up to 60 seconds for Slurm controller to start ...\n",
      "[2022-02-17 21:02:05+0000] WARNING - prefect | Cannot recover preexisting task outputs: [Errno 2] No such file or directory: '/mnt/nfs/workspace/Hapaseg_collect_coverage_mcmc__2022-02-17--21-02-05_fueiipq_p3h1szq_scld2nyne5ct0/jobs/0'\n",
      "[2022-02-17 21:02:05+0000] WARNING - prefect | Overwriting output and aborting job avoidance.\n",
      "[2022-02-17 21:02:05+0000] INFO - prefect | Localizing inputs...\n",
      "[2022-02-17 21:02:05+0000] INFO - prefect | Job staged on SLURM controller in: /mnt/nfs/workspace/Hapaseg_collect_coverage_mcmc__2022-02-17--21-02-05_fueiipq_p3h1szq_scld2nyne5ct0\n",
      "[2022-02-17 21:02:05+0000] INFO - prefect | Preparing pipeline script\n",
      "[2022-02-17 21:02:36+0000] INFO - prefect | Finished with status COMPLETED\n"
     ]
    }
   ],
   "source": [
    "gather_results = cov_mcmc_gather.run()"
   ]
  },
  {
   "cell_type": "code",
   "execution_count": 10,
   "id": "f9443370-349c-4e5e-8cbe-5e795b6d6601",
   "metadata": {},
   "outputs": [
    {
     "data": {
      "text/plain": [
       "<WolfTaskResults: State: COMPLETED\n",
       "                  Inputs: {'cov_df_pickle': '/mnt/nfs/workspace/Hapaseg_coverage_mcmc__2022-02-17--20-48-26_1dspx3a_p3h1szq_d0grvvdwbc3ym/outputs/0/cov_df_segmentation/coverage_mcmc_clusters/cov_df.pickle', 'cov_mcmc_files': '[<canine.localization.file_handlers.HandleRegularFile object at 0x7f8d7e16fd60>, <canine.localization.file_handlers.HandleRegularFile object at 0x7f8d7e16fac0>, <canine.localization.file_handlers.HandleRegularFile object at 0x7f8d7e1c7b50>, <canine.localization.file_handlers.HandleRegularFile object at 0x7f8d7e1c7460>, <canine.localization.file_handlers.HandleRegularFile object at 0x7f8d84241e20>, <canine.localization.file_handlers.HandleRegularFile object at 0x7f8d84241c40>, <canine.localization.file_handlers.HandleRegularFile object at 0x7f8d84241df0>, <canine.localization.file_handlers.HandleRegularFile object at 0x7f8d84241340>, <canine.localization.file_handlers.HandleRegularFile object at 0x7f8d84241dc0>, <canine.localization.file_handlers.HandleRegularFile object at 0x7f8d842418b0>, <canine.localization.file_handlers.HandleRegularFile object at 0x7f8d7e209820>, <canine.localization.file_handlers.HandleRegularFile object at 0x7f8d7e209a30>, <canine.localization.file_handlers.HandleRegularFile object at 0x7f8d7e209340>, <canine.localization.file_handlers.HandleRegularFile object at 0x7f8d7e209a90>, <canine.localization.file_handlers.HandleRegularFile object at 0x7f8d7e209370>, <canine.localization.file_handlers.HandleRegularFile object at 0x7f8d7e209850>, <canine.localization.file_handlers.HandleRegularFile object at 0x7f8d7e209bb0>, <canine.localization.file_handlers.HandleRegularFile object at 0x7f8d7e2094c0>, <canine.localization.file_handlers.HandleRegularFile object at 0x7f8d7e2098b0>, <canine.localization.file_handlers.StringLiteral object at 0x7f8d7e209520>]'}\n",
       "                  Outputs: {stdout, stderr, cov_collected_data}>"
      ]
     },
     "execution_count": 10,
     "metadata": {},
     "output_type": "execute_result"
    }
   ],
   "source": [
    "gather_results"
   ]
  },
  {
   "cell_type": "code",
   "execution_count": 11,
   "id": "77854c25-451c-4156-a4f1-56cae7feb23a",
   "metadata": {},
   "outputs": [],
   "source": [
    "cov_dp_task = hapaseg.Hapaseg_coverage_dp(\n",
    "    inputs={\n",
    "        \"f_cov_df\":cov_mcmc_results[\"cov_df_segmentation\"][0],\n",
    "        \"cov_mcmc_data\": gather_results[\"cov_collected_data\"],\n",
    "        \"num_segmentation_samples\":10,\n",
    "        \"num_draws\":10\n",
    "    }\n",
    ")"
   ]
  },
  {
   "cell_type": "code",
   "execution_count": null,
   "id": "810d1265-da22-4205-8492-dfa672577c10",
   "metadata": {},
   "outputs": [
    {
     "name": "stdout",
     "output_type": "stream",
     "text": [
      "[2022-02-17 21:02:36+0000] WARNING - prefect | Available disk storage at /mnt/nfs is small (68 GB remaining)\n",
      "[2022-02-17 21:02:36+0000] INFO - prefect | Starting Slurm controller ...\n",
      "[2022-02-17 21:02:36+0000] INFO - prefect | Waiting up to 60 seconds for Slurm controller to start ...\n",
      "[2022-02-17 21:02:37+0000] WARNING - prefect | Cannot recover preexisting task outputs: [Errno 2] No such file or directory: '/mnt/nfs/workspace/Hapaseg_coverage_dp__2022-02-17--21-02-37_vr5yroi_p3h1szq_zffqaw5z5n03c/jobs/0'\n",
      "[2022-02-17 21:02:37+0000] WARNING - prefect | Overwriting output and aborting job avoidance.\n",
      "[2022-02-17 21:02:37+0000] INFO - prefect | Localizing inputs...\n",
      "[2022-02-17 21:02:37+0000] INFO - prefect | Job staged on SLURM controller in: /mnt/nfs/workspace/Hapaseg_coverage_dp__2022-02-17--21-02-37_vr5yroi_p3h1szq_zffqaw5z5n03c\n",
      "[2022-02-17 21:02:37+0000] INFO - prefect | Preparing pipeline script\n"
     ]
    }
   ],
   "source": [
    "cov_dp_results = cov_dp_task.run()"
   ]
  },
  {
   "cell_type": "code",
   "execution_count": 15,
   "id": "f24521a1-8779-44f6-8f80-ea77499342b3",
   "metadata": {},
   "outputs": [
    {
     "data": {
      "text/plain": [
       "'/mnt/nfs/workspace/Hapaseg_coverage_dp__2022-02-17--21-02-37_vr5yroi_p3h1szq_zffqaw5z5n03c/outputs/0/cov_dp_object/Cov_DP_model.pickle'"
      ]
     },
     "execution_count": 15,
     "metadata": {},
     "output_type": "execute_result"
    }
   ],
   "source": [
    "cov_dp_results[\"cov_dp_object\"]"
   ]
  },
  {
   "cell_type": "code",
   "execution_count": 16,
   "id": "f565651c-585a-4437-b145-3e6825e67865",
   "metadata": {},
   "outputs": [
    {
     "data": {
      "text/plain": [
       "'/mnt/nfs/workspace/Hapaseg_coverage_dp__2022-02-17--21-02-37_vr5yroi_p3h1szq_zffqaw5z5n03c/outputs/0/cov_dp_figure/coverage_figures/coverage_draw_9.png'"
      ]
     },
     "execution_count": 16,
     "metadata": {},
     "output_type": "execute_result"
    }
   ],
   "source": [
    "cov_dp_results[\"cov_dp_figure\"]"
   ]
  },
  {
   "cell_type": "code",
   "execution_count": 23,
   "id": "ef20e262-b552-4083-9ecc-f714077da0b4",
   "metadata": {},
   "outputs": [],
   "source": [
    "gen_acdp_task = hapaseg.Hapaseg_acdp_generate_df(\n",
    "    inputs = {\n",
    "        \"SNPs_pickle\":loc_res[\"SNPs_pickle\"],\n",
    "        \"allelic_clusters_object\":loc_res[\"allelic_clusters_object\"],\n",
    "        \"coverage_dp_object\":cov_dp_results[\"cov_dp_object\"],\n",
    "        \"allelic_draw_index\":499,\n",
    "        \"ref_file_path\":loc_res[\"ref_fasta\"]\n",
    "    }\n",
    ")"
   ]
  },
  {
   "cell_type": "code",
   "execution_count": 24,
   "id": "1127c98a-3c43-4999-a427-1e27ce9b0ef8",
   "metadata": {},
   "outputs": [
    {
     "name": "stdout",
     "output_type": "stream",
     "text": [
      "[2022-02-18 13:40:36+0000] WARNING - prefect | Available disk storage at /mnt/nfs is small (68 GB remaining)\n",
      "[2022-02-18 13:40:36+0000] INFO - prefect | Starting Slurm controller ...\n",
      "[2022-02-18 13:40:36+0000] INFO - prefect | Waiting up to 60 seconds for Slurm controller to start ...\n",
      "[2022-02-18 13:40:37+0000] WARNING - prefect | Cannot recover preexisting task outputs: [Errno 2] No such file or directory: '/mnt/nfs/workspace/Hapaseg_acdp_generate_df__2022-02-18--13-40-37_b3hxleq_p3h1szq_i244yc4nxd4iq/jobs/0'\n",
      "[2022-02-18 13:40:37+0000] WARNING - prefect | Overwriting output and aborting job avoidance.\n",
      "[2022-02-18 13:40:37+0000] INFO - prefect | Localizing inputs...\n",
      "[2022-02-18 13:40:37+0000] INFO - prefect | Job staged on SLURM controller in: /mnt/nfs/workspace/Hapaseg_acdp_generate_df__2022-02-18--13-40-37_b3hxleq_p3h1szq_i244yc4nxd4iq\n",
      "[2022-02-18 13:40:37+0000] INFO - prefect | Preparing pipeline script\n",
      "[2022-02-18 13:43:38+0000] INFO - prefect | Finished with status COMPLETED\n"
     ]
    }
   ],
   "source": [
    "gen_acdp_results = gen_acdp_task.run()"
   ]
  },
  {
   "cell_type": "code",
   "execution_count": null,
   "id": "96b1a5c8-c535-4022-9aff-05979b6ef1af",
   "metadata": {},
   "outputs": [],
   "source": [
    "acdp_task = hapaseg.Hapaseg_run_acdp(\n",
    "    inputs = {\n",
    "        \"coverage_dp_object\":cov_dp_results[\"cov_dp_object\"],\n",
    "        \"acdp_df\":gen_acdp_results[\"acdp_df_pickle\"],\n",
    "        \"num_samples\":10,\n",
    "        \"cytoband_df\":\n",
    "    }"
   ]
  }
 ],
 "metadata": {
  "kernelspec": {
   "display_name": "Python 3 (ipykernel)",
   "language": "python",
   "name": "python3"
  },
  "language_info": {
   "codemirror_mode": {
    "name": "ipython",
    "version": 3
   },
   "file_extension": ".py",
   "mimetype": "text/x-python",
   "name": "python",
   "nbconvert_exporter": "python",
   "pygments_lexer": "ipython3",
   "version": "3.8.12"
  }
 },
 "nbformat": 4,
 "nbformat_minor": 5
}
