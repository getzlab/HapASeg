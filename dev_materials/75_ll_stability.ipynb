{
 "cells": [
  {
   "cell_type": "code",
   "execution_count": 1,
   "id": "de32940b-b2b5-42d5-abb5-6477d350152a",
   "metadata": {
    "tags": []
   },
   "outputs": [],
   "source": [
    "import itertools\n",
    "import matplotlib.pyplot as plt\n",
    "import matplotlib as mpl\n",
    "import numpy as np\n",
    "import numpy_groupies as npg\n",
    "import pandas as pd\n",
    "import scipy.stats as s\n",
    "import scipy.special as ss\n",
    "import sortedcontainers as sc\n",
    "import os\n",
    "import tqdm"
   ]
  },
  {
   "cell_type": "code",
   "execution_count": 2,
   "id": "e42d9ead-652d-4145-add5-4512c4e04cc5",
   "metadata": {},
   "outputs": [
    {
     "name": "stderr",
     "output_type": "stream",
     "text": [
      "Cannot find path to gnomAD index; gnomAD functionality disabled.\n"
     ]
    }
   ],
   "source": [
    "os.environ[\"CAPY_REF_FA\"] = \"/home/opriebe/data/ref/hg19/Homo_sapiens_assembly19.fasta\"\n",
    "import hapaseg.coverage_MCMC as mcmc_cov\n",
    "import hapaseg.NB_coverage_MCMC as nb_cov\n",
    "from capy import mut, seq"
   ]
  },
  {
   "cell_type": "markdown",
   "id": "3502d140-cdd7-4177-af91-bf9b96d067c2",
   "metadata": {},
   "source": [
    "Load MCMC trace over SNP DP cluster assignments. Still looking at only the high purity exome"
   ]
  },
  {
   "cell_type": "code",
   "execution_count": 3,
   "id": "6d714898-1931-4348-aad2-de3c5b7864dd",
   "metadata": {},
   "outputs": [],
   "source": [
    "colors = mpl.cm.get_cmap(\"tab10\").colors"
   ]
  },
  {
   "cell_type": "markdown",
   "id": "c59daed7-4a27-4ca4-91dd-c01c86722ec6",
   "metadata": {},
   "source": [
    "### Load coverage"
   ]
  },
  {
   "cell_type": "code",
   "execution_count": 4,
   "id": "7395bd5f-a94e-4876-a0a0-96c532b30a33",
   "metadata": {},
   "outputs": [],
   "source": [
    "Cov = pd.read_csv(\"exome/6_C1D1_META.cov\", sep = \"\\t\", names = [\"chr\", \"start\", \"end\", \"covcorr\", \"covraw\"], low_memory=False)\n",
    "Cov[\"chr\"] = mut.convert_chr(Cov[\"chr\"])\n",
    "Cov = Cov.loc[Cov[\"chr\"] != 0]\n",
    "Cov[\"start_g\"] = seq.chrpos2gpos(Cov[\"chr\"], Cov[\"start\"])\n",
    "Cov[\"end_g\"] = seq.chrpos2gpos(Cov[\"chr\"], Cov[\"end\"])"
   ]
  },
  {
   "cell_type": "markdown",
   "id": "b66d2ff3-b6a5-47ff-821e-7675f0b9b5a6",
   "metadata": {},
   "source": [
    "### Load covariates"
   ]
  },
  {
   "cell_type": "code",
   "execution_count": 5,
   "id": "978149a3-f8b6-467c-98e2-f302ffa5c18e",
   "metadata": {},
   "outputs": [],
   "source": [
    "Cov[\"C_len\"] = Cov[\"end\"] - Cov[\"start\"] + 1\n",
    "\n",
    "# load repl timing\n",
    "F = pd.read_pickle(\"covars/GSE137764_H1.hg19_liftover.pickle\")\n",
    "\n",
    "# map targets to RT intervals\n",
    "tidx = mut.map_mutations_to_targets(Cov.rename(columns = { \"start\" : \"pos\" }), F, inplace = False)\n",
    "Cov.loc[tidx.index, \"C_RT\"] = F.iloc[tidx, 3:].mean(1).values\n",
    "\n",
    "# z-transform\n",
    "Cov[\"C_RT_z\"] = (lambda x : (x - np.nanmean(x))/np.nanstd(x))(np.log(Cov[\"C_RT\"] + 1e-20))\n",
    "\n",
    "#load GC content\n",
    "B = pd.read_pickle(\"covars/GC.pickle\")\n",
    "Cov = Cov.merge(B.rename(columns = { \"gc\" : \"C_GC\" }), left_on = [\"chr\", \"start\", \"end\"], right_on = [\"chr\", \"start\", \"end\"], how = \"left\")\n",
    "Cov[\"C_GC_z\"] = (lambda x : (x - np.nanmean(x))/np.nanstd(x))(np.log(Cov[\"C_GC\"] + 1e-20))"
   ]
  },
  {
   "cell_type": "code",
   "execution_count": 6,
   "id": "96bfd729-7781-4e15-9dc7-1c0312dba959",
   "metadata": {},
   "outputs": [],
   "source": [
    "clust = np.load(\"exome/6_C1D1_META.DP_clusts.auto_ref_correct.overdispersion92.no_phase_correct.npz\")"
   ]
  },
  {
   "cell_type": "markdown",
   "id": "6a5f387a-7b38-484a-a5d9-b4fb57a435a3",
   "metadata": {
    "tags": []
   },
   "source": [
    "#### Load chromosome boundary coordinates"
   ]
  },
  {
   "cell_type": "code",
   "execution_count": 7,
   "id": "b2380846-b051-4b12-b8de-831721217e05",
   "metadata": {},
   "outputs": [],
   "source": [
    "allelic_segs = pd.read_pickle(\"exome/6_C1D1_META.allelic_segs.auto_ref_correct.overdispersion92.no_phase_correct.pickle\")\n",
    "chrbdy = allelic_segs.dropna().loc[:, [\"start\", \"end\"]]\n",
    "chr_ends = chrbdy.loc[chrbdy[\"start\"] != 0, \"end\"].cumsum()"
   ]
  },
  {
   "cell_type": "code",
   "execution_count": 8,
   "id": "d94bb3f2-5760-44e8-9ed3-a675ab4f5f10",
   "metadata": {},
   "outputs": [
    {
     "data": {
      "text/plain": [
       "(500, 11768)"
      ]
     },
     "execution_count": 8,
     "metadata": {},
     "output_type": "execute_result"
    }
   ],
   "source": [
    "clust[\"snps_to_clusters\"].shape"
   ]
  },
  {
   "cell_type": "code",
   "execution_count": 9,
   "id": "773e5e98-6168-43dc-841c-646c21348d1a",
   "metadata": {
    "tags": []
   },
   "outputs": [],
   "source": [
    "SNPs = pd.read_pickle(\"exome/6_C1D1_META.SNPs.pickle\")\n",
    "SNPs[\"chr\"], SNPs[\"pos\"] = seq.gpos2chrpos(SNPs[\"gpos\"])\n",
    "\n",
    "SNPs[\"tidx\"] = mut.map_mutations_to_targets(SNPs, Cov, inplace = False)\n",
    "\n",
    "#generate unique clust assignments\n",
    "clust_u, clust_uj = np.unique(clust[\"snps_to_clusters\"], return_inverse = True)\n",
    "clust_uj = clust_uj.reshape(clust[\"snps_to_clusters\"].shape)"
   ]
  },
  {
   "cell_type": "markdown",
   "id": "a80fa2dd-8b15-46a3-b9f9-c04aadb0f353",
   "metadata": {},
   "source": [
    "### load SNPs from single DP iteration"
   ]
  },
  {
   "cell_type": "code",
   "execution_count": 10,
   "id": "f6f83efa-ff53-4f24-9042-6ee43c2fa1b1",
   "metadata": {},
   "outputs": [],
   "source": [
    "iter_ind = 499\n",
    "SNPs = pd.read_pickle(\"exome/6_C1D1_META.SNPs.pickle\")\n",
    "SNPs[\"chr\"], SNPs[\"pos\"] = seq.gpos2chrpos(SNPs[\"gpos\"])\n",
    "\n",
    "SNPs[\"tidx\"] = mut.map_mutations_to_targets(SNPs, Cov, inplace = False)\n",
    "\n",
    "#generate unique clust assignments\n",
    "clust_u, clust_uj = np.unique(clust[\"snps_to_clusters\"], return_inverse = True)\n",
    "clust_uj = clust_uj.reshape(clust[\"snps_to_clusters\"].shape)\n",
    "\n",
    "#assign coverage intervals to clusters\n",
    "Cov_clust_probs = np.zeros([len(Cov), clust_u.max()])\n",
    "\n",
    "for targ, snp_idx in SNPs.groupby(\"tidx\").indices.items():\n",
    "    targ_clust_hist = np.bincount(clust_uj[499, snp_idx].ravel(), minlength = clust_u.max())\n",
    "\n",
    "    Cov_clust_probs[int(targ), :] = targ_clust_hist/targ_clust_hist.sum()\n",
    "\n",
    "#subset intervals containing SNPs\n",
    "overlap_idx = Cov_clust_probs.sum(1) > 0\n",
    "Cov_clust_probs_overlap = Cov_clust_probs[overlap_idx, :]\n",
    "\n",
    "#prune improbable assignments\n",
    "Cov_clust_probs_overlap[Cov_clust_probs_overlap < 0.05] = 0\n",
    "Cov_clust_probs_overlap /= Cov_clust_probs_overlap.sum(1)[:, None]\n",
    "prune_idx = Cov_clust_probs_overlap.sum(0) > 0\n",
    "Cov_clust_probs_overlap = Cov_clust_probs_overlap[:, prune_idx]"
   ]
  },
  {
   "cell_type": "code",
   "execution_count": 11,
   "id": "e4d65037-ae03-4348-be70-0400be397a5f",
   "metadata": {},
   "outputs": [],
   "source": [
    "import scipy.stats\n",
    "assgn_entropy = scipy.stats.entropy(Cov_clust_probs_overlap, axis=1)\n",
    "entropy_idx = (assgn_entropy == 0)\n",
    "\n",
    "#subsetting to only targets that overlap SNPs\n",
    "Cov_overlap = Cov.loc[overlap_idx, :]\n",
    "\n",
    "#subsetting to only targets with hard assignments\n",
    "Cov_overlap = Cov_overlap.loc[entropy_idx,:]\n",
    "\n",
    "r = np.c_[Cov_overlap[\"covcorr\"]]\n",
    "\n",
    "#making covariate matrix\n",
    "C = np.c_[np.log(Cov_overlap[\"C_len\"]), Cov_overlap[\"C_RT_z\"], Cov_overlap[\"C_GC_z\"]]\n",
    "\n",
    "Pi = Cov_clust_probs_overlap[entropy_idx,:].copy()\n",
    "\n",
    "#dropping Nans\n",
    "naidx = np.isnan(C[:, 1])\n",
    "r = r[~naidx]\n",
    "C = C[~naidx]\n",
    "Pi = Pi[~naidx]\n",
    "\n",
    "Cov_overlap = Cov_overlap.iloc[~naidx]\n",
    "\n",
    "mu = np.log(r.mean()*np.ones([Pi.shape[1], 1])) / 2\n",
    "beta = np.ones([C.shape[1], 1])\n",
    "mu_i = np.zeros(C.shape[0])\n",
    "epsi = np.ones((mu.shape)) *2\n",
    "\n",
    "Cov_overlap['cluster_assgn'] = np.argmax(Pi, axis=1)"
   ]
  },
  {
   "cell_type": "markdown",
   "id": "b11be372-668c-4474-bdae-cd748d685e7a",
   "metadata": {},
   "source": [
    "almost all bins are unanimously assigned"
   ]
  },
  {
   "cell_type": "code",
   "execution_count": 12,
   "id": "25dab0a9-ef1e-4dda-802f-2bd457dc72a1",
   "metadata": {},
   "outputs": [],
   "source": [
    "#subsetting to only targets that overlap SNPs\n",
    "Cov_overlap = Cov.loc[overlap_idx, :]\n",
    "\n",
    "#subsetting to only targets with hard assignments\n",
    "Cov_overlap = Cov_overlap.loc[entropy_idx,:]\n",
    "\n",
    "r = np.c_[Cov_overlap[\"covcorr\"]]\n",
    "\n",
    "#making covariate matrix\n",
    "C = np.c_[np.log(Cov_overlap[\"C_len\"]), Cov_overlap[\"C_RT_z\"], Cov_overlap[\"C_GC_z\"]]\n",
    "\n",
    "Pi = Cov_clust_probs_overlap[entropy_idx,:].copy()"
   ]
  },
  {
   "cell_type": "code",
   "execution_count": 13,
   "id": "d7d7889e-7b37-47b8-91be-ba25954bda0a",
   "metadata": {},
   "outputs": [],
   "source": [
    "#dropping Nans\n",
    "naidx = np.isnan(C[:, 1])\n",
    "r = r[~naidx]\n",
    "C = C[~naidx]\n",
    "Pi = Pi[~naidx]"
   ]
  },
  {
   "cell_type": "code",
   "execution_count": 14,
   "id": "d8cdd29a-9e55-413f-984f-1b97e8333472",
   "metadata": {},
   "outputs": [],
   "source": [
    "Cov_overlap = Cov_overlap.iloc[~naidx]"
   ]
  },
  {
   "cell_type": "code",
   "execution_count": 15,
   "id": "bfea5fc6-a0b3-469f-88ae-a1fed06d05fa",
   "metadata": {},
   "outputs": [],
   "source": [
    "mu = np.log(r.mean()*np.ones([Pi.shape[1], 1])) / 2\n",
    "beta = np.ones([C.shape[1], 1])\n",
    "mu_i = np.zeros(C.shape[0])\n",
    "epsi = np.ones((mu.shape)) *2"
   ]
  },
  {
   "cell_type": "code",
   "execution_count": 16,
   "id": "7717ec82-632c-4771-bf10-0016e2372177",
   "metadata": {},
   "outputs": [],
   "source": [
    "Cov_overlap['cluster_assgn'] = np.argmax(Pi, axis=1)"
   ]
  },
  {
   "cell_type": "code",
   "execution_count": 17,
   "id": "ab620804-2dcc-4ce3-ae67-c64d86182854",
   "metadata": {},
   "outputs": [],
   "source": [
    "cov_18 = Cov_overlap.loc[Cov_overlap['cluster_assgn'] == 18]\n",
    "r_18 = np.c_[cov_18[\"covcorr\"]]\n",
    "\n",
    "#making covariate matrix\n",
    "C_18 = np.c_[np.log(cov_18[\"C_len\"]), cov_18[\"C_RT_z\"], cov_18[\"C_GC_z\"]]"
   ]
  },
  {
   "cell_type": "code",
   "execution_count": 18,
   "id": "a1f1e0e9-a2ba-406c-bf2d-4482341e6b82",
   "metadata": {},
   "outputs": [],
   "source": [
    "nb_mcmc = nb_cov.NB_MCMC(r, C, Pi)"
   ]
  },
  {
   "cell_type": "code",
   "execution_count": 19,
   "id": "d4884061-662d-4631-accf-b5b9fe42f464",
   "metadata": {},
   "outputs": [],
   "source": [
    "def scipy_ll(in_r, in_mu, in_C, in_beta, in_epsi_i, in_mu_i):\n",
    "    in_r = in_r.flatten()\n",
    "    in_mu= in_mu.flatten()\n",
    "    in_epsi_i = in_epsi_i.flatten()\n",
    "    in_mu_i = in_mu_i.flatten()\n",
    "    exp = np.exp(in_mu + in_C @ in_beta + in_mu_i).flatten()\n",
    "    return scipy.stats.nbinom.logpmf(in_r, in_epsi_i, (1-(exp / (exp + in_epsi_i)))).sum(0)"
   ]
  },
  {
   "cell_type": "code",
   "execution_count": 20,
   "id": "68fe623b-5fca-4696-9f26-592730244907",
   "metadata": {},
   "outputs": [],
   "source": [
    "def ll_cluster(in_r, in_mu, in_C, in_beta, in_epsi_i, in_mu_i):\n",
    "    in_r = in_r.flatten()\n",
    "    in_mu= in_mu.flatten()\n",
    "    in_epsi_i = in_epsi_i.flatten()\n",
    "    in_mu_i = in_mu_i.flatten()\n",
    "    bc = (in_C @ in_beta).flatten()\n",
    "    \n",
    "    exp = np.exp(in_mu + bc + in_mu_i).flatten()\n",
    "    return (ss.gammaln(in_r + in_epsi_i) - ss.gammaln(in_r + 1) - ss.gammaln(in_epsi_i) + (in_r * (in_mu + bc + in_mu_i - np.log(in_epsi_i + exp))) + (in_epsi_i * (np.log(in_epsi_i) - np.log(in_epsi_i + exp))))"
   ]
  },
  {
   "cell_type": "code",
   "execution_count": 21,
   "id": "9832aceb-ead3-44f8-886b-4ca5bc8e3d5c",
   "metadata": {},
   "outputs": [],
   "source": [
    "mu_i = np.zeros(40)"
   ]
  },
  {
   "cell_type": "code",
   "execution_count": 54,
   "id": "12143691-e940-4b31-b518-dcbe238f6119",
   "metadata": {},
   "outputs": [],
   "source": [
    "res = []\n",
    "statsres = []\n",
    "leps = np.r_[-100:40:0.1]\n",
    "for lep in leps:\n",
    "    res.append(ll_cluster(r_18[0], nb_mcmc.clusters[18].mu, nb_mcmc.clusters[18].C[0,:], nb_mcmc.clusters[18].beta, np.exp(lep), mu_i[0]))\n",
    "    statsres.append(scipy_ll(r_18[0], nb_mcmc.clusters[18].mu, nb_mcmc.clusters[18].C[0,:], nb_mcmc.clusters[18].beta, np.exp(lep), mu_i[0]))"
   ]
  },
  {
   "cell_type": "code",
   "execution_count": 55,
   "id": "674da0fb-d830-4b18-88f8-bb85ce7d7a70",
   "metadata": {},
   "outputs": [
    {
     "data": {
      "text/plain": [
       "[<matplotlib.lines.Line2D at 0x7fccec63c160>]"
      ]
     },
     "execution_count": 55,
     "metadata": {},
     "output_type": "execute_result"
    },
    {
     "data": {
      "image/png": "[encoded data removed]",
      "text/plain": [
       "<Figure size 432x288 with 1 Axes>"
      ]
     },
     "metadata": {
      "needs_background": "light"
     },
     "output_type": "display_data"
    }
   ],
   "source": [
    "plt.plot(leps, res)"
   ]
  },
  {
   "cell_type": "code",
   "execution_count": 56,
   "id": "aad47bb3-d036-4736-a6d7-0bff0802b18a",
   "metadata": {},
   "outputs": [
    {
     "data": {
      "text/plain": [
       "[<matplotlib.lines.Line2D at 0x7fccec1dfe20>]"
      ]
     },
     "execution_count": 56,
     "metadata": {},
     "output_type": "execute_result"
    },
    {
     "data": {
      "image/png": "[encoded data removed]",
      "text/plain": [
       "<Figure size 432x288 with 1 Axes>"
      ]
     },
     "metadata": {
      "needs_background": "light"
     },
     "output_type": "display_data"
    }
   ],
   "source": [
    "plt.plot(leps, statsres)"
   ]
  },
  {
   "cell_type": "code",
   "execution_count": 58,
   "id": "7174ad5a-89de-444f-8a8e-4e960d4c1bc2",
   "metadata": {},
   "outputs": [
    {
     "data": {
      "text/plain": [
       "<matplotlib.collections.PathCollection at 0x7fccec0e24f0>"
      ]
     },
     "execution_count": 58,
     "metadata": {},
     "output_type": "execute_result"
    },
    {
     "data": {
      "image/png": "[encoded data removed]",
      "text/plain": [
       "<Figure size 432x288 with 1 Axes>"
      ]
     },
     "metadata": {
      "needs_background": "light"
     },
     "output_type": "display_data"
    }
   ],
   "source": [
    "plt.scatter(res, statsres)"
   ]
  },
  {
   "cell_type": "code",
   "execution_count": 74,
   "id": "18205dc1-3bf0-4103-bf23-733dd744a649",
   "metadata": {},
   "outputs": [],
   "source": [
    "res = []\n",
    "statsres = []\n",
    "leps = np.r_[-10:40:0.1]\n",
    "for lep in leps:\n",
    "    res.append(ll_cluster(r_18.flatten(), nb_mcmc.clusters[18].mu, nb_mcmc.clusters[18].C, nb_mcmc.clusters[18].beta, np.exp(lep), mu_i).sum())\n",
    "    #statsres.append(scipy_ll(r_18.flatten(), nb_mcmc.clusters[18].mu, nb_mcmc.clusters[18].C, nb_mcmc.clusters[18].beta, np.exp(lep), mu_i))"
   ]
  },
  {
   "cell_type": "code",
   "execution_count": 75,
   "id": "9cc210f4-21d8-43b0-b53c-66053cff3f27",
   "metadata": {},
   "outputs": [
    {
     "data": {
      "text/plain": [
       "[<matplotlib.lines.Line2D at 0x7fcce7da9d00>]"
      ]
     },
     "execution_count": 75,
     "metadata": {},
     "output_type": "execute_result"
    },
    {
     "data": {
      "image/png": "[encoded data removed]",
      "text/plain": [
       "<Figure size 432x288 with 1 Axes>"
      ]
     },
     "metadata": {
      "needs_background": "light"
     },
     "output_type": "display_data"
    }
   ],
   "source": [
    "plt.plot(leps, res)"
   ]
  },
  {
   "cell_type": "code",
   "execution_count": 56,
   "id": "3a094f4b-9298-4e19-81d0-7fdf20b0e816",
   "metadata": {},
   "outputs": [
    {
     "data": {
      "text/plain": [
       "[<matplotlib.lines.Line2D at 0x7fccec1dfe20>]"
      ]
     },
     "execution_count": 56,
     "metadata": {},
     "output_type": "execute_result"
    },
    {
     "data": {
      "image/png": "[encoded data removed]",
      "text/plain": [
       "<Figure size 432x288 with 1 Axes>"
      ]
     },
     "metadata": {
      "needs_background": "light"
     },
     "output_type": "display_data"
    }
   ],
   "source": [
    "plt.plot(leps, statsres)"
   ]
  },
  {
   "cell_type": "code",
   "execution_count": 58,
   "id": "da63433d-56e8-425e-a7a2-c178108bae78",
   "metadata": {},
   "outputs": [
    {
     "data": {
      "text/plain": [
       "<matplotlib.collections.PathCollection at 0x7fccec0e24f0>"
      ]
     },
     "execution_count": 58,
     "metadata": {},
     "output_type": "execute_result"
    },
    {
     "data": {
      "image/png": "[encoded data removed]",
      "text/plain": [
       "<Figure size 432x288 with 1 Axes>"
      ]
     },
     "metadata": {
      "needs_background": "light"
     },
     "output_type": "display_data"
    }
   ],
   "source": [
    "plt.scatter(res, statsres)"
   ]
  },
  {
   "cell_type": "markdown",
   "id": "f5b60569-b4c4-4afa-bf19-f0278154b13a",
   "metadata": {},
   "source": [
    "need to cutoff epsilon at ~35"
   ]
  },
  {
   "cell_type": "code",
   "execution_count": 25,
   "id": "7dc8f681-5a38-40fc-813e-fff5f864b5de",
   "metadata": {},
   "outputs": [],
   "source": [
    "def NR_segment(self, ind, ret_hess=False):\n",
    "    # start by setting mu_i to the average of the residuals\n",
    "    mui_init = np.log(np.exp(np.log(self.r[ind[0]:ind[1]]) - (self.mu) - \n",
    "        (self.C[ind[0]:ind[1],:]@self.beta).flatten()).mean())\n",
    "    #lepsi_init = np.log((((np.log(self.r[ind[0]:ind[1]]) - self.mu)**2 / self.mu - 1)).sum() / (ind[1]-ind[0]))\n",
    "    self.mu_i = mui_init\n",
    "    self.lepsi_i = self.lepsi_i_arr[ind[0]]\n",
    "    cur_iter = 0\n",
    "    max_iter = 50\n",
    "    while(cur_iter < max_iter):\n",
    "        self.epsi_i = np.exp(self.lepsi_i)\n",
    "        self.exp = np.exp(self.mu + (self.C[ind[0]:ind[1]] @ self.beta).flatten() + self.mu_i)\n",
    "\n",
    "        gmu_i = self.gradmu_i(ind)\n",
    "        hmu_i = self.hessmu_i(ind)\n",
    "        gepsi_i = self.gradepsi_i(ind)\n",
    "        hepsi_i = self.hessepsi_i(ind) * self.epsi_i ** 2 + gmu_i * self.epsi_i\n",
    "        hmuepsi_i = self.hessepsi_i(ind)\n",
    "\n",
    "        grad = np.r_[gmu_i, gepsi_i * self.epsi_i]\n",
    "        H = np.r_[np.c_[hmu_i, hmuepsi_i], np.c_[hmuepsi_i, hepsi_i]]\n",
    "\n",
    "        try:\n",
    "            inv_H = np.linalg.inv(H)\n",
    "        except:\n",
    "            print('reached singular matrix. reseeting with grid search')\n",
    "            self.lepsi_i = self.ll_gridsearch(ind)\n",
    "            continue\n",
    "        delta = inv_H @ grad\n",
    "\n",
    "        self.mu_i -= delta[0]\n",
    "        self.lepsi_i -= delta[1]\n",
    "\n",
    "        if np.isnan(self.mu_i):\n",
    "            # if we hit a nan try a new initialization\n",
    "            print('hit a nan in optimizer, reseting')\n",
    "            self.mu_i = mui_init + np.random.rand() - 0.5\n",
    "            self.lepsi_i = self.ll_gridsearch(ind)\n",
    "            continue\n",
    "\n",
    "        if np.linalg.norm(grad) < 1e-5:\n",
    "            #print('opt reached')\n",
    "            #print(np.linalg.det)\n",
    "            break\n",
    "\n",
    "        if cur_iter == 25:\n",
    "            #if its taking this long we should reset with a grid search\n",
    "            print('failing to converge. Trying grid search')\n",
    "            self.mu_i = mui_init\n",
    "            self.lepsi_i = self.ll_gridsearch(ind)\n",
    "\n",
    "        if cur_iter == 49:\n",
    "            print('failed to optimize: ', ind)\n",
    "        cur_iter += 1\n",
    "    #print(ind, self.mu_i, self.lepsi_i)\n",
    "    # need to theshold due to overflow\n",
    "    self.lepsi_i = min(self.lepsi_i, 40)\n",
    "    if ret_hess:\n",
    "        return self.mu_i, self.lepsi_i, H\n",
    "    else:\n",
    "        return self.mu_i, self.lepsi_i"
   ]
  },
  {
   "cell_type": "code",
   "execution_count": 62,
   "id": "4a67158f-74ca-4ef4-a702-2cc4b3a9500c",
   "metadata": {},
   "outputs": [],
   "source": [
    "a, b = nb_mcmc.clusters[1].stats_optimizer((102,125))"
   ]
  },
  {
   "cell_type": "code",
   "execution_count": 66,
   "id": "8204e74f-750a-4b98-aee0-58a62ccabb01",
   "metadata": {},
   "outputs": [],
   "source": [
    "c, d = NR_segment(nb_mcmc.clusters[1], (102,125))"
   ]
  },
  {
   "cell_type": "code",
   "execution_count": 65,
   "id": "340d323e-b32b-4150-8e66-1523eec08638",
   "metadata": {},
   "outputs": [
    {
     "data": {
      "text/plain": [
       "-221.1154552105259"
      ]
     },
     "execution_count": 65,
     "metadata": {},
     "output_type": "execute_result"
    }
   ],
   "source": [
    "nb_mcmc.clusters[1].ll_nbinom(nb_mcmc.clusters[1].r[102:125], nb_mcmc.clusters[1].mu, nb_mcmc.clusters[1].C[102:125], nb_mcmc.clusters[1].beta, np.ones(C[102:125].shape[0]) * a, b)"
   ]
  },
  {
   "cell_type": "code",
   "execution_count": 67,
   "id": "94692d0b-1693-49e1-8e5d-f9b4cf4e3cb8",
   "metadata": {},
   "outputs": [
    {
     "data": {
      "text/plain": [
       "-218.40575546656908"
      ]
     },
     "execution_count": 67,
     "metadata": {},
     "output_type": "execute_result"
    }
   ],
   "source": [
    "nb_mcmc.clusters[1].ll_nbinom(nb_mcmc.clusters[1].r[102:125],  nb_mcmc.clusters[1].mu, nb_mcmc.clusters[1].C[102:125],  nb_mcmc.clusters[1].beta, np.ones(C[102:125].shape[0]) * c, d)"
   ]
  },
  {
   "cell_type": "code",
   "execution_count": 23,
   "id": "a151c921-118a-4a82-8968-e724fb207bbf",
   "metadata": {},
   "outputs": [
    {
     "data": {
      "text/plain": [
       "(-0.07282043852316707, 3.9209187190936334)"
      ]
     },
     "execution_count": 23,
     "metadata": {},
     "output_type": "execute_result"
    }
   ],
   "source": [
    "a, b = nb_mcmc.clusters[1].stats_optimizer((565,568))\n",
    "a,b"
   ]
  },
  {
   "cell_type": "code",
   "execution_count": 26,
   "id": "b29552df-9f97-4a76-8d58-353058d5dfe3",
   "metadata": {},
   "outputs": [
    {
     "name": "stdout",
     "output_type": "stream",
     "text": [
      "failing to converge. Trying grid search\n"
     ]
    },
    {
     "data": {
      "text/plain": [
       "(-0.07282384320365129, 3.6373922884927286)"
      ]
     },
     "execution_count": 26,
     "metadata": {},
     "output_type": "execute_result"
    }
   ],
   "source": [
    "c, d = NR_segment(nb_mcmc.clusters[1], (565,568))\n",
    "c,d"
   ]
  },
  {
   "cell_type": "code",
   "execution_count": 27,
   "id": "f34f60c9-83e8-45c3-afb5-f39d0874056c",
   "metadata": {},
   "outputs": [
    {
     "data": {
      "text/plain": [
       "-33.76650692952148"
      ]
     },
     "execution_count": 27,
     "metadata": {},
     "output_type": "execute_result"
    }
   ],
   "source": [
    "nb_mcmc.clusters[1].ll_nbinom(nb_mcmc.clusters[1].r[565:568], nb_mcmc.clusters[1].mu, nb_mcmc.clusters[1].C[565:568], nb_mcmc.clusters[1].beta, np.ones(C[565:568].shape[0]) * a, b)"
   ]
  },
  {
   "cell_type": "code",
   "execution_count": 30,
   "id": "6cdb44b9-6f0a-4382-a1d4-2f06f2c5a685",
   "metadata": {},
   "outputs": [
    {
     "data": {
      "text/plain": [
       "-33.69959434887028"
      ]
     },
     "execution_count": 30,
     "metadata": {},
     "output_type": "execute_result"
    }
   ],
   "source": [
    "nb_mcmc.clusters[1].ll_nbinom(nb_mcmc.clusters[1].r[565:568],  nb_mcmc.clusters[1].mu, nb_mcmc.clusters[1].C[565:568],  nb_mcmc.clusters[1].beta, np.ones(C[565:568].shape[0]) * c, d)"
   ]
  },
  {
   "cell_type": "code",
   "execution_count": 39,
   "id": "b0dc9b84-988e-4d15-be43-3422b19cd9fc",
   "metadata": {
    "collapsed": true,
    "jupyter": {
     "outputs_hidden": true
    },
    "tags": []
   },
   "outputs": [
    {
     "name": "stdout",
     "output_type": "stream",
     "text": [
      "[-8.52656198 -7.42589343 -8.20260924 -8.05459024 -9.54733176 -7.62494714\n",
      " -9.61672041 -8.56460801 -7.69799497 -7.57706177 -9.83511472 -8.35597521\n",
      " -7.44766773 -7.4484379  -7.76036449 -7.81742123 -7.76719441 -8.01894001\n",
      " -8.65517727 -9.73951525 -7.43622688 -7.95382693 -8.43516748]\n",
      "13.498864220798545\n",
      "-11.715310084151959\n",
      "[-46.93954294 -45.83847673 -46.61551437 -46.46745166 -47.96043947\n",
      " -46.03763801 -48.02983291 -46.97759636 -46.11072024 -45.98972869\n",
      " -48.24824029 -46.7689193  -45.86026387 -45.86103449 -46.17311721\n",
      " -46.2301976  -46.17995003 -46.4317899  -47.06818214 -48.15263545\n",
      " -45.84881631 -46.36665467 -46.84812947]\n",
      "13.594852155089935\n",
      "-50.12848102599814\n",
      "[-46.93954294 -45.83847673 -46.61551437 -46.46745166 -47.96043947\n",
      " -46.03763801 -48.02983291 -46.97759636 -46.11072024 -45.98972869\n",
      " -48.24824029 -46.7689193  -45.86026387 -45.86103449 -46.17311721\n",
      " -46.2301976  -46.17995003 -46.4317899  -47.06818214 -48.15263545\n",
      " -45.84881631 -46.36665467 -46.84812947]\n",
      "13.594852155089935\n",
      "-50.12848102599814\n",
      "[-46.93954294 -45.83847673 -46.61551437 -46.46745166 -47.96043947\n",
      " -46.03763801 -48.02983291 -46.97759636 -46.11072024 -45.98972869\n",
      " -48.24824029 -46.7689193  -45.86026387 -45.86103449 -46.17311721\n",
      " -46.2301976  -46.17995003 -46.4317899  -47.06818214 -48.15263545\n",
      " -45.84881631 -46.36665467 -46.84812947]\n",
      "13.594852155089935\n",
      "-50.12848102599814\n",
      "[-46.93954294 -45.83847673 -46.61551437 -46.46745166 -47.96043947\n",
      " -46.03763801 -48.02983291 -46.97759636 -46.11072024 -45.98972869\n",
      " -48.24824029 -46.7689193  -45.86026387 -45.86103449 -46.17311721\n",
      " -46.2301976  -46.17995003 -46.4317899  -47.06818214 -48.15263545\n",
      " -45.84881631 -46.36665467 -46.84812947]\n",
      "13.594852155089935\n",
      "-50.12848102599814\n",
      "[-46.93954294 -45.83847673 -46.61551437 -46.46745166 -47.96043947\n",
      " -46.03763801 -48.02983291 -46.97759636 -46.11072024 -45.98972869\n",
      " -48.24824029 -46.7689193  -45.86026387 -45.86103449 -46.17311721\n",
      " -46.2301976  -46.17995003 -46.4317899  -47.06818214 -48.15263545\n",
      " -45.84881631 -46.36665467 -46.84812947]\n",
      "13.594852155089935\n",
      "-50.12848102599814\n",
      "[-46.93954294 -45.83847673 -46.61551437 -46.46745166 -47.96043947\n",
      " -46.03763801 -48.02983291 -46.97759636 -46.11072024 -45.98972869\n",
      " -48.24824029 -46.7689193  -45.86026387 -45.86103449 -46.17311721\n",
      " -46.2301976  -46.17995003 -46.4317899  -47.06818214 -48.15263545\n",
      " -45.84881631 -46.36665467 -46.84812947]\n",
      "13.594852155089935\n",
      "-50.12848102599814\n",
      "[-46.93954294 -45.83847673 -46.61551437 -46.46745166 -47.96043947\n",
      " -46.03763801 -48.02983291 -46.97759636 -46.11072024 -45.98972869\n",
      " -48.24824029 -46.7689193  -45.86026387 -45.86103449 -46.17311721\n",
      " -46.2301976  -46.17995003 -46.4317899  -47.06818214 -48.15263545\n",
      " -45.84881631 -46.36665467 -46.84812947]\n",
      "13.594852155089935\n",
      "-50.12848102599814\n",
      "[-46.93954294 -45.83847673 -46.61551437 -46.46745166 -47.96043947\n",
      " -46.03763801 -48.02983291 -46.97759636 -46.11072024 -45.98972869\n",
      " -48.24824029 -46.7689193  -45.86026387 -45.86103449 -46.17311721\n",
      " -46.2301976  -46.17995003 -46.4317899  -47.06818214 -48.15263545\n",
      " -45.84881631 -46.36665467 -46.84812947]\n",
      "13.594852155089935\n",
      "-50.12848102599814\n",
      "[-46.93954294 -45.83847673 -46.61551437 -46.46745166 -47.96043947\n",
      " -46.03763801 -48.02983291 -46.97759636 -46.11072024 -45.98972869\n",
      " -48.24824029 -46.7689193  -45.86026387 -45.86103449 -46.17311721\n",
      " -46.2301976  -46.17995003 -46.4317899  -47.06818214 -48.15263545\n",
      " -45.84881631 -46.36665467 -46.84812947]\n",
      "13.594852155089935\n",
      "-50.12848102599814\n",
      "[-46.93954294 -45.83847673 -46.61551437 -46.46745166 -47.96043947\n",
      " -46.03763801 -48.02983291 -46.97759636 -46.11072024 -45.98972869\n",
      " -48.24824029 -46.7689193  -45.86026387 -45.86103449 -46.17311721\n",
      " -46.2301976  -46.17995003 -46.4317899  -47.06818214 -48.15263545\n",
      " -45.84881631 -46.36665467 -46.84812947]\n",
      "13.594852155089935\n",
      "-50.12848102599814\n",
      "[-46.93954294 -45.83847673 -46.61551437 -46.46745166 -47.96043947\n",
      " -46.03763801 -48.02983291 -46.97759636 -46.11072024 -45.98972869\n",
      " -48.24824029 -46.7689193  -45.86026387 -45.86103449 -46.17311721\n",
      " -46.2301976  -46.17995003 -46.4317899  -47.06818214 -48.15263545\n",
      " -45.84881631 -46.36665467 -46.84812947]\n",
      "13.594852155089935\n",
      "-50.12848102599814\n",
      "[-46.93954294 -45.83847673 -46.61551437 -46.46745166 -47.96043947\n",
      " -46.03763801 -48.02983291 -46.97759636 -46.11072024 -45.98972869\n",
      " -48.24824029 -46.7689193  -45.86026387 -45.86103449 -46.17311721\n",
      " -46.2301976  -46.17995003 -46.4317899  -47.06818214 -48.15263545\n",
      " -45.84881631 -46.36665467 -46.84812947]\n",
      "13.594852155089935\n",
      "-50.12848102599814\n",
      "[-46.93954294 -45.83847673 -46.61551437 -46.46745166 -47.96043947\n",
      " -46.03763801 -48.02983291 -46.97759636 -46.11072024 -45.98972869\n",
      " -48.24824029 -46.7689193  -45.86026387 -45.86103449 -46.17311721\n",
      " -46.2301976  -46.17995003 -46.4317899  -47.06818214 -48.15263545\n",
      " -45.84881631 -46.36665467 -46.84812947]\n",
      "13.594852155089935\n",
      "-50.12848102599814\n",
      "[-46.93954294 -45.83847673 -46.61551437 -46.46745166 -47.96043947\n",
      " -46.03763801 -48.02983291 -46.97759636 -46.11072024 -45.98972869\n",
      " -48.24824029 -46.7689193  -45.86026387 -45.86103449 -46.17311721\n",
      " -46.2301976  -46.17995003 -46.4317899  -47.06818214 -48.15263545\n",
      " -45.84881631 -46.36665467 -46.84812947]\n",
      "13.594852155089935\n",
      "-50.12848102599814\n",
      "[-46.93954294 -45.83847673 -46.61551437 -46.46745166 -47.96043947\n",
      " -46.03763801 -48.02983291 -46.97759636 -46.11072024 -45.98972869\n",
      " -48.24824029 -46.7689193  -45.86026387 -45.86103449 -46.17311721\n",
      " -46.2301976  -46.17995003 -46.4317899  -47.06818214 -48.15263545\n",
      " -45.84881631 -46.36665467 -46.84812947]\n",
      "13.594852155089935\n",
      "-50.12848102599814\n",
      "[-46.93954294 -45.83847673 -46.61551437 -46.46745166 -47.96043947\n",
      " -46.03763801 -48.02983291 -46.97759636 -46.11072024 -45.98972869\n",
      " -48.24824029 -46.7689193  -45.86026387 -45.86103449 -46.17311721\n",
      " -46.2301976  -46.17995003 -46.4317899  -47.06818214 -48.15263545\n",
      " -45.84881631 -46.36665467 -46.84812947]\n",
      "13.594852155089935\n",
      "-50.12848102599814\n",
      "[-46.93954294 -45.83847673 -46.61551437 -46.46745166 -47.96043947\n",
      " -46.03763801 -48.02983291 -46.97759636 -46.11072024 -45.98972869\n",
      " -48.24824029 -46.7689193  -45.86026387 -45.86103449 -46.17311721\n",
      " -46.2301976  -46.17995003 -46.4317899  -47.06818214 -48.15263545\n",
      " -45.84881631 -46.36665467 -46.84812947]\n",
      "13.594852155089935\n",
      "-50.12848102599814\n",
      "[-46.93954294 -45.83847673 -46.61551437 -46.46745166 -47.96043947\n",
      " -46.03763801 -48.02983291 -46.97759636 -46.11072024 -45.98972869\n",
      " -48.24824029 -46.7689193  -45.86026387 -45.86103449 -46.17311721\n",
      " -46.2301976  -46.17995003 -46.4317899  -47.06818214 -48.15263545\n",
      " -45.84881631 -46.36665467 -46.84812947]\n",
      "13.594852155089935\n",
      "-50.12848102599814\n",
      "[-46.93954294 -45.83847673 -46.61551437 -46.46745166 -47.96043947\n",
      " -46.03763801 -48.02983291 -46.97759636 -46.11072024 -45.98972869\n",
      " -48.24824029 -46.7689193  -45.86026387 -45.86103449 -46.17311721\n",
      " -46.2301976  -46.17995003 -46.4317899  -47.06818214 -48.15263545\n",
      " -45.84881631 -46.36665467 -46.84812947]\n",
      "13.594852155089935\n",
      "-50.12848102599814\n",
      "[-46.93954294 -45.83847673 -46.61551437 -46.46745166 -47.96043947\n",
      " -46.03763801 -48.02983291 -46.97759636 -46.11072024 -45.98972869\n",
      " -48.24824029 -46.7689193  -45.86026387 -45.86103449 -46.17311721\n",
      " -46.2301976  -46.17995003 -46.4317899  -47.06818214 -48.15263545\n",
      " -45.84881631 -46.36665467 -46.84812947]\n",
      "13.594852155089935\n",
      "-50.12848102599814\n",
      "[-46.93954294 -45.83847673 -46.61551437 -46.46745166 -47.96043947\n",
      " -46.03763801 -48.02983291 -46.97759636 -46.11072024 -45.98972869\n",
      " -48.24824029 -46.7689193  -45.86026387 -45.86103449 -46.17311721\n",
      " -46.2301976  -46.17995003 -46.4317899  -47.06818214 -48.15263545\n",
      " -45.84881631 -46.36665467 -46.84812947]\n",
      "13.594852155089935\n",
      "-50.12848102599814\n",
      "[-46.93954294 -45.83847673 -46.61551437 -46.46745166 -47.96043947\n",
      " -46.03763801 -48.02983291 -46.97759636 -46.11072024 -45.98972869\n",
      " -48.24824029 -46.7689193  -45.86026387 -45.86103449 -46.17311721\n",
      " -46.2301976  -46.17995003 -46.4317899  -47.06818214 -48.15263545\n",
      " -45.84881631 -46.36665467 -46.84812947]\n",
      "13.594852155089935\n",
      "-50.12848102599814\n",
      "[-46.93954294 -45.83847673 -46.61551437 -46.46745166 -47.96043947\n",
      " -46.03763801 -48.02983291 -46.97759636 -46.11072024 -45.98972869\n",
      " -48.24824029 -46.7689193  -45.86026387 -45.86103449 -46.17311721\n",
      " -46.2301976  -46.17995003 -46.4317899  -47.06818214 -48.15263545\n",
      " -45.84881631 -46.36665467 -46.84812947]\n",
      "13.594852155089935\n",
      "-50.12848102599814\n",
      "[-46.93954294 -45.83847673 -46.61551437 -46.46745166 -47.96043947\n",
      " -46.03763801 -48.02983291 -46.97759636 -46.11072024 -45.98972869\n",
      " -48.24824029 -46.7689193  -45.86026387 -45.86103449 -46.17311721\n",
      " -46.2301976  -46.17995003 -46.4317899  -47.06818214 -48.15263545\n",
      " -45.84881631 -46.36665467 -46.84812947]\n",
      "13.594852155089935\n",
      "-50.12848102599814\n",
      "[-46.93954294 -45.83847673 -46.61551437 -46.46745166 -47.96043947\n",
      " -46.03763801 -48.02983291 -46.97759636 -46.11072024 -45.98972869\n",
      " -48.24824029 -46.7689193  -45.86026387 -45.86103449 -46.17311721\n",
      " -46.2301976  -46.17995003 -46.4317899  -47.06818214 -48.15263545\n",
      " -45.84881631 -46.36665467 -46.84812947]\n",
      "13.594852155089935\n",
      "-50.12848102599814\n",
      "failing to converge. Trying grid search\n",
      "[-6.90691541 -5.80785625 -6.58326978 -6.4354278  -7.92717147 -6.00647493\n",
      " -7.99654072 -6.94493146 -6.07938358 -5.95868646 -8.21488205 -6.73647796\n",
      " -5.82957864 -5.830347   -6.14164204 -6.19860306 -6.14846022 -6.39982426\n",
      " -7.03543379 -8.11930436 -5.81816492 -6.33480087 -6.81559774]\n",
      "13.594893445809113\n",
      "-10.094893445809143\n",
      "[-7.94567748 -6.84532202 -7.62178446 -7.47379988 -8.96634741 -7.04429107\n",
      " -9.0357323  -7.98371768 -7.11731181 -6.99642455 -9.25411631 -7.77511974\n",
      " -6.86708621 -6.86785603 -7.17965972 -7.23669784 -7.18648736 -7.43815874\n",
      " -8.07427394 -9.15852107 -6.85565065 -7.3730631  -7.85429792]\n",
      "13.49413959102747\n",
      "-11.134275926018516\n",
      "[nan nan nan nan nan nan nan nan nan nan nan nan nan nan nan nan nan nan\n",
      " nan nan nan nan nan]\n",
      "nan\n",
      "nan\n",
      "hit a nan in optimizer, reseting\n",
      "[-8.66744416 -7.56672336 -8.34348146 -8.19545671 -9.68823059 -7.76579121\n",
      " -9.75761988 -8.70549116 -7.83884355 -7.71790269 -9.9760159  -8.49685254\n",
      " -7.58849935 -7.58926958 -7.90121668 -7.95827653 -7.90804698 -8.15980497\n",
      " -8.79606259 -9.88041573 -7.57705762 -8.09468898 -8.57604717]\n",
      "13.85621723149821\n",
      "-11.856217231498235\n",
      "[ -9.75671831  -8.65576834  -9.43271191  -9.28466197 -10.7775778\n",
      "  -8.85489817 -10.84696985  -9.79476957  -8.92797035  -8.80699585\n",
      " -11.0653734   -9.58610545  -8.67755172  -8.67832221  -8.99035929\n",
      "  -9.04743277  -8.99719126  -9.24900358  -9.88535053 -10.96977014\n",
      "  -8.66610612  -9.18387482  -9.66531039]\n",
      "13.429527241610291\n",
      "-12.945600881713046\n",
      "[-25.15347575 -24.05240955 -24.82944719 -24.68138448 -26.17437229\n",
      " -24.25157083 -26.24376573 -25.19152918 -24.32465306 -24.2036615\n",
      " -26.46217311 -24.98285212 -24.07419669 -24.07496731 -24.38705003\n",
      " -24.44413042 -24.39388285 -24.64572272 -25.28211496 -26.36656827\n",
      " -24.06274913 -24.58058748 -25.06206229]\n",
      "15.263771281333634\n",
      "-28.342413844233345\n",
      "[-25.15347575 -24.05240955 -24.82944719 -24.68138448 -26.17437229\n",
      " -24.25157083 -26.24376573 -25.19152918 -24.32465306 -24.2036615\n",
      " -26.46217311 -24.98285212 -24.07419669 -24.07496731 -24.38705003\n",
      " -24.44413042 -24.39388285 -24.64572272 -25.28211496 -26.36656827\n",
      " -24.06274913 -24.58058748 -25.06206229]\n",
      "15.263771281338\n",
      "-28.34241384423771\n",
      "[-25.15347575 -24.05240955 -24.82944719 -24.68138448 -26.17437229\n",
      " -24.25157083 -26.24376573 -25.19152918 -24.32465306 -24.2036615\n",
      " -26.46217311 -24.98285212 -24.07419669 -24.07496731 -24.38705003\n",
      " -24.44413042 -24.39388285 -24.64572272 -25.28211496 -26.36656827\n",
      " -24.06274913 -24.58058748 -25.06206229]\n",
      "15.263771281342365\n",
      "-28.342413844242074\n",
      "[-25.15347575 -24.05240955 -24.82944719 -24.68138448 -26.17437229\n",
      " -24.25157083 -26.24376573 -25.19152918 -24.32465306 -24.2036615\n",
      " -26.46217311 -24.98285212 -24.07419669 -24.07496731 -24.38705003\n",
      " -24.44413042 -24.39388285 -24.64572272 -25.28211496 -26.36656827\n",
      " -24.06274913 -24.58058748 -25.06206229]\n",
      "15.263771281346731\n",
      "-28.342413844246444\n",
      "[-25.15347575 -24.05240955 -24.82944719 -24.68138448 -26.17437229\n",
      " -24.25157083 -26.24376573 -25.19152918 -24.32465306 -24.2036615\n",
      " -26.46217311 -24.98285212 -24.07419669 -24.07496731 -24.38705003\n",
      " -24.44413042 -24.39388285 -24.64572272 -25.28211496 -26.36656827\n",
      " -24.06274913 -24.58058748 -25.06206229]\n",
      "15.263771281351096\n",
      "-28.342413844250807\n",
      "[-25.15347575 -24.05240955 -24.82944719 -24.68138448 -26.17437229\n",
      " -24.25157083 -26.24376573 -25.19152918 -24.32465306 -24.2036615\n",
      " -26.46217311 -24.98285212 -24.07419669 -24.07496731 -24.38705003\n",
      " -24.44413042 -24.39388285 -24.64572272 -25.28211496 -26.36656827\n",
      " -24.06274913 -24.58058748 -25.06206229]\n",
      "15.263771281355462\n",
      "-28.342413844255173\n",
      "[-25.15347575 -24.05240955 -24.82944719 -24.68138448 -26.17437229\n",
      " -24.25157083 -26.24376573 -25.19152918 -24.32465306 -24.2036615\n",
      " -26.46217311 -24.98285212 -24.07419669 -24.07496731 -24.38705003\n",
      " -24.44413042 -24.39388285 -24.64572272 -25.28211496 -26.36656827\n",
      " -24.06274913 -24.58058748 -25.06206229]\n",
      "15.263771281359826\n",
      "-28.34241384425954\n",
      "[-25.15347575 -24.05240955 -24.82944719 -24.68138448 -26.17437229\n",
      " -24.25157083 -26.24376573 -25.19152918 -24.32465306 -24.2036615\n",
      " -26.46217311 -24.98285212 -24.07419669 -24.07496731 -24.38705003\n",
      " -24.44413042 -24.39388285 -24.64572272 -25.28211496 -26.36656827\n",
      " -24.06274913 -24.58058748 -25.06206229]\n",
      "15.263771281364193\n",
      "-28.342413844263902\n",
      "[-25.15347575 -24.05240955 -24.82944719 -24.68138448 -26.17437229\n",
      " -24.25157083 -26.24376573 -25.19152918 -24.32465306 -24.2036615\n",
      " -26.46217311 -24.98285212 -24.07419669 -24.07496731 -24.38705003\n",
      " -24.44413042 -24.39388285 -24.64572272 -25.28211496 -26.36656827\n",
      " -24.06274913 -24.58058748 -25.06206229]\n",
      "15.263771281368557\n",
      "-28.34241384426827\n",
      "[-25.15347575 -24.05240955 -24.82944719 -24.68138448 -26.17437229\n",
      " -24.25157083 -26.24376573 -25.19152918 -24.32465306 -24.2036615\n",
      " -26.46217311 -24.98285212 -24.07419669 -24.07496731 -24.38705003\n",
      " -24.44413042 -24.39388285 -24.64572272 -25.28211496 -26.36656827\n",
      " -24.06274913 -24.58058748 -25.06206229]\n",
      "15.263771281372923\n",
      "-28.342413844272635\n",
      "[-25.15347575 -24.05240955 -24.82944719 -24.68138448 -26.17437229\n",
      " -24.25157083 -26.24376573 -25.19152918 -24.32465306 -24.2036615\n",
      " -26.46217311 -24.98285212 -24.07419669 -24.07496731 -24.38705003\n",
      " -24.44413042 -24.39388285 -24.64572272 -25.28211496 -26.36656827\n",
      " -24.06274913 -24.58058748 -25.06206229]\n",
      "15.263771281377288\n",
      "-28.342413844276997\n",
      "[-25.15347575 -24.05240955 -24.82944719 -24.68138448 -26.17437229\n",
      " -24.25157083 -26.24376573 -25.19152918 -24.32465306 -24.2036615\n",
      " -26.46217311 -24.98285212 -24.07419669 -24.07496731 -24.38705003\n",
      " -24.44413042 -24.39388285 -24.64572272 -25.28211496 -26.36656827\n",
      " -24.06274913 -24.58058748 -25.06206229]\n",
      "15.263771281381654\n",
      "-28.342413844281367\n",
      "[-25.15347575 -24.05240955 -24.82944719 -24.68138448 -26.17437229\n",
      " -24.25157083 -26.24376573 -25.19152918 -24.32465306 -24.2036615\n",
      " -26.46217311 -24.98285212 -24.07419669 -24.07496731 -24.38705003\n",
      " -24.44413042 -24.39388285 -24.64572272 -25.28211496 -26.36656827\n",
      " -24.06274913 -24.58058748 -25.06206229]\n",
      "15.263771281386019\n",
      "-28.34241384428573\n",
      "[-25.15347575 -24.05240955 -24.82944719 -24.68138448 -26.17437229\n",
      " -24.25157083 -26.24376573 -25.19152918 -24.32465306 -24.2036615\n",
      " -26.46217311 -24.98285212 -24.07419669 -24.07496731 -24.38705003\n",
      " -24.44413042 -24.39388285 -24.64572272 -25.28211496 -26.36656827\n",
      " -24.06274913 -24.58058748 -25.06206229]\n",
      "15.263771281390385\n",
      "-28.342413844290096\n",
      "[-25.15347575 -24.05240955 -24.82944719 -24.68138448 -26.17437229\n",
      " -24.25157083 -26.24376573 -25.19152918 -24.32465306 -24.2036615\n",
      " -26.46217311 -24.98285212 -24.07419669 -24.07496731 -24.38705003\n",
      " -24.44413042 -24.39388285 -24.64572272 -25.28211496 -26.36656827\n",
      " -24.06274913 -24.58058748 -25.06206229]\n",
      "15.26377128139475\n",
      "-28.342413844294462\n",
      "[-25.15347575 -24.05240955 -24.82944719 -24.68138448 -26.17437229\n",
      " -24.25157083 -26.24376573 -25.19152918 -24.32465306 -24.2036615\n",
      " -26.46217311 -24.98285212 -24.07419669 -24.07496731 -24.38705003\n",
      " -24.44413042 -24.39388285 -24.64572272 -25.28211496 -26.36656827\n",
      " -24.06274913 -24.58058748 -25.06206229]\n",
      "15.263771281399116\n",
      "-28.342413844298825\n",
      "[-25.15347575 -24.05240955 -24.82944719 -24.68138448 -26.17437229\n",
      " -24.25157083 -26.24376573 -25.19152918 -24.32465306 -24.2036615\n",
      " -26.46217311 -24.98285212 -24.07419669 -24.07496731 -24.38705003\n",
      " -24.44413042 -24.39388285 -24.64572272 -25.28211496 -26.36656827\n",
      " -24.06274913 -24.58058748 -25.06206229]\n",
      "15.26377128140348\n",
      "-28.34241384430319\n",
      "[-25.15347575 -24.05240955 -24.82944719 -24.68138448 -26.17437229\n",
      " -24.25157083 -26.24376573 -25.19152918 -24.32465306 -24.2036615\n",
      " -26.46217311 -24.98285212 -24.07419669 -24.07496731 -24.38705003\n",
      " -24.44413042 -24.39388285 -24.64572272 -25.28211496 -26.36656827\n",
      " -24.06274913 -24.58058748 -25.06206229]\n",
      "15.263771281407847\n",
      "-28.342413844307558\n",
      "[-25.15347575 -24.05240955 -24.82944719 -24.68138448 -26.17437229\n",
      " -24.25157083 -26.24376573 -25.19152918 -24.32465306 -24.2036615\n",
      " -26.46217311 -24.98285212 -24.07419669 -24.07496731 -24.38705003\n",
      " -24.44413042 -24.39388285 -24.64572272 -25.28211496 -26.36656827\n",
      " -24.06274913 -24.58058748 -25.06206229]\n",
      "15.263771281412211\n",
      "-28.34241384431192\n",
      "[-25.15347575 -24.05240955 -24.82944719 -24.68138448 -26.17437229\n",
      " -24.25157083 -26.24376573 -25.19152918 -24.32465306 -24.2036615\n",
      " -26.46217311 -24.98285212 -24.07419669 -24.07496731 -24.38705003\n",
      " -24.44413042 -24.39388285 -24.64572272 -25.28211496 -26.36656827\n",
      " -24.06274913 -24.58058748 -25.06206229]\n",
      "15.263771281416577\n",
      "-28.34241384431629\n",
      "failed to optimize:  (102, 125)\n"
     ]
    },
    {
     "name": "stderr",
     "output_type": "stream",
     "text": [
      "<ipython-input-32-69998c285b88>:11: RuntimeWarning: overflow encountered in exp\n",
      "  self.epsi_i = np.exp(self.lepsi_i)\n",
      "<ipython-input-38-4f9ea027316b>:2: RuntimeWarning: invalid value encountered in true_divide\n",
      "  return ((self.epsi_i * (self.r[ind[0]:ind[1]] - self.exp)) / (self.epsi_i + self.exp)).sum(0)\n",
      "<ipython-input-38-4f9ea027316b>:11: RuntimeWarning: invalid value encountered in true_divide\n",
      "  return (-(self.exp * self.epsi_i * (self.r[ind[0]: ind[1]] + self.epsi_i)) /\n",
      "<ipython-input-38-4f9ea027316b>:5: RuntimeWarning: invalid value encountered in true_divide\n",
      "  print(np.log(self.epsi_i / (self.exp + self.epsi_i)))\n",
      "<ipython-input-38-4f9ea027316b>:8: RuntimeWarning: invalid value encountered in subtract\n",
      "  return (ss.digamma(self.r[ind[0]: ind[1]] + self.epsi_i) - ss.digamma(self.epsi_i) + (self.exp - self.r[ind[0]: ind[1]] + self.exp * (np.log(self.epsi_i) - nb_cov.LSE(np.r_[np.log(self.exp), np.log(self.epsi_i)])) + self.epsi_i * np.log(self.epsi_i / (self.exp + self.epsi_i))) /(self.exp + self.epsi_i)).sum(0)\n",
      "<ipython-input-38-4f9ea027316b>:8: RuntimeWarning: invalid value encountered in true_divide\n",
      "  return (ss.digamma(self.r[ind[0]: ind[1]] + self.epsi_i) - ss.digamma(self.epsi_i) + (self.exp - self.r[ind[0]: ind[1]] + self.exp * (np.log(self.epsi_i) - nb_cov.LSE(np.r_[np.log(self.exp), np.log(self.epsi_i)])) + self.epsi_i * np.log(self.epsi_i / (self.exp + self.epsi_i))) /(self.exp + self.epsi_i)).sum(0)\n",
      "<ipython-input-38-4f9ea027316b>:16: RuntimeWarning: invalid value encountered in true_divide\n",
      "  ss.polygamma(1, self.epsi_i) + (self.exp ** 2 + self.r[ind[0]: ind[1]] * self.epsi_i) /\n"
     ]
    },
    {
     "data": {
      "text/plain": [
       "(1.275944258826208, -13.078642562899711)"
      ]
     },
     "execution_count": 39,
     "metadata": {},
     "output_type": "execute_result"
    }
   ],
   "source": [
    "NR_segment2(nb_mcmc.clusters[1], (102,125))"
   ]
  },
  {
   "cell_type": "code",
   "execution_count": 32,
   "id": "70df457b-d939-4aac-a3a1-114e7a77acab",
   "metadata": {},
   "outputs": [],
   "source": [
    "def NR_segment2(self, ind, ret_hess=False):\n",
    "    # start by setting mu_i to the average of the residuals\n",
    "    mui_init = np.log(np.exp(np.log(self.r[ind[0]:ind[1]]) - (self.mu) - \n",
    "        (self.C[ind[0]:ind[1],:]@self.beta).flatten()).mean())\n",
    "    #lepsi_init = np.log((((np.log(self.r[ind[0]:ind[1]]) - self.mu)**2 / self.mu - 1)).sum() / (ind[1]-ind[0]))\n",
    "    self.mu_i = mui_init\n",
    "    self.lepsi_i = self.lepsi_i_arr[ind[0]]\n",
    "    cur_iter = 0\n",
    "    max_iter = 50\n",
    "    while(cur_iter < max_iter):\n",
    "        self.epsi_i = np.exp(self.lepsi_i)\n",
    "        self.exp = np.exp(self.mu + (self.C[ind[0]:ind[1]] @ self.beta).flatten() + self.mu_i)\n",
    "\n",
    "        gmu_i = gradmu_i(self, ind)\n",
    "        hmu_i = hessmu_i(self, ind)\n",
    "        gepsi_i = gradepsi_i(self, ind)\n",
    "        hepsi_i = hessepsi_i(self, ind) * self.epsi_i ** 2 + gmu_i * self.epsi_i\n",
    "        hmuepsi_i = hessepsi_i(self, ind)\n",
    "\n",
    "        grad = np.r_[gmu_i, gepsi_i * self.epsi_i]\n",
    "        H = np.r_[np.c_[hmu_i, hmuepsi_i], np.c_[hmuepsi_i, hepsi_i]]\n",
    "\n",
    "        try:\n",
    "            inv_H = np.linalg.inv(H)\n",
    "        except:\n",
    "            print('reached singular matrix. reseeting with grid search')\n",
    "            self.lepsi_i = self.ll_gridsearch(ind)\n",
    "            continue\n",
    "        delta = inv_H @ grad\n",
    "\n",
    "        self.mu_i -= delta[0]\n",
    "        self.lepsi_i -= delta[1]\n",
    "\n",
    "        if np.isnan(self.mu_i):\n",
    "            # if we hit a nan try a new initialization\n",
    "            print('hit a nan in optimizer, reseting')\n",
    "            self.mu_i = mui_init + np.random.rand() - 0.5\n",
    "            self.lepsi_i = self.ll_gridsearch(ind)\n",
    "            continue\n",
    "\n",
    "        if np.linalg.norm(grad) < 1e-5:\n",
    "            #print('opt reached')\n",
    "            #print(np.linalg.det)\n",
    "            break\n",
    "\n",
    "        if cur_iter == 25:\n",
    "            #if its taking this long we should reset with a grid search\n",
    "            print('failing to converge. Trying grid search')\n",
    "            self.lepsi_i = self.ll_gridsearch(ind)\n",
    "\n",
    "        if cur_iter == 49:\n",
    "            print('failed to optimize: ', ind)\n",
    "        cur_iter += 1\n",
    "    #print(ind, self.mu_i, self.lepsi_i)\n",
    "    # need to theshold due to overflow\n",
    "    self.lepsi_i = min(self.lepsi_i, 40)\n",
    "    if ret_hess:\n",
    "        return self.mu_i, self.lepsi_i, H\n",
    "    else:\n",
    "        return self.mu_i, self.lepsi_i"
   ]
  },
  {
   "cell_type": "code",
   "execution_count": 38,
   "id": "97f34356-43ce-4b00-877a-9215a26616af",
   "metadata": {},
   "outputs": [],
   "source": [
    "def gradmu_i(self, ind):\n",
    "    return ((self.epsi_i * (self.r[ind[0]:ind[1]] - self.exp)) / (self.epsi_i + self.exp)).sum(0)\n",
    "\n",
    "def gradepsi_i(self, ind):\n",
    "    print(np.log(self.epsi_i / (self.exp + self.epsi_i)))\n",
    "    print(nb_cov.LSE(np.r_[np.log(self.exp), np.log(self.epsi_i)]))\n",
    "    print((np.log(self.epsi_i) - nb_cov.LSE(np.r_[np.log(self.exp), np.log(self.epsi_i)])))\n",
    "    return (ss.digamma(self.r[ind[0]: ind[1]] + self.epsi_i) - ss.digamma(self.epsi_i) + (self.exp - self.r[ind[0]: ind[1]] + self.exp * (np.log(self.epsi_i) - nb_cov.LSE(np.r_[np.log(self.exp), np.log(self.epsi_i)])) + self.epsi_i * np.log(self.epsi_i / (self.exp + self.epsi_i))) /(self.exp + self.epsi_i)).sum(0)\n",
    "\n",
    "def hessmu_i(self, ind):\n",
    "    return (-(self.exp * self.epsi_i * (self.r[ind[0]: ind[1]] + self.epsi_i)) /\n",
    "            ((self.exp + self.epsi_i) ** 2)).sum(0)\n",
    "\n",
    "def hessepsi_i(self, ind):\n",
    "    return (ss.polygamma(1, self.r[ind[0]: ind[1]] + self.epsi_i) -\n",
    "            ss.polygamma(1, self.epsi_i) + (self.exp ** 2 + self.r[ind[0]: ind[1]] * self.epsi_i) /\n",
    "            (self.epsi_i * (self.exp + self.epsi_i) ** 2)).sum(0)\n",
    "\n",
    "def hessmuepsi_i(self, ind):\n",
    "    return ((self.exp * (self.r[ind[0]: ind[1]] - self.exp)) / (self.exp + self.epsi_i) ** 2).sum(0)"
   ]
  },
  {
   "cell_type": "code",
   "execution_count": null,
   "id": "e5344f72-2ab4-4ccf-896b-90c537dbb1eb",
   "metadata": {},
   "outputs": [],
   "source": []
  }
 ],
 "metadata": {
  "kernelspec": {
   "display_name": "Python 3",
   "language": "python",
   "name": "python3"
  },
  "language_info": {
   "codemirror_mode": {
    "name": "ipython",
    "version": 3
   },
   "file_extension": ".py",
   "mimetype": "text/x-python",
   "name": "python",
   "nbconvert_exporter": "python",
   "pygments_lexer": "ipython3",
   "version": "3.8.8"
  }
 },
 "nbformat": 4,
 "nbformat_minor": 5
}
